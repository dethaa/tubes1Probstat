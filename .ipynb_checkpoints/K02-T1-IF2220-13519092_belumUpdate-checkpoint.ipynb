{
 "cells": [
  {
   "cell_type": "markdown",
   "metadata": {},
   "source": [
    "## Tugas Besar IF2220 Probabilitas dan Statistika"
   ]
  },
  {
   "cell_type": "markdown",
   "metadata": {},
   "source": [
    "Disusun oleh:\n",
    "1. Sharon Bernadetha Marbun (13519092)\n",
    "2. Nabelanita Utami (13519104)"
   ]
  },
  {
   "cell_type": "markdown",
   "metadata": {},
   "source": [
    "### 1. Data Statistika"
   ]
  },
  {
   "cell_type": "code",
   "execution_count": null,
   "metadata": {},
   "outputs": [],
   "source": [
    "import pandas as pd\n",
    "import scipy.stats as st\n",
    "from scipy import stats\n",
    "import matplotlib.pyplot as plt\n",
    "import random\n",
    "from IPython.display import display, Markdown, Latex\n",
    "data = pd.read_csv('Gandum.csv')"
   ]
  },
  {
   "cell_type": "code",
   "execution_count": null,
   "metadata": {
    "scrolled": false
   },
   "outputs": [],
   "source": [
    "display(Markdown(\"__Beberapa data statistik:__\"))\n",
    "df = data[data.columns[1:11]]\n",
    "stats = df.describe().loc[['mean']]\n",
    "stats.loc['med'] = df.describe().loc['50%'].tolist()\n",
    "#stats.loc['mode'] = df.mode()[:1].max().tolist()\n",
    "stats.loc['std'] = df.std().tolist()\n",
    "stats.loc['var'] = df.var().tolist()\n",
    "stats.loc['range'] = (df.max() - df.min()).tolist()\n",
    "stats = stats.append(df.describe().loc[['min','max','25%','50%','75%']])\n",
    "stats.loc['iqr'] = (stats.loc['75%'] - stats.loc['25%']).tolist()\n",
    "stats.loc['skew'] = df.skew().tolist()\n",
    "stats.loc['kurt'] = df.kurtosis().tolist()\n",
    "print(stats)\n"
   ]
  },
  {
   "cell_type": "markdown",
   "metadata": {},
   "source": [
    "__Legenda:__ <br>\n",
    "mean\t: mean <br>\n",
    "med\t    : median<br>\n",
    "std\t    : standar deviasi<br>\n",
    "var\t    : variansi<br>\n",
    "range\t: range<br>\n",
    "min\t: nilai minimum<br>\n",
    "max\t: nilai maksimum<br>\n",
    "25%\t: kuartil 1<br>\n",
    "50%\t: kuartil 2<br>\n",
    "75%\t: kuartil 3<br>\n",
    "iqr\t: IQR<br>\n",
    "skew\t: skewness<br>\n",
    "kurt\t: kurtosis<br>"
   ]
  },
  {
   "cell_type": "code",
   "execution_count": null,
   "metadata": {},
   "outputs": [],
   "source": [
    "display(Markdown(\"__Data modus:__ \"))\n",
    "df.mode()"
   ]
  },
  {
   "cell_type": "markdown",
   "metadata": {},
   "source": [
    "### 2. Visualisasi Kolom Distribusi"
   ]
  },
  {
   "cell_type": "markdown",
   "metadata": {},
   "source": [
    "#### Kolom ID"
   ]
  },
  {
   "cell_type": "code",
   "execution_count": null,
   "metadata": {},
   "outputs": [],
   "source": [
    "data['id'].hist(bins=50)\n",
    "plt.xlabel(\"Data ID Gandum\")\n",
    "plt.ylabel(\"Frekeunsi\")"
   ]
  },
  {
   "cell_type": "code",
   "execution_count": null,
   "metadata": {},
   "outputs": [],
   "source": []
  },
  {
   "cell_type": "markdown",
   "metadata": {},
   "source": [
    "#### Kolom Daerah"
   ]
  },
  {
   "cell_type": "code",
   "execution_count": 4,
   "metadata": {},
   "outputs": [
    {
     "data": {
      "text/plain": [
       "Text(0, 0.5, 'Frekuensi')"
      ]
     },
     "execution_count": 4,
     "metadata": {},
     "output_type": "execute_result"
    },
    {
     "data": {
      "image/png": "[encoded data removed]",
      "text/plain": [
       "<Figure size 432x288 with 1 Axes>"
      ]
     },
     "metadata": {
      "needs_background": "light"
     },
     "output_type": "display_data"
    }
   ],
   "source": [
    "data['Daerah'].hist(bins=50)\n",
    "plt.xlabel(\"Data Daerah Gandum\")\n",
    "plt.ylabel(\"Frekuensi\")"
   ]
  },
  {
   "cell_type": "markdown",
   "metadata": {},
   "source": [
    "Interpretasi: Distribusi data condong ke nilai-nilai yang lebih kecil karena skewness positif"
   ]
  },
  {
   "cell_type": "code",
   "execution_count": 5,
   "metadata": {},
   "outputs": [
    {
     "data": {
      "text/plain": [
       "Text(0, 0.5, 'Frekuensi')"
      ]
     },
     "execution_count": 5,
     "metadata": {},
     "output_type": "execute_result"
    },
    {
     "data": {
      "image/png": "[encoded data removed]",
      "text/plain": [
       "<Figure size 432x288 with 1 Axes>"
      ]
     },
     "metadata": {
      "needs_background": "light"
     },
     "output_type": "display_data"
    }
   ],
   "source": [
    "data.boxplot(column=['Daerah'], return_type='axes');\n",
    "plt.ylabel(\"Frekuensi\")"
   ]
  },
  {
   "cell_type": "markdown",
   "metadata": {},
   "source": [
    "Interpretasi: Boxplot menunjukan mean dari data yang nilainya lebih besar dari median serta tidak adanya pecilan"
   ]
  },
  {
   "cell_type": "markdown",
   "metadata": {},
   "source": [
    "#### Kolom SumbuUtama"
   ]
  },
  {
   "cell_type": "code",
   "execution_count": 6,
   "metadata": {},
   "outputs": [
    {
     "data": {
      "text/plain": [
       "Text(0, 0.5, 'Frekuensi')"
      ]
     },
     "execution_count": 6,
     "metadata": {},
     "output_type": "execute_result"
    },
    {
     "data": {
      "image/png": "[encoded data removed]",
      "text/plain": [
       "<Figure size 432x288 with 1 Axes>"
      ]
     },
     "metadata": {
      "needs_background": "light"
     },
     "output_type": "display_data"
    }
   ],
   "source": [
    "data['SumbuUtama'].hist(bins=50)\n",
    "plt.xlabel(\"Data Sumbu Utama Gandum\")\n",
    "plt.ylabel(\"Frekuensi\")"
   ]
  },
  {
   "cell_type": "markdown",
   "metadata": {},
   "source": [
    "Interpretasi: Distribusi data condong ke nilai-nilai yang lebih kecil karena skewness positif"
   ]
  },
  {
   "cell_type": "code",
   "execution_count": 7,
   "metadata": {},
   "outputs": [
    {
     "data": {
      "text/plain": [
       "Text(0, 0.5, 'Frekuensi')"
      ]
     },
     "execution_count": 7,
     "metadata": {},
     "output_type": "execute_result"
    },
    {
     "data": {
      "image/png": "[encoded data removed]",
      "text/plain": [
       "<Figure size 432x288 with 1 Axes>"
      ]
     },
     "metadata": {
      "needs_background": "light"
     },
     "output_type": "display_data"
    }
   ],
   "source": [
    "data.boxplot(column=['SumbuUtama'], return_type='axes')\n",
    "plt.ylabel(\"Frekuensi\")"
   ]
  },
  {
   "cell_type": "markdown",
   "metadata": {},
   "source": [
    "Interpretasi: Boxplot menunjukan mean dari data memiliki nilai yang lebih besar dari median dan tidak terdapat pecilan"
   ]
  },
  {
   "cell_type": "markdown",
   "metadata": {},
   "source": [
    "#### Kolom SumbuKecil"
   ]
  },
  {
   "cell_type": "code",
   "execution_count": 8,
   "metadata": {},
   "outputs": [
    {
     "data": {
      "text/plain": [
       "Text(0, 0.5, 'Frekuensi')"
      ]
     },
     "execution_count": 8,
     "metadata": {},
     "output_type": "execute_result"
    },
    {
     "data": {
      "image/png": "[encoded data removed]",
      "text/plain": [
       "<Figure size 432x288 with 1 Axes>"
      ]
     },
     "metadata": {
      "needs_background": "light"
     },
     "output_type": "display_data"
    }
   ],
   "source": [
    "data['SumbuKecil'].hist(bins=50)\n",
    "plt.xlabel(\"Data Sumbu Kecil Gandum\")\n",
    "plt.ylabel(\"Frekuensi\")"
   ]
  },
  {
   "cell_type": "markdown",
   "metadata": {},
   "source": [
    "Interpretasi: Skewness data simetris sehingga nilai mean dan median sama"
   ]
  },
  {
   "cell_type": "code",
   "execution_count": 9,
   "metadata": {},
   "outputs": [
    {
     "data": {
      "text/plain": [
       "Text(0, 0.5, 'Frekuensi')"
      ]
     },
     "execution_count": 9,
     "metadata": {},
     "output_type": "execute_result"
    },
    {
     "data": {
      "image/png": "[encoded data removed]",
      "text/plain": [
       "<Figure size 432x288 with 1 Axes>"
      ]
     },
     "metadata": {
      "needs_background": "light"
     },
     "output_type": "display_data"
    }
   ],
   "source": [
    "data.boxplot(column=['SumbuKecil'], return_type='axes')\n",
    "plt.ylabel(\"Frekuensi\")"
   ]
  },
  {
   "cell_type": "markdown",
   "metadata": {},
   "source": [
    "Interpretasi: Mean dari data memiliki nilai yang sama dengan median dan terdapat pecilan"
   ]
  },
  {
   "cell_type": "markdown",
   "metadata": {},
   "source": [
    "#### Kolom Keunikan"
   ]
  },
  {
   "cell_type": "code",
   "execution_count": 10,
   "metadata": {},
   "outputs": [
    {
     "data": {
      "text/plain": [
       "Text(0, 0.5, 'Frekuensi')"
      ]
     },
     "execution_count": 10,
     "metadata": {},
     "output_type": "execute_result"
    },
    {
     "data": {
      "image/png": "[encoded data removed]",
      "text/plain": [
       "<Figure size 432x288 with 1 Axes>"
      ]
     },
     "metadata": {
      "needs_background": "light"
     },
     "output_type": "display_data"
    }
   ],
   "source": [
    "data['Keunikan'].hist(bins=50)\n",
    "plt.xlabel(\"Data Keunikan Gandum\")\n",
    "plt.ylabel(\"Frekuensi\")"
   ]
  },
  {
   "cell_type": "markdown",
   "metadata": {},
   "source": [
    "Interpretasi: Skewness data negatif sehingga distribusi data condong ke nilai yang besar"
   ]
  },
  {
   "cell_type": "code",
   "execution_count": 11,
   "metadata": {},
   "outputs": [
    {
     "data": {
      "text/plain": [
       "Text(0, 0.5, 'Frekuensi')"
      ]
     },
     "execution_count": 11,
     "metadata": {},
     "output_type": "execute_result"
    },
    {
     "data": {
      "image/png": "[encoded data removed]",
      "text/plain": [
       "<Figure size 432x288 with 1 Axes>"
      ]
     },
     "metadata": {
      "needs_background": "light"
     },
     "output_type": "display_data"
    }
   ],
   "source": [
    "data.boxplot(column=['Keunikan'], return_type='axes')\n",
    "plt.ylabel(\"Frekuensi\")"
   ]
  },
  {
   "cell_type": "markdown",
   "metadata": {},
   "source": [
    "Interpretasi: Mean dari data memiliki nilai yang lebih kecil dari median dan terdapat pecilan"
   ]
  },
  {
   "cell_type": "markdown",
   "metadata": {},
   "source": [
    "#### Kolom AreaBulatan"
   ]
  },
  {
   "cell_type": "code",
   "execution_count": 12,
   "metadata": {},
   "outputs": [
    {
     "data": {
      "text/plain": [
       "Text(0, 0.5, 'Frekuensi')"
      ]
     },
     "execution_count": 12,
     "metadata": {},
     "output_type": "execute_result"
    },
    {
     "data": {
      "image/png": "[encoded data removed]",
      "text/plain": [
       "<Figure size 432x288 with 1 Axes>"
      ]
     },
     "metadata": {
      "needs_background": "light"
     },
     "output_type": "display_data"
    }
   ],
   "source": [
    "data['AreaBulatan'].hist(bins=50)\n",
    "plt.xlabel(\"Data Keunikan Gandum\")\n",
    "plt.ylabel(\"Frekuensi\")"
   ]
  },
  {
   "cell_type": "markdown",
   "metadata": {},
   "source": [
    "Interpretasi: Distribusi data condong ke nilai-nilai yang lebih kecil karena skewness positif"
   ]
  },
  {
   "cell_type": "code",
   "execution_count": 13,
   "metadata": {},
   "outputs": [
    {
     "data": {
      "text/plain": [
       "Text(0, 0.5, 'Frekeunsi')"
      ]
     },
     "execution_count": 13,
     "metadata": {},
     "output_type": "execute_result"
    },
    {
     "data": {
      "image/png": "[encoded data removed]",
      "text/plain": [
       "<Figure size 432x288 with 1 Axes>"
      ]
     },
     "metadata": {
      "needs_background": "light"
     },
     "output_type": "display_data"
    }
   ],
   "source": [
    "data.boxplot(column=['AreaBulatan'], return_type='axes')\n",
    "plt.ylabel(\"Frekeunsi\")"
   ]
  },
  {
   "cell_type": "markdown",
   "metadata": {},
   "source": [
    "Interpretasi: Boxplot menunjukan mean dari data memiliki nilai yang lebih besar dari median dan tidak terdapat pecilan"
   ]
  },
  {
   "cell_type": "markdown",
   "metadata": {},
   "source": [
    "#### Kolom Diameter"
   ]
  },
  {
   "cell_type": "code",
   "execution_count": 14,
   "metadata": {},
   "outputs": [
    {
     "data": {
      "text/plain": [
       "Text(0, 0.5, 'Frekuensi')"
      ]
     },
     "execution_count": 14,
     "metadata": {},
     "output_type": "execute_result"
    },
    {
     "data": {
      "image/png": "[encoded data removed]",
      "text/plain": [
       "<Figure size 432x288 with 1 Axes>"
      ]
     },
     "metadata": {
      "needs_background": "light"
     },
     "output_type": "display_data"
    }
   ],
   "source": [
    "data['Diameter'].hist(bins=50)\n",
    "plt.xlabel(\"Data Keunikan Gandum\")\n",
    "plt.ylabel(\"Frekuensi\")"
   ]
  },
  {
   "cell_type": "markdown",
   "metadata": {},
   "source": [
    "Interpretasi: Skewness data simetris sehingga distribusi data condong pada nilai tengah"
   ]
  },
  {
   "cell_type": "code",
   "execution_count": 15,
   "metadata": {},
   "outputs": [
    {
     "data": {
      "text/plain": [
       "Text(0, 0.5, 'Frekuensi')"
      ]
     },
     "execution_count": 15,
     "metadata": {},
     "output_type": "execute_result"
    },
    {
     "data": {
      "image/png": "[encoded data removed]",
      "text/plain": [
       "<Figure size 432x288 with 1 Axes>"
      ]
     },
     "metadata": {
      "needs_background": "light"
     },
     "output_type": "display_data"
    }
   ],
   "source": [
    "data.boxplot(column=['Diameter'], return_type='axes')\n",
    "plt.ylabel(\"Frekuensi\")"
   ]
  },
  {
   "cell_type": "markdown",
   "metadata": {},
   "source": [
    "Interpretasi: Boxplot menunjukan mean dari data memiliki nilai yang sama dengan median dan tidak terdapat pecilan"
   ]
  },
  {
   "cell_type": "markdown",
   "metadata": {},
   "source": [
    "#### Kolom KadarAir"
   ]
  },
  {
   "cell_type": "code",
   "execution_count": 16,
   "metadata": {},
   "outputs": [
    {
     "data": {
      "text/plain": [
       "Text(0, 0.5, 'Frekuensi')"
      ]
     },
     "execution_count": 16,
     "metadata": {},
     "output_type": "execute_result"
    },
    {
     "data": {
      "image/png": "[encoded data removed]",
      "text/plain": [
       "<Figure size 432x288 with 1 Axes>"
      ]
     },
     "metadata": {
      "needs_background": "light"
     },
     "output_type": "display_data"
    }
   ],
   "source": [
    "data['KadarAir'].hist(bins=50)\n",
    "plt.xlabel(\"Data Keunikan Gandum\")\n",
    "plt.ylabel(\"Frekuensi\")"
   ]
  },
  {
   "cell_type": "markdown",
   "metadata": {},
   "source": [
    "Interpretasi: Distribusi data condong ke nilai-nilai yang lebih kecil karena skewness positif"
   ]
  },
  {
   "cell_type": "code",
   "execution_count": 17,
   "metadata": {},
   "outputs": [
    {
     "data": {
      "text/plain": [
       "Text(0, 0.5, 'Frekuensi')"
      ]
     },
     "execution_count": 17,
     "metadata": {},
     "output_type": "execute_result"
    },
    {
     "data": {
      "image/png": "[encoded data removed]",
      "text/plain": [
       "<Figure size 432x288 with 1 Axes>"
      ]
     },
     "metadata": {
      "needs_background": "light"
     },
     "output_type": "display_data"
    }
   ],
   "source": [
    "data.boxplot(column=['KadarAir'], return_type='axes')\n",
    "plt.ylabel(\"Frekuensi\")"
   ]
  },
  {
   "cell_type": "markdown",
   "metadata": {},
   "source": [
    "Interpretasi: Boxplot menunjukan mean dari data memiliki nilai yang lebih besar dari median dan tidak terdapat pecilan"
   ]
  },
  {
   "cell_type": "markdown",
   "metadata": {},
   "source": [
    "#### Kolom Keliling "
   ]
  },
  {
   "cell_type": "code",
   "execution_count": 18,
   "metadata": {},
   "outputs": [
    {
     "data": {
      "text/plain": [
       "Text(0, 0.5, 'Frekuensi')"
      ]
     },
     "execution_count": 18,
     "metadata": {},
     "output_type": "execute_result"
    },
    {
     "data": {
      "image/png": "[encoded data removed]",
      "text/plain": [
       "<Figure size 432x288 with 1 Axes>"
      ]
     },
     "metadata": {
      "needs_background": "light"
     },
     "output_type": "display_data"
    }
   ],
   "source": [
    "data['Keliling'].hist(bins=50)\n",
    "plt.xlabel(\"Data Keunikan Gandum\")\n",
    "plt.ylabel(\"Frekuensi\")"
   ]
  },
  {
   "cell_type": "markdown",
   "metadata": {},
   "source": [
    "Interpretasi: Distribusi data condong ke nilai-nilai yang lebih kecil karena skewness positif"
   ]
  },
  {
   "cell_type": "code",
   "execution_count": 19,
   "metadata": {},
   "outputs": [
    {
     "data": {
      "text/plain": [
       "Text(0, 0.5, 'Frekuensi')"
      ]
     },
     "execution_count": 19,
     "metadata": {},
     "output_type": "execute_result"
    },
    {
     "data": {
      "image/png": "[encoded data removed]",
      "text/plain": [
       "<Figure size 432x288 with 1 Axes>"
      ]
     },
     "metadata": {
      "needs_background": "light"
     },
     "output_type": "display_data"
    }
   ],
   "source": [
    "data.boxplot(column=['Keliling'], return_type='axes')\n",
    "plt.ylabel(\"Frekuensi\")"
   ]
  },
  {
   "cell_type": "markdown",
   "metadata": {},
   "source": [
    "Interpretasi: Boxplot menunjukan mean dari data memiliki nilai yang lebih besar dari median dan tidak terdapat pecilan"
   ]
  },
  {
   "cell_type": "markdown",
   "metadata": {},
   "source": [
    "#### Kolom Bulatan"
   ]
  },
  {
   "cell_type": "code",
   "execution_count": 20,
   "metadata": {},
   "outputs": [
    {
     "data": {
      "text/plain": [
       "Text(0, 0.5, 'Frekuensi')"
      ]
     },
     "execution_count": 20,
     "metadata": {},
     "output_type": "execute_result"
    },
    {
     "data": {
      "image/png": "[encoded data removed]",
      "text/plain": [
       "<Figure size 432x288 with 1 Axes>"
      ]
     },
     "metadata": {
      "needs_background": "light"
     },
     "output_type": "display_data"
    }
   ],
   "source": [
    "data['Bulatan'].hist(bins=50)\n",
    "plt.xlabel(\"Data Keunikan Gandum\")\n",
    "plt.ylabel(\"Frekuensi\")"
   ]
  },
  {
   "cell_type": "markdown",
   "metadata": {},
   "source": [
    "Interpretasi: Skewness data negatif sehingga distribusi data condong ke nilai yang besar"
   ]
  },
  {
   "cell_type": "code",
   "execution_count": 21,
   "metadata": {},
   "outputs": [
    {
     "data": {
      "text/plain": [
       "Text(0, 0.5, 'Frekuensi')"
      ]
     },
     "execution_count": 21,
     "metadata": {},
     "output_type": "execute_result"
    },
    {
     "data": {
      "image/png": "[encoded data removed]",
      "text/plain": [
       "<Figure size 432x288 with 1 Axes>"
      ]
     },
     "metadata": {
      "needs_background": "light"
     },
     "output_type": "display_data"
    }
   ],
   "source": [
    "data.boxplot(column=['Bulatan'], return_type='axes')\n",
    "plt.ylabel(\"Frekuensi\")"
   ]
  },
  {
   "cell_type": "markdown",
   "metadata": {},
   "source": [
    "Interpretasi: Mean dari data memiliki nilai yang lebih kecil dari median dan terdapat pecilan"
   ]
  },
  {
   "cell_type": "markdown",
   "metadata": {},
   "source": [
    "#### Kolom Ransum"
   ]
  },
  {
   "cell_type": "code",
   "execution_count": 22,
   "metadata": {},
   "outputs": [
    {
     "data": {
      "text/plain": [
       "Text(0, 0.5, 'Frekuensi')"
      ]
     },
     "execution_count": 22,
     "metadata": {},
     "output_type": "execute_result"
    },
    {
     "data": {
      "image/png": "[encoded data removed]",
      "text/plain": [
       "<Figure size 432x288 with 1 Axes>"
      ]
     },
     "metadata": {
      "needs_background": "light"
     },
     "output_type": "display_data"
    }
   ],
   "source": [
    "data['Ransum'].hist(bins=50)\n",
    "plt.xlabel(\"Data Keunikan Gandum\")\n",
    "plt.ylabel(\"Frekuensi\")"
   ]
  },
  {
   "cell_type": "markdown",
   "metadata": {},
   "source": [
    "Interpretasi: Skewness data negatif sehingga distribusi data condong ke nilai yang besar"
   ]
  },
  {
   "cell_type": "code",
   "execution_count": 23,
   "metadata": {},
   "outputs": [
    {
     "data": {
      "text/plain": [
       "Text(0, 0.5, 'Frekeunsi')"
      ]
     },
     "execution_count": 23,
     "metadata": {},
     "output_type": "execute_result"
    },
    {
     "data": {
      "image/png": "[encoded data removed]",
      "text/plain": [
       "<Figure size 432x288 with 1 Axes>"
      ]
     },
     "metadata": {
      "needs_background": "light"
     },
     "output_type": "display_data"
    }
   ],
   "source": [
    "data.boxplot(column=['Ransum'], return_type='axes')\n",
    "plt.ylabel(\"Frekeunsi\")"
   ]
  },
  {
   "cell_type": "markdown",
   "metadata": {},
   "source": [
    "Interpretasi: Mean dari data memiliki nilai yang lebih kecil dari median dan tidak terdapat pecilan"
   ]
  },
  {
   "cell_type": "markdown",
   "metadata": {},
   "source": [
    "### 3. Normality Test"
   ]
  },
  {
   "cell_type": "markdown",
   "metadata": {},
   "source": [
    "#### Kolom Daerah"
   ]
  },
  {
   "cell_type": "code",
   "execution_count": 24,
   "metadata": {},
   "outputs": [
    {
     "ename": "AttributeError",
     "evalue": "'DataFrame' object has no attribute 'shapiro'",
     "output_type": "error",
     "traceback": [
      "\u001b[0;31m---------------------------------------------------------------------------\u001b[0m",
      "\u001b[0;31mAttributeError\u001b[0m                            Traceback (most recent call last)",
      "\u001b[0;32m<ipython-input-24-b256653da83a>\u001b[0m in \u001b[0;36m<module>\u001b[0;34m\u001b[0m\n\u001b[0;32m----> 1\u001b[0;31m \u001b[0mw\u001b[0m\u001b[0;34m,\u001b[0m \u001b[0mp\u001b[0m \u001b[0;34m=\u001b[0m \u001b[0mstats\u001b[0m\u001b[0;34m.\u001b[0m\u001b[0mshapiro\u001b[0m\u001b[0;34m(\u001b[0m\u001b[0mdata\u001b[0m\u001b[0;34m[\u001b[0m\u001b[0;34m'Daerah'\u001b[0m\u001b[0;34m]\u001b[0m\u001b[0;34m)\u001b[0m\u001b[0;34m\u001b[0m\u001b[0;34m\u001b[0m\u001b[0m\n\u001b[0m\u001b[1;32m      2\u001b[0m \u001b[0mprint\u001b[0m\u001b[0;34m(\u001b[0m\u001b[0;34m\"Hasil Shapiro-Wilk Normality Test\"\u001b[0m\u001b[0;34m)\u001b[0m\u001b[0;34m\u001b[0m\u001b[0;34m\u001b[0m\u001b[0m\n\u001b[1;32m      3\u001b[0m \u001b[0mprint\u001b[0m\u001b[0;34m(\u001b[0m\u001b[0;34m\"\"\u001b[0m\u001b[0;34m)\u001b[0m\u001b[0;34m\u001b[0m\u001b[0;34m\u001b[0m\u001b[0m\n\u001b[1;32m      4\u001b[0m \u001b[0mprint\u001b[0m\u001b[0;34m(\u001b[0m\u001b[0;34m\"W = {}\"\u001b[0m \u001b[0;34m.\u001b[0m\u001b[0mformat\u001b[0m\u001b[0;34m(\u001b[0m\u001b[0mw\u001b[0m\u001b[0;34m)\u001b[0m\u001b[0;34m)\u001b[0m\u001b[0;34m\u001b[0m\u001b[0;34m\u001b[0m\u001b[0m\n\u001b[1;32m      5\u001b[0m \u001b[0mprint\u001b[0m\u001b[0;34m(\u001b[0m\u001b[0;34m\"p = {}\"\u001b[0m \u001b[0;34m.\u001b[0m\u001b[0mformat\u001b[0m\u001b[0;34m(\u001b[0m\u001b[0mp\u001b[0m\u001b[0;34m)\u001b[0m\u001b[0;34m)\u001b[0m\u001b[0;34m\u001b[0m\u001b[0;34m\u001b[0m\u001b[0m\n",
      "\u001b[0;32m~/opt/anaconda3/lib/python3.8/site-packages/pandas/core/generic.py\u001b[0m in \u001b[0;36m__getattr__\u001b[0;34m(self, name)\u001b[0m\n\u001b[1;32m   5137\u001b[0m             \u001b[0;32mif\u001b[0m \u001b[0mself\u001b[0m\u001b[0;34m.\u001b[0m\u001b[0m_info_axis\u001b[0m\u001b[0;34m.\u001b[0m\u001b[0m_can_hold_identifiers_and_holds_name\u001b[0m\u001b[0;34m(\u001b[0m\u001b[0mname\u001b[0m\u001b[0;34m)\u001b[0m\u001b[0;34m:\u001b[0m\u001b[0;34m\u001b[0m\u001b[0;34m\u001b[0m\u001b[0m\n\u001b[1;32m   5138\u001b[0m                 \u001b[0;32mreturn\u001b[0m \u001b[0mself\u001b[0m\u001b[0;34m[\u001b[0m\u001b[0mname\u001b[0m\u001b[0;34m]\u001b[0m\u001b[0;34m\u001b[0m\u001b[0;34m\u001b[0m\u001b[0m\n\u001b[0;32m-> 5139\u001b[0;31m             \u001b[0;32mreturn\u001b[0m \u001b[0mobject\u001b[0m\u001b[0;34m.\u001b[0m\u001b[0m__getattribute__\u001b[0m\u001b[0;34m(\u001b[0m\u001b[0mself\u001b[0m\u001b[0;34m,\u001b[0m \u001b[0mname\u001b[0m\u001b[0;34m)\u001b[0m\u001b[0;34m\u001b[0m\u001b[0;34m\u001b[0m\u001b[0m\n\u001b[0m\u001b[1;32m   5140\u001b[0m \u001b[0;34m\u001b[0m\u001b[0m\n\u001b[1;32m   5141\u001b[0m     \u001b[0;32mdef\u001b[0m \u001b[0m__setattr__\u001b[0m\u001b[0;34m(\u001b[0m\u001b[0mself\u001b[0m\u001b[0;34m,\u001b[0m \u001b[0mname\u001b[0m\u001b[0;34m:\u001b[0m \u001b[0mstr\u001b[0m\u001b[0;34m,\u001b[0m \u001b[0mvalue\u001b[0m\u001b[0;34m)\u001b[0m \u001b[0;34m->\u001b[0m \u001b[0;32mNone\u001b[0m\u001b[0;34m:\u001b[0m\u001b[0;34m\u001b[0m\u001b[0;34m\u001b[0m\u001b[0m\n",
      "\u001b[0;31mAttributeError\u001b[0m: 'DataFrame' object has no attribute 'shapiro'"
     ]
    }
   ],
   "source": [
    "w, p = stats.shapiro(data['Daerah'])\n",
    "print(\"Hasil Shapiro-Wilk Normality Test\")\n",
    "print(\"\")\n",
    "print(\"W = {}\" .format(w))\n",
    "print(\"p = {}\" .format(p))"
   ]
  },
  {
   "cell_type": "markdown",
   "metadata": {},
   "source": [
    "Analisis: Data tidak berdistribusi normal dan hal ini dapat dilihat dari histogram plot yang menunjukkan skewness positif yang menunjukkan median lebih kecil dari mean, artinya tidak berdistribusi normal."
   ]
  },
  {
   "cell_type": "markdown",
   "metadata": {},
   "source": [
    "#### Kolom SumbuUtama"
   ]
  },
  {
   "cell_type": "code",
   "execution_count": null,
   "metadata": {},
   "outputs": [],
   "source": [
    "w, p = stats.shapiro(data['SumbuUtama'])\n",
    "print(\"Hasil Shapiro-Wilk Normality Test\")\n",
    "print(\"\")\n",
    "print(\"W = {}\" .format(w))\n",
    "print(\"p = {}\" .format(p))"
   ]
  },
  {
   "cell_type": "markdown",
   "metadata": {},
   "source": [
    "Analisis: Data tidak berdistribusi normal dan hal ini dapat dilihat dari histogram plot yang menunjukkan skewness positif yang menunjukkan median lebih kecil dari mean, artinya tidak berdistribusi normal."
   ]
  },
  {
   "cell_type": "markdown",
   "metadata": {},
   "source": [
    "#### Kolom SumbuKecil"
   ]
  },
  {
   "cell_type": "code",
   "execution_count": null,
   "metadata": {},
   "outputs": [],
   "source": [
    "w, p = stats.shapiro(data['SumbuKecil'])\n",
    "print(\"Hasil Shapiro-Wilk Normality Test\")\n",
    "print(\"\")\n",
    "print(\"W = {}\" .format(w))\n",
    "print(\"p = {}\" .format(p))"
   ]
  },
  {
   "cell_type": "markdown",
   "metadata": {},
   "source": [
    "Analisis: Data berdistribusi normal dan hal ini dapat dilihat dari histogram plot yang memiliki skewness simetris."
   ]
  },
  {
   "cell_type": "markdown",
   "metadata": {},
   "source": [
    "#### Kolom Keunikan"
   ]
  },
  {
   "cell_type": "code",
   "execution_count": null,
   "metadata": {},
   "outputs": [],
   "source": [
    "w, p = stats.shapiro(data['Keunikan'])\n",
    "print(\"Hasil Shapiro-Wilk Normality Test\")\n",
    "print(\"\")\n",
    "print(\"W = {}\" .format(w))\n",
    "print(\"p = {}\" .format(p))"
   ]
  },
  {
   "cell_type": "markdown",
   "metadata": {},
   "source": [
    "Analisis: Data tidak berdistribusi normal dan hal ini dapat dilihat dari histogram yang memiliki skewness negatif sehingga median lebih besar daripada mean."
   ]
  },
  {
   "cell_type": "markdown",
   "metadata": {},
   "source": [
    "#### Kolom AreaBulatan"
   ]
  },
  {
   "cell_type": "code",
   "execution_count": null,
   "metadata": {},
   "outputs": [],
   "source": [
    "w, p = stats.shapiro(data['AreaBulatan'])\n",
    "print(\"Hasil Shapiro-Wilk Normality Test\")\n",
    "print(\"\")\n",
    "print(\"W = {}\" .format(w))\n",
    "print(\"p = {}\" .format(p))"
   ]
  },
  {
   "cell_type": "markdown",
   "metadata": {},
   "source": [
    "Analisis: Data tidak berdistribusi normal dan hal ini dapat dilihat dari histogram plot yang menunjukkan skewness positif yang menunjukkan median lebih kecil dari mean, artinya tidak berdistribusi normal."
   ]
  },
  {
   "cell_type": "markdown",
   "metadata": {},
   "source": [
    "#### Kolom Diameter"
   ]
  },
  {
   "cell_type": "code",
   "execution_count": null,
   "metadata": {},
   "outputs": [],
   "source": [
    "w, p = stats.shapiro(data['Diameter'])\n",
    "print(\"Hasil Shapiro-Wilk Normality Test\")\n",
    "print(\"\")\n",
    "print(\"W = {}\" .format(w))\n",
    "print(\"p = {}\" .format(p))"
   ]
  },
  {
   "cell_type": "markdown",
   "metadata": {},
   "source": [
    "Analisis: Data berdistribusi normal dan hal ini dapat dilihat dari histogram plot yang memiliki skewness simetris."
   ]
  },
  {
   "cell_type": "markdown",
   "metadata": {},
   "source": [
    "#### Kolom KadarAir"
   ]
  },
  {
   "cell_type": "code",
   "execution_count": null,
   "metadata": {},
   "outputs": [],
   "source": [
    "w, p = stats.shapiro(data['KadarAir'])\n",
    "print(\"Hasil Shapiro-Wilk Normality Test\")\n",
    "print(\"\")\n",
    "print(\"W = {}\" .format(w))\n",
    "print(\"p = {}\" .format(p))"
   ]
  },
  {
   "cell_type": "markdown",
   "metadata": {},
   "source": [
    "Analisis: Data tidak berdistribusi normal dan hal ini dapat dilihat dari histogram plot yang menunjukkan skewness positif yang menunjukkan median lebih kecil dari mean, artinya tidak berdistribusi normal."
   ]
  },
  {
   "cell_type": "markdown",
   "metadata": {},
   "source": [
    "#### Kolom Keliling "
   ]
  },
  {
   "cell_type": "code",
   "execution_count": null,
   "metadata": {},
   "outputs": [],
   "source": [
    "w, p = stats.shapiro(data['Keliling'])\n",
    "print(\"Hasil Shapiro-Wilk Normality Test\")\n",
    "print(\"\")\n",
    "print(\"W = {}\" .format(w))\n",
    "print(\"p = {}\" .format(p))"
   ]
  },
  {
   "cell_type": "markdown",
   "metadata": {},
   "source": [
    "Analisis: Data tidak berdistribusi normal dan hal ini dapat dilihat dari histogram plot yang menunjukkan skewness positif yang menunjukkan median lebih kecil dari mean, artinya tidak berdistribusi normal."
   ]
  },
  {
   "cell_type": "markdown",
   "metadata": {},
   "source": [
    "#### Kolom Bulatan"
   ]
  },
  {
   "cell_type": "code",
   "execution_count": null,
   "metadata": {},
   "outputs": [],
   "source": [
    "w, p = stats.shapiro(data['Bulatan'])\n",
    "print(\"Hasil Shapiro-Wilk Normality Test\")\n",
    "print(\"\")\n",
    "print(\"W = {}\" .format(w))\n",
    "print(\"p = {}\" .format(p))"
   ]
  },
  {
   "cell_type": "markdown",
   "metadata": {},
   "source": [
    "Analisis: Data berdistribusi normal dan hal ini dapat dilihat dari histogram yang memiliki skewness negatif sehingga median lebih besar daripada mean."
   ]
  },
  {
   "cell_type": "markdown",
   "metadata": {},
   "source": [
    "#### Kolom Ransum"
   ]
  },
  {
   "cell_type": "code",
   "execution_count": null,
   "metadata": {},
   "outputs": [],
   "source": [
    "w, p = stats.shapiro(data['Ransum'])\n",
    "print(\"Hasil Shapiro-Wilk Normality Test\")\n",
    "print(\"\")\n",
    "print(\"W = {}\" .format(w))\n",
    "print(\"p = {}\" .format(p))"
   ]
  },
  {
   "cell_type": "markdown",
   "metadata": {},
   "source": [
    "Analisis: Data berdistribusi normal dan hal ini dapat dilihat dari histogram yang memiliki skewness negatif sehingga median lebih besar daripada mean."
   ]
  },
  {
   "cell_type": "markdown",
   "metadata": {},
   "source": [
    "### 4. Tes Hipotesis 1 Sampel"
   ]
  },
  {
   "cell_type": "code",
   "execution_count": null,
   "metadata": {},
   "outputs": [],
   "source": [
    "#DEKLARASI FUNGSI/PROSEDUR YANG DIBUTUHKAN\n",
    "def criticalRegion(alpha,cpoint,opr):\n",
    "    #menghasilkan daerah kritis\n",
    "    if opr==\">\":\n",
    "        display(Markdown(\"Derah kritis terletak pada z > \" + str(cpoint) + \".\"))\n",
    "        return 1 #mengembalikan kode 1\n",
    "    elif opr==\"<\":\n",
    "        display(Markdown(\"Derah kritis terletak pada z < -\" + str(cpoint) + \".\"))\n",
    "        return 2 #mengembalikan kode 2\n",
    "    elif opr==\"!=\":\n",
    "        display(Markdown(\"Derah kritis terletak pada z < -\" + str(cpoint/2) + \" dan z > \" + str(cpoint/2) + \".\"))\n",
    "        return 3 #mengembalikan kode 3\n",
    "    \n",
    "def countZ(kol,mu):\n",
    "    #menampilkan nilai x̄̅, σ, n, dan juga hasil perhitungan z \n",
    "    sample = data[kol]\n",
    "    mean = sample.mean()\n",
    "    print(\"x̄̅ = \" + str(mean))\n",
    "    std = sample.std()\n",
    "    print(\"σ = \" + str(std))\n",
    "    count = sample.count()\n",
    "    print(\"n = \" + str(count))\n",
    "    z = (mean-mu)/(std/(count**0.5)) \n",
    "    print(\"Maka, z = \" + str(z) + \".\")\n",
    "    return z\n",
    "\n",
    "def countPV(z,opr):\n",
    "    #menghitung nilai p-value sesuai dengan nilai z dan operatornya\n",
    "    if opr==\">\":\n",
    "        pvalue = 1-st.norm.cdf(z)\n",
    "        print(\"p-value = P(z > \" + str(z) + \") = \" + str(pvalue))\n",
    "    elif opr==\"!=\":\n",
    "            if z>0:\n",
    "                pvalue = 2*(1-st.norm.cdf(z))\n",
    "                print(\"p-value = 2P(z > \" + str(z) + \") = \" + str(pvalue))\n",
    "            else: #z<=0\n",
    "                pvalue = 2*st.norm.cdf(z)\n",
    "                print(\"p-value = 2P(z < \" + str(z) + \") = \" + str(pvalue))\n",
    "        \n",
    "    elif opr==\"<\":\n",
    "        pvalue = st.norm.cdf(z)\n",
    "        print(\"p-value = P(z < \" + str(z) + \") = \" + str(pvalue))\n",
    "    return pvalue\n",
    "\n",
    "def cekZ(z,criticalRegion):\n",
    "    #mengecek apakah z berada di daerah kritis dan menghasilkan keputusan\n",
    "    masuk = False\n",
    "    if criticalRegion == 1:\n",
    "        if z > cpoint:\n",
    "            masuk = True\n",
    "    elif criticalRegion == 2:\n",
    "        if z < -cpoint:\n",
    "            masuk = True\n",
    "    elif criticalRegion == 3:\n",
    "        if z < -cpoint or z > cpoint:\n",
    "            masuk = True\n",
    "    if (masuk):       \n",
    "        display(Markdown(\"Karena z berada di daerah kritis, maka __$H_{0}$ ditolak.__\"))\n",
    "    else:\n",
    "        display(Markdown(\"Karena z tidak berada pada daerah kritis, maka __$H_{0}$ diterima.__\"))\n",
    "                   \n",
    "            \n",
    "def cekP(p,alpha):\n",
    "    #mengecek apakah p-value lebih kecil dari α dan menghasilkan keputusan\n",
    "    if p<alpha:\n",
    "        display(Markdown(\"Karena p-value < α, maka __$H_{0}$ ditolak.__\"))\n",
    "    else:\n",
    "        display(Markdown(\"Karena p-value >= α, maka __$H_{0}$ diterima.__\"))"
   ]
  },
  {
   "cell_type": "markdown",
   "metadata": {},
   "source": [
    "#### 4.a. Pengujian Terhadap $μ_{Daerah} > 4700$"
   ]
  },
  {
   "cell_type": "code",
   "execution_count": null,
   "metadata": {},
   "outputs": [],
   "source": [
    "data.boxplot([\"Daerah\"])"
   ]
  },
  {
   "cell_type": "markdown",
   "metadata": {},
   "source": [
    "__Langkah Pengujian__ <br>\n",
    "1. Hipotesis nol $H_{0}: μ_{Daerah} = 4700$ <br> \n",
    "2. Hipotesis alternatif $H_{1}: μ_{Daerah} > 4700$ <br> \n",
    "3. Tingkat signifikan $α = 0.05$\n",
    "4. Uji Statistik dan Daerah Kritis<br>\n",
    "Uji statistik menggunakan rumus pencarian nilai z sebagai berikut. <br>\n",
    "$\\;\\;\\;\\;\\;\\;z= \\Large\\frac{\\bar{x}-\\mu}{\\frac{\\sigma}{\\sqrt n}}$ <br>"
   ]
  },
  {
   "cell_type": "code",
   "execution_count": null,
   "metadata": {},
   "outputs": [],
   "source": [
    "alpha = 0.05\n",
    "cpoint = st.norm.ppf(1-alpha) #titik kritis\n",
    "cRegion = criticalRegion(alpha,cpoint,\">\")"
   ]
  },
  {
   "cell_type": "code",
   "execution_count": null,
   "metadata": {},
   "outputs": [],
   "source": [
    "display(Markdown(\"5. Menghitung Nilai Uji Statistik z dan p-value\"))\n",
    "zdaerah = countZ(\"Daerah\",4700)\n",
    "pvalue = countPV(zdaerah,\">\")"
   ]
  },
  {
   "cell_type": "code",
   "execution_count": null,
   "metadata": {},
   "outputs": [],
   "source": [
    "display(Markdown(\"6. Keputusan\"))\n",
    "cekZ(zdaerah,cRegion)\n",
    "cekP(pvalue,alpha)"
   ]
  },
  {
   "cell_type": "markdown",
   "metadata": {},
   "source": [
    "Kesimpulan: $μ_{Daerah} > 4700$"
   ]
  },
  {
   "cell_type": "markdown",
   "metadata": {},
   "source": [
    " #### 4.b. Pengujian Terhadap $μ_{SumbuUtama} ≠ 116$"
   ]
  },
  {
   "cell_type": "code",
   "execution_count": null,
   "metadata": {},
   "outputs": [],
   "source": [
    "data.boxplot([\"SumbuUtama\"])"
   ]
  },
  {
   "cell_type": "markdown",
   "metadata": {},
   "source": [
    "__Langkah Pengujian__ <br>\n",
    "1. Hipotesis nol $H_{0}: μ_{SumbuUtama} = 116$ <br> \n",
    "2. Hipotesis alternatif $H_{1}: μ_{SumbuUtama} ≠ 116$ <br> \n",
    "3. Tingkat signifikan $α = 0.05$\n",
    "4. Uji Statistik dan Daerah Kritis<br>\n",
    "Uji statistik menggunakan rumus pencarian nilai z sebagai berikut. <br>\n",
    "$\\;\\;\\;\\;\\;\\;z= \\Large\\frac{\\bar{x}-\\mu}{\\frac{\\sigma}{\\sqrt n}}$ <br>"
   ]
  },
  {
   "cell_type": "code",
   "execution_count": null,
   "metadata": {},
   "outputs": [],
   "source": [
    "alpha = 0.05\n",
    "cpoint = st.norm.ppf(1-alpha) #titik kritis\n",
    "cRegion = criticalRegion(alpha,cpoint,\"!=\")"
   ]
  },
  {
   "cell_type": "code",
   "execution_count": null,
   "metadata": {},
   "outputs": [],
   "source": [
    "display(Markdown(\"5. Menghitung Nilai Uji Statistik z dan p-value\"))\n",
    "zSumbuUtama = countZ(\"SumbuUtama\",116)\n",
    "pvalue = countPV(zSumbuUtama,\"!=\")"
   ]
  },
  {
   "cell_type": "code",
   "execution_count": null,
   "metadata": {},
   "outputs": [],
   "source": [
    "display(Markdown(\"6. Keputusan\"))\n",
    "cekZ(zSumbuUtama,cRegion)\n",
    "cekP(pvalue,alpha)"
   ]
  },
  {
   "cell_type": "markdown",
   "metadata": {},
   "source": [
    "Kesimpulan: $μ_{SumbuUtama} = 116$"
   ]
  },
  {
   "cell_type": "markdown",
   "metadata": {},
   "source": [
    " #### 4.c. Pengujian Terhadap $μ_{SumbuKecil} ≠ 50$ untuk 20 baris pertama"
   ]
  },
  {
   "cell_type": "code",
   "execution_count": null,
   "metadata": {},
   "outputs": [],
   "source": [
    "data.boxplot([\"SumbuKecil\"][:20])"
   ]
  },
  {
   "cell_type": "markdown",
   "metadata": {},
   "source": [
    "__Langkah Pengujian__ <br>\n",
    "1. Hipotesis nol $H_{0}: μ_{SumbuKecil[:20]} = 50$ <br> \n",
    "2. Hipotesis alternatif $H_{1}: μ_{SumbuKecil[:20]} ≠ 50$ <br> \n",
    "3. Tingkat signifikan $α = 0.05$\n",
    "4. Uji Statistik dan Daerah Kritis<br>\n",
    "Uji statistik menggunakan rumus pencarian nilai z sebagai berikut. <br>\n",
    "$\\;\\;\\;\\;\\;\\;z= \\Large\\frac{\\bar{x}-\\mu}{\\frac{\\sigma}{\\sqrt n}}$ <br>"
   ]
  },
  {
   "cell_type": "code",
   "execution_count": null,
   "metadata": {},
   "outputs": [],
   "source": [
    "alpha = 0.05\n",
    "cpoint = st.norm.ppf(1-alpha) #titik kritis\n",
    "cRegion = criticalRegion(alpha,cpoint,\"!=\")"
   ]
  },
  {
   "cell_type": "code",
   "execution_count": null,
   "metadata": {},
   "outputs": [],
   "source": [
    "display(Markdown(\"5. Menghitung Nilai Uji Statistik z dan p-value\"))\n",
    "#Untuk kasus ini, sampel yang digunakan adalah 20 baris pertama dari kolom SumbulKecil\n",
    "mu = 50\n",
    "mean = data[\"SumbuKecil\"][:20].mean()\n",
    "print(\"x̄̅ = \" + str(mean))\n",
    "std = data[\"SumbuKecil\"][:20].std()\n",
    "print(\"σ = \" + str(std))\n",
    "count = data[\"SumbuKecil\"][:20].count()\n",
    "print(\"n = \" + str(count))\n",
    "zSumbuKecil = (mean-mu)/(std/(count**0.5)) \n",
    "print(\"Maka, z = \" + str(zSumbuKecil) + \".\")\n",
    "pvalue = countPV(zSumbuKecil,\"!=\")"
   ]
  },
  {
   "cell_type": "code",
   "execution_count": null,
   "metadata": {},
   "outputs": [],
   "source": [
    "display(Markdown(\"6. Keputusan\"))\n",
    "cekZ(zSumbuKecil,cRegion)\n",
    "cekP(pvalue,alpha)"
   ]
  },
  {
   "cell_type": "markdown",
   "metadata": {},
   "source": [
    "Kesimpulan: $μ_{SumbuKecil[:20]} ≠ 50$ "
   ]
  },
  {
   "cell_type": "code",
   "execution_count": null,
   "metadata": {},
   "outputs": [],
   "source": [
    "#DEKLARASI FUNGSI YANG DIBUTUHKAN \n",
    "\n",
    "def countZ2(kol,x,p0,opr):\n",
    "    #menghitung nilai z berdasarkan data statistik dan proporsi nilai\n",
    "    sample = data[kol]\n",
    "    if opr == \"<\":\n",
    "        filter = sample[sample<x]\n",
    "        count = filter.count()\n",
    "        print(\"Banyaknya data \" + str(kol) + \" > \" + str(x) + \" adalah \" + str(count) + \".\")\n",
    "    elif opr == \">\":\n",
    "        filter = sample[sample>x]\n",
    "        count = filter.count()\n",
    "        print(\"Banyaknya data \" + str(kol) + \" > \" + str(x) + \" adalah \" + str(count) + \".\")\n",
    "    print(\"Banyaknya sampel data adalah \" + str(sample.count()) + \".\")\n",
    "    p = count/sample.count()\n",
    "    print(\"Maka, p̂ = \" + str(p) + \".\")\n",
    "    print(\"po = \" + str(p0))\n",
    "    n = sample.count()\n",
    "    print(\"n = \" + str(n))\n",
    "    z = (p-p0)/(p0*(1-p0)/n)**0.5\n",
    "    print(\"Maka, z = \" + str(z) + \".\")\n",
    "    return z\n",
    "    "
   ]
  },
  {
   "cell_type": "markdown",
   "metadata": {},
   "source": [
    " #### 4.d. Pengujian Terhadap $P(Diameter > 85) ≠ 15\\%$"
   ]
  },
  {
   "cell_type": "code",
   "execution_count": null,
   "metadata": {},
   "outputs": [],
   "source": [
    "data.boxplot([\"Diameter\"])"
   ]
  },
  {
   "cell_type": "markdown",
   "metadata": {},
   "source": [
    "__Langkah Pengujian__ <br>\n",
    "1. Hipotesis nol $H_{0}: P(Diameter > 85) = 15\\%$ <br> \n",
    "2. Hipotesis alternatif $H_{1}: P(Diameter > 85) ≠ 15\\%$ <br> \n",
    "3. Tingkat signifikan $α = 0.05$\n",
    "4. Uji Statistik dan Daerah Kritis<br>\n",
    "Uji statistik menggunakan rumus pencarian nilai z sebagai berikut. <br>\n",
    "$\\;\\;\\;\\;\\;\\;z = \\Large\\frac{\\hat{p} - p_{\\normalsize0}}{\\sqrt{\\frac{p_{\\normalsize0}(1 - p_{\\normalsize0})}{n}}}$ <br>"
   ]
  },
  {
   "cell_type": "code",
   "execution_count": null,
   "metadata": {},
   "outputs": [],
   "source": [
    "alpha = 0.05\n",
    "cpoint = st.norm.ppf(1-alpha) #titik kritis\n",
    "cRegion = criticalRegion(alpha,cpoint,\"!=\")"
   ]
  },
  {
   "cell_type": "code",
   "execution_count": null,
   "metadata": {},
   "outputs": [],
   "source": [
    "display(Markdown(\"5. Menghitung Nilai Uji Statistik z dan p-value\"))\n",
    "zDiameter = countZ2(\"Diameter\",85,0.15,\">\")\n",
    "pvalue = countPV(zDiameter,\"!=\")"
   ]
  },
  {
   "cell_type": "code",
   "execution_count": null,
   "metadata": {},
   "outputs": [],
   "source": [
    "display(Markdown(\"6. Keputusan\"))\n",
    "cekZ(zDiameter,cRegion)\n",
    "cekP(pvalue,alpha)"
   ]
  },
  {
   "cell_type": "markdown",
   "metadata": {},
   "source": [
    "Kesimpulan: $P(Diameter > 85) ≠ 15\\%$"
   ]
  },
  {
   "cell_type": "markdown",
   "metadata": {},
   "source": [
    " #### 4.e. Pengujian Terhadap $P(Keliling < 100) < 5\\%$"
   ]
  },
  {
   "cell_type": "code",
   "execution_count": null,
   "metadata": {},
   "outputs": [],
   "source": [
    "data.boxplot([\"Keliling\"])"
   ]
  },
  {
   "cell_type": "markdown",
   "metadata": {},
   "source": [
    "__Langkah Pengujian__ <br>\n",
    "1. Hipotesis nol $H_{0}: P(Keliling < 100) = 5\\%$ <br> \n",
    "2. Hipotesis alternatif $H_{1}: P(Keliling < 100) < 5\\%$ <br> \n",
    "3. Tingkat signifikan $α = 0.05$\n",
    "4. Uji Statistik dan Daerah Kritis<br>\n",
    "Uji statistik menggunakan rumus pencarian nilai z sebagai berikut. <br>\n",
    "$\\;\\;\\;\\;\\;\\;z = \\Large\\frac{\\hat{p} - p_{\\normalsize0}}{\\sqrt{\\frac{p_{\\normalsize0}(1 - p_{\\normalsize0})}{n}}}$ <br>"
   ]
  },
  {
   "cell_type": "code",
   "execution_count": null,
   "metadata": {},
   "outputs": [],
   "source": [
    "alpha = 0.05\n",
    "cpoint = st.norm.ppf(1-alpha) #titik kritis\n",
    "cRegion = criticalRegion(alpha,cpoint,\"<\")"
   ]
  },
  {
   "cell_type": "code",
   "execution_count": null,
   "metadata": {},
   "outputs": [],
   "source": [
    "display(Markdown(\"5. Menghitung Nilai Uji Statistik z dan p-value\"))\n",
    "zKeliling = countZ2(\"Keliling\",100,0.05,\"<\")\n",
    "pvalue = countPV(zKeliling,\"<\")"
   ]
  },
  {
   "cell_type": "code",
   "execution_count": null,
   "metadata": {},
   "outputs": [],
   "source": [
    "display(Markdown(\"6. Keputusan\"))\n",
    "cekZ(zKeliling,cRegion)\n",
    "cekP(pvalue,alpha)"
   ]
  },
  {
   "cell_type": "markdown",
   "metadata": {},
   "source": [
    "Kesimpulan: $P(Keliling < 100) < 5\\%$"
   ]
  },
  {
   "cell_type": "markdown",
   "metadata": {},
   "source": [
    "### 5. Tes Hipotesis 2 Sampel"
   ]
  },
  {
   "cell_type": "markdown",
   "metadata": {},
   "source": [
    "#### 5.a. Data kolom AreaBulatan dibagi 2 sama rata: bagian awal dan bagian akhir kolom. Benarkah rata-rata kedua bagian tersebut sama?"
   ]
  },
  {
   "cell_type": "code",
   "execution_count": 40,
   "metadata": {},
   "outputs": [],
   "source": [
    "#DEKLARASI FUNGSI/PROSEDUR YANG DIBUTUHKAN\n",
    "import pandas as pd\n",
    "import statistics\n",
    "import numpy as np\n",
    "import scipy\n",
    "\n",
    "def degreeFreedom(n1,n2):\n",
    "    return n1+n2-2\n",
    "\n",
    "def tTestA(X1, X2, mu1, mu2, s1, s2, n1, n2):\n",
    "    return ((X1-X2)-(mu1-mu2))/(s1**2/n1 + s2**2/n2)**(0.5)\n",
    "\n",
    "#VARIABEL\n",
    "row = len(data.index)\n",
    "mid = int(row/2)\n",
    "awal = data.iloc[1:mid]\n",
    "akhir = data.iloc[(mid+1):row]"
   ]
  },
  {
   "cell_type": "markdown",
   "metadata": {},
   "source": [
    "__Langkah Pengujian__ <br>\n",
    "1. Hipotesis nol $H_{0}: \\mu_{AreaBulatan1} = \\mu_{AreaBulatan2}$ <br> \n",
    "2. Hipotesis alternatif $H_{1}: \\mu_{AreaBulatan1} \\neq \\mu_{AreaBulatan2}$ <br> \n",
    "3. Tingkat signifikan $α = 0.05$\n",
    "4. Uji Statistik dan Daerah Kritis<br>\n",
    "Digunakan uji two-tailed\n",
    "Uji statistik menggunakan rumus pencarian sebagai berikut. <br>\n",
    "$t = \\Large\\frac{(\\bar{X_1} - \\bar{X_2})-(\\mu_1 - \\mu_2)}{\\sqrt{\\Large\\frac{\\sigma_1^2}{\\Large n_{\\ 1}} + \\Large\\frac{\\sigma_2^2}{\\Large n_{\\large 2}}}}$ <br>\n",
    "5. Penentuan p-Value <br>\n",
    "6. Keputusan <br>"
   ]
  },
  {
   "cell_type": "code",
   "execution_count": 38,
   "metadata": {},
   "outputs": [
    {
     "name": "stdout",
     "output_type": "stream",
     "text": [
      "t = 16.932985503755084\n",
      "Critical region = -1.9599639845400545\n"
     ]
    }
   ],
   "source": [
    "cregion = st.norm.ppf(alpha/2)\n",
    "\n",
    "xbar1 = awal['AreaBulatan'].mean()\n",
    "xbar2 = akhir['AreaBulatan'].mean()\n",
    "\n",
    "s1 = awal['AreaBulatan'].std()\n",
    "s2 = akhir['AreaBulatan'].std()\n",
    "\n",
    "t = tTestA(xbar1, xbar2, 0, 0, s1, s2, mid, mid)\n",
    "print(\"t =\", t)\n",
    "print(\"Critical region =\", cregion)"
   ]
  },
  {
   "cell_type": "markdown",
   "metadata": {},
   "source": [
    "Karena nilai t terdapat pada critical region yaitu c < -1.96 dan c > 1.96, H0 dapat ditolak. "
   ]
  },
  {
   "cell_type": "markdown",
   "metadata": {},
   "source": [
    "#### 5.b. Data kolom Kadar Air dibagi 2 sama rata: bagian awal dan bagian akhir kolom. Benarkah rata-rata bagian awal lebih besar dari pada bagian akhir sebesar 0.2?"
   ]
  },
  {
   "cell_type": "code",
   "execution_count": 41,
   "metadata": {},
   "outputs": [],
   "source": [
    "#VARIABEL\n",
    "row = len(data.index)\n",
    "mid = int(row/2)\n",
    "awal = data.iloc[1:mid]\n",
    "akhir = data.iloc[(mid+1):row]"
   ]
  },
  {
   "cell_type": "markdown",
   "metadata": {},
   "source": [
    "__Langkah Pengujian__ <br>\n",
    "1. Hipotesis nol $H_{0}: KadarAir_awal = KadarAir_akhir + 0.2$ <br> \n",
    "2. Hipotesis alternatif $H_{1}: KadarAir_awal \\neq KadarAir_akhir + 0.2$ <br> \n",
    "3. Tingkat signifikan $α = 0.05$\n",
    "4. Uji Statistik dan Daerah Kritis<br>\n",
    "Digunakan uji two-tailed\n",
    "Uji statistik menggunakan rumus pencarian sebagai berikut. <br>\n",
    "$t = \\Large\\frac{(\\bar{X_1} - \\bar{X_2})-(\\mu_1 - \\mu_2)}{\\sqrt{\\Large\\frac{\\sigma_1^2}{\\Large n_{\\ 1}} + \\Large\\frac{\\sigma_2^2}{\\Large n_{\\large 2}}}}$ <br>\n",
    "5. Penentuan p-Value <br>\n",
    "6. Keputusan <br>"
   ]
  },
  {
   "cell_type": "code",
   "execution_count": 42,
   "metadata": {},
   "outputs": [
    {
     "name": "stdout",
     "output_type": "stream",
     "text": [
      "t = -3.0053393639486403\n",
      "Critical region = -1.9599639845400545\n"
     ]
    }
   ],
   "source": [
    "cregion = st.norm.ppf(alpha/2)\n",
    "\n",
    "xbar1 = awal['KadarAir'].mean()\n",
    "xbar2 = akhir['KadarAir'].mean()\n",
    "\n",
    "s1 = awal['KadarAir'].std()\n",
    "s2 = akhir['KadarAir'].std()\n",
    "\n",
    "t = tTestA(xbar1, xbar2, 0, 0, s1, s2, mid, mid)\n",
    "print(\"t =\", t)\n",
    "print(\"Critical region =\", cregion)"
   ]
  },
  {
   "cell_type": "markdown",
   "metadata": {},
   "source": [
    "Karena nilai t terdapat pada critical region yaitu c < -1.96 dan c > 1.96, H0 dapat ditolak. "
   ]
  },
  {
   "cell_type": "markdown",
   "metadata": {},
   "source": [
    "#### 5.c. Rata-rata 20 baris pertama kolom Bulatan sama dengan 20 baris terakhirnya?"
   ]
  },
  {
   "cell_type": "code",
   "execution_count": 44,
   "metadata": {},
   "outputs": [],
   "source": [
    "n = len(data.index)\n",
    "end = n - 19\n",
    "awal = data.iloc[1:20]\n",
    "akhir = data.iloc[end:n]"
   ]
  },
  {
   "cell_type": "markdown",
   "metadata": {},
   "source": [
    "__Langkah Pengujian__ <br>\n",
    "1. Hipotesis nol $H_{0}: \\mu_{Bulatan1} = \\mu_{Bulatan2}$ <br> \n",
    "2. Hipotesis alternatif $H_{1}: \\mu_{Bulatan1} \\neq \\mu_{Bulatan2}$ <br> \n",
    "3. Tingkat signifikan $α = 0.05$\n",
    "4. Uji Statistik dan Daerah Kritis<br>\n",
    "Digunakan uji two-tailed\n",
    "Uji statistik menggunakan rumus pencarian sebagai berikut. <br>\n",
    "$t = \\Large\\frac{(\\bar{X_1} - \\bar{X_2})-(\\mu_1 - \\mu_2)}{\\sqrt{\\Large\\frac{\\sigma_1^2}{\\Large n_{\\ 1}} + \\Large\\frac{\\sigma_2^2}{\\Large n_{\\large 2}}}}$ <br>\n",
    "5. Penentuan p-Value <br>\n",
    "6. Keputusan <br>"
   ]
  },
  {
   "cell_type": "code",
   "execution_count": 46,
   "metadata": {},
   "outputs": [
    {
     "name": "stdout",
     "output_type": "stream",
     "text": [
      "t = -12.918387780291113\n",
      "Critical region = -1.9599639845400545\n"
     ]
    }
   ],
   "source": [
    "cregion = st.norm.ppf(alpha/2)\n",
    "\n",
    "xbar1 = awal['Bulatan'].mean()\n",
    "xbar2 = akhir['Bulatan'].mean()\n",
    "\n",
    "s1 = awal['Bulatan'].std()\n",
    "s2 = akhir['Bulatan'].std()\n",
    "\n",
    "t = tTestA(xbar1, xbar2, 0, 0, s1, s2, mid, mid)\n",
    "print(\"t =\", t)\n",
    "print(\"Critical region =\", cregion)"
   ]
  },
  {
   "cell_type": "markdown",
   "metadata": {},
   "source": [
    "Karena nilai t terdapat pada critical region yaitu c < -1.96 atau c > 1.96, H0 dapat ditolak. "
   ]
  },
  {
   "cell_type": "markdown",
   "metadata": {},
   "source": [
    "#### 5.d. Proporsi nilai bagian awal Ransum yang lebih dari $2$, adalah lebih besar daripada, proporsi nilai yang sama di bagian akhir Ransum?"
   ]
  },
  {
   "cell_type": "code",
   "execution_count": 91,
   "metadata": {},
   "outputs": [],
   "source": [
    "# VARIABLE\n",
    "n = len(data.index)\n",
    "mid = int(n/2)\n",
    "awal = data['Ransum'].iloc[1:mid] \n",
    "awal_filter = [] \n",
    "akhir_filter = []\n",
    "for i in range(len(awal.index)): \n",
    "    if awal.iloc[i] > 2: \n",
    "        awal_filter.append(temp)\n",
    "\n",
    "for i in range(len(akhir.index)):\n",
    "    if akhir.iloc[i] > 2: \n",
    "        akhir_filter.append(akhir.iloc[i])"
   ]
  },
  {
   "cell_type": "markdown",
   "metadata": {},
   "source": [
    "__Langkah Pengujian__ <br>\n",
    "1. Hipotesis nol $H_{0}: P(X > 2) = P(Y > 2)$ <br> \n",
    "2. Hipotesis alternatif $H_{1}: P(X > 2) < P(Y > 2)$ <br> \n",
    "3. Tingkat signifikan $α = 0.05$\n",
    "4. Uji Statistik dan Daerah Kritis<br>\n",
    "Digunakan uji two-tailed\n",
    "Uji statistik menggunakan rumus pencarian sebagai berikut. <br>\n",
    "$t = \\Large\\frac{(\\hat{p}_1 - \\hat{p}_2) - (p_1 - p_2)}{\\sqrt{\\hat{p}_c(1-\\hat{p}_c)(\\frac{1}{n_1} + \\frac{1}{n_2})}}$ <br>\n",
    "\n",
    "$\\hat{p}_c = \\Large\\frac{x_1 + x_2}{n_1 + n_2}$ <br> \n",
    "5. Penentuan p-Value <br>\n",
    "6. Keputusan <br>"
   ]
  },
  {
   "cell_type": "code",
   "execution_count": 96,
   "metadata": {},
   "outputs": [
    {
     "name": "stdout",
     "output_type": "stream",
     "text": [
      "Zt = 70.44641942841027\n",
      "Critical region = c < - 1.6448536269514722\n"
     ]
    }
   ],
   "source": [
    "p1 = len(awal_filter) / 250\n",
    "p2 = len(akhir_filter) / 250\n",
    "pc = p1 + p2 / 500\n",
    "zt = (p1-p2)/(pc*(1-pc)/125)**(0.5)\n",
    "\n",
    "print(\"Zt =\", zt)\n",
    "print(\"Critical region = c < -\", st.norm.ppf(1-alpha))"
   ]
  },
  {
   "cell_type": "markdown",
   "metadata": {},
   "source": [
    "Karena nilai $z_t$ tidak berada pada c < -1.65, maka H0 gagal untuk ditolak."
   ]
  },
  {
   "cell_type": "markdown",
   "metadata": {},
   "source": [
    "#### 5.e.  Bagian awal kolom Diameter memiliki variansi yang sama dengan bagian akhirnya?"
   ]
  },
  {
   "cell_type": "code",
   "execution_count": 97,
   "metadata": {},
   "outputs": [],
   "source": [
    "# VARIABLE\n",
    "n = len(data.index)\n",
    "mid = n/2\n",
    "awal = data['Diameter'].iloc[1:int(mid)] # data bagian awal\n",
    "akhir = data['Diameter'].iloc[int(mid+1):n] # data bagian akhir"
   ]
  },
  {
   "cell_type": "markdown",
   "metadata": {},
   "source": [
    "__Langkah Pengujian__ <br>\n",
    "1. Hipotesis nol $H_{0}: \\sigma^2_{Diameter1} = \\sigma^2_{Diameter2}$ <br> \n",
    "2. Hipotesis alternatif $H_{1}: \\sigma^2_{Diameter1} \\neq \\sigma^2_{Diameter2}$ <br> \n",
    "3. Tingkat signifikan $α = 0.05$\n",
    "4. Uji Statistik dan Daerah Kritis<br>\n",
    "Digunakan uji two-tailed\n",
    "Uji statistik menggunakan rumus pencarian sebagai berikut. <br>\n",
    "$F_c = \\Large\\frac{\\sigma_2^2}{\\sigma_1^2}$\n",
    "5. Penentuan p-Value <br>\n",
    "6. Keputusan <br>"
   ]
  },
  {
   "cell_type": "code",
   "execution_count": 109,
   "metadata": {},
   "outputs": [
    {
     "name": "stdout",
     "output_type": "stream",
     "text": [
      "Fc = 0.9089761525466795\n",
      "Critical region = c < 0.7795916576054988 atau c > 1.2827228078241388\n"
     ]
    }
   ],
   "source": [
    "s1 = awal.std()\n",
    "s2 = akhir.std()\n",
    "F = s2**2/s1**2\n",
    "fc = scipy.stats.f.ppf(q=0.975, dfn=249, dfd=249)\n",
    "\n",
    "clower = 1/fc\n",
    "cupper = fc\n",
    "\n",
    "print(\"Fc =\", F)\n",
    "print(\"Critical region = c <\", clower, \"atau\", \"c >\", cupper)"
   ]
  },
  {
   "cell_type": "markdown",
   "metadata": {},
   "source": [
    "Karena nilai F tidak berada pada critical region c < 0.7795916576054988 atau c > 1.2827228078241388, maka H0 tidak dapat ditolak"
   ]
  },
  {
   "cell_type": "markdown",
   "metadata": {},
   "source": [
    "### 6. Tes Korelasi"
   ]
  },
  {
   "cell_type": "markdown",
   "metadata": {},
   "source": [
    "Apabila nilai korelasi mendekati 0, kedua kolom tidak berkorelasi. <br>\n",
    "Apabila nilai korelasi mendekati 1, kedua kolom berbanding lurus. <br>\n",
    "Apabila nilai korelasi mendekati -1, kedua kolom berbanding terbalik. <br>"
   ]
  },
  {
   "cell_type": "code",
   "execution_count": null,
   "metadata": {},
   "outputs": [],
   "source": [
    "import seaborn as sns\n",
    "import warnings\n",
    "warnings.simplefilter(action=\"ignore\", category=FutureWarning)"
   ]
  },
  {
   "cell_type": "code",
   "execution_count": null,
   "metadata": {},
   "outputs": [],
   "source": [
    "#DEKLARASI FUNGSI/PROSEDUR YANG DIBUTUHKAN\n",
    "\n",
    "def scatter(kol1):\n",
    "    #menampilkan diagram scatterplot dan menunjukkan garis regresi linear antara kolom non-target dengan kolom target\n",
    "    display(Markdown(\"Scatterplot \" + kol1 + \" dengan Kelas\"))\n",
    "    sns.regplot(data[kol1],data['Kelas'])\n",
    "    \n",
    "def min3(a,b,c):\n",
    "    #mengembalikan 0 apabila a minimal, 1 apabila b minimal, 2 apabila c minimal\n",
    "    if a<b:\n",
    "        if a<c:\n",
    "            return 0\n",
    "        else:\n",
    "            return 2\n",
    "    else:\n",
    "        if b<c:\n",
    "            return 1\n",
    "        else:\n",
    "            return 2\n",
    "        \n",
    "def korelasi(kol1):\n",
    "    #menampilkan nilai korelasi antara kol1 dengan Kelas serta jenis kolerasinya\n",
    "    kor = data[kol1].corr(data['Kelas'])\n",
    "    display(Markdown(\"Nilai korelasi antara \" + kol1 + \" dengan Kelas adalah = \" + str(kor)))\n",
    "    diff0 = abs(kor)\n",
    "    diff1 = abs(kor-1)\n",
    "    diffmin1 = abs(kor+1)\n",
    "    hsl = min3(diff0,diff1,diffmin1)\n",
    "    if hsl==0:\n",
    "        display(Markdown(\"Maka, keduanya tidak berkolerasi.\"))\n",
    "    elif hsl==1:\n",
    "        display(Markdown(\"Maka, keduanya memiliki korelasi yang berbanding lurus.\"))\n",
    "                \n",
    "    else: #hsl==2\n",
    "        display(Markdown(\"Maka, keduanya memiliki korelasi yang berbanding terbalik.\"))"
   ]
  },
  {
   "cell_type": "markdown",
   "metadata": {},
   "source": [
    "#### Korelasi Daerah dengan Kelas "
   ]
  },
  {
   "cell_type": "code",
   "execution_count": null,
   "metadata": {},
   "outputs": [],
   "source": [
    "scatter(\"Daerah\")"
   ]
  },
  {
   "cell_type": "code",
   "execution_count": null,
   "metadata": {},
   "outputs": [],
   "source": [
    "korelasi(\"Daerah\")"
   ]
  },
  {
   "cell_type": "markdown",
   "metadata": {},
   "source": [
    "#### Korelasi SumbuUtama dengan Kelas "
   ]
  },
  {
   "cell_type": "code",
   "execution_count": null,
   "metadata": {},
   "outputs": [],
   "source": [
    "scatter(\"SumbuUtama\")"
   ]
  },
  {
   "cell_type": "code",
   "execution_count": null,
   "metadata": {},
   "outputs": [],
   "source": [
    "korelasi(\"SumbuUtama\")"
   ]
  },
  {
   "cell_type": "markdown",
   "metadata": {},
   "source": [
    "#### Korelasi SumbuKecil dengan Kelas"
   ]
  },
  {
   "cell_type": "code",
   "execution_count": null,
   "metadata": {},
   "outputs": [],
   "source": [
    "scatter(\"SumbuKecil\")"
   ]
  },
  {
   "cell_type": "code",
   "execution_count": null,
   "metadata": {},
   "outputs": [],
   "source": [
    "korelasi(\"SumbuKecil\")"
   ]
  },
  {
   "cell_type": "markdown",
   "metadata": {},
   "source": [
    "#### Korelasi Keunikan dengan Kelas "
   ]
  },
  {
   "cell_type": "code",
   "execution_count": null,
   "metadata": {},
   "outputs": [],
   "source": [
    "scatter(\"Keunikan\")"
   ]
  },
  {
   "cell_type": "code",
   "execution_count": null,
   "metadata": {
    "scrolled": true
   },
   "outputs": [],
   "source": [
    "korelasi(\"Keunikan\")"
   ]
  },
  {
   "cell_type": "markdown",
   "metadata": {},
   "source": [
    "#### Korelasi AreaBulatan dengan Kelas"
   ]
  },
  {
   "cell_type": "code",
   "execution_count": null,
   "metadata": {},
   "outputs": [],
   "source": [
    "scatter(\"AreaBulatan\")"
   ]
  },
  {
   "cell_type": "code",
   "execution_count": null,
   "metadata": {},
   "outputs": [],
   "source": [
    "korelasi(\"AreaBulatan\")"
   ]
  },
  {
   "cell_type": "markdown",
   "metadata": {},
   "source": [
    "#### Korelasi Diameter dengan Kelas"
   ]
  },
  {
   "cell_type": "code",
   "execution_count": null,
   "metadata": {},
   "outputs": [],
   "source": [
    "scatter(\"Diameter\")"
   ]
  },
  {
   "cell_type": "code",
   "execution_count": null,
   "metadata": {},
   "outputs": [],
   "source": [
    "korelasi(\"Diameter\")"
   ]
  },
  {
   "cell_type": "markdown",
   "metadata": {},
   "source": [
    "#### Korelasi KadarAir dengan Kelas"
   ]
  },
  {
   "cell_type": "code",
   "execution_count": null,
   "metadata": {},
   "outputs": [],
   "source": [
    "scatter(\"KadarAir\")"
   ]
  },
  {
   "cell_type": "code",
   "execution_count": null,
   "metadata": {},
   "outputs": [],
   "source": [
    "korelasi(\"KadarAir\")"
   ]
  },
  {
   "cell_type": "markdown",
   "metadata": {},
   "source": [
    "#### Korelasi Keliling dengan Kelas"
   ]
  },
  {
   "cell_type": "code",
   "execution_count": null,
   "metadata": {},
   "outputs": [],
   "source": [
    "scatter(\"Keliling\")"
   ]
  },
  {
   "cell_type": "code",
   "execution_count": null,
   "metadata": {},
   "outputs": [],
   "source": [
    "korelasi(\"Keliling\")"
   ]
  },
  {
   "cell_type": "markdown",
   "metadata": {},
   "source": [
    "#### Korelasi Bulatan dengan Kelas"
   ]
  },
  {
   "cell_type": "code",
   "execution_count": null,
   "metadata": {},
   "outputs": [],
   "source": [
    "scatter(\"Bulatan\")"
   ]
  },
  {
   "cell_type": "code",
   "execution_count": null,
   "metadata": {},
   "outputs": [],
   "source": [
    "korelasi(\"Bulatan\")"
   ]
  },
  {
   "cell_type": "markdown",
   "metadata": {},
   "source": [
    "#### Korelasi Ransum dengan Kelas"
   ]
  },
  {
   "cell_type": "code",
   "execution_count": null,
   "metadata": {},
   "outputs": [],
   "source": [
    "scatter(\"Ransum\")"
   ]
  },
  {
   "cell_type": "code",
   "execution_count": null,
   "metadata": {},
   "outputs": [],
   "source": [
    "korelasi(\"Ransum\")"
   ]
  },
  {
   "cell_type": "code",
   "execution_count": null,
   "metadata": {},
   "outputs": [],
   "source": []
  }
 ],
 "metadata": {
  "kernelspec": {
   "display_name": "Python 3",
   "language": "python",
   "name": "python3"
  },
  "language_info": {
   "codemirror_mode": {
    "name": "ipython",
    "version": 3
   },
   "file_extension": ".py",
   "mimetype": "text/x-python",
   "name": "python",
   "nbconvert_exporter": "python",
   "pygments_lexer": "ipython3",
   "version": "3.8.5"
  }
 },
 "nbformat": 4,
 "nbformat_minor": 2
}
