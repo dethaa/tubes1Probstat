{
 "cells": [
  {
   "cell_type": "markdown",
   "metadata": {},
   "source": [
    "### 1. Data Statistika"
   ]
  },
  {
   "cell_type": "code",
   "execution_count": 111,
   "metadata": {},
   "outputs": [],
   "source": [
    "import pandas as pd\n",
    "import scipy.stats as st\n",
    "from IPython.display import display, Markdown, Latex\n",
    "data = pd.read_csv('Gandum.csv')"
   ]
  },
  {
   "cell_type": "code",
   "execution_count": 207,
   "metadata": {
    "scrolled": false
   },
   "outputs": [
    {
     "data": {
      "text/markdown": [
       "__Beberapa data statistik:__"
      ],
      "text/plain": [
       "<IPython.core.display.Markdown object>"
      ]
     },
     "metadata": {},
     "output_type": "display_data"
    },
    {
     "name": "stdout",
     "output_type": "stream",
     "text": [
      "              Daerah  SumbuUtama  SumbuKecil  Keunikan   AreaBulatan  \\\n",
      "mean     4801.246000  116.045171   53.715246  0.878764  4.937048e+03   \n",
      "med      4735.000000  115.405140   53.731199  0.890045  4.857000e+03   \n",
      "std       986.395491   18.282626    4.071075  0.036586  1.011696e+03   \n",
      "var    972976.065615  334.254412   16.573650  0.001339  1.023529e+06   \n",
      "range    4931.000000  153.795469   29.071182  0.194085  5.141000e+03   \n",
      "min      2522.000000   74.133114   39.906517  0.719916  2.579000e+03   \n",
      "max      7453.000000  227.928583   68.977700  0.914001  7.720000e+03   \n",
      "25%      4042.750000  104.116098   51.193576  0.863676  4.170250e+03   \n",
      "50%      4735.000000  115.405140   53.731199  0.890045  4.857000e+03   \n",
      "75%      5495.500000  129.046792   56.325158  0.907578  5.654250e+03   \n",
      "iqr      1452.750000   24.930694    5.131582  0.043902  1.484000e+03   \n",
      "skew        0.238144    0.761529   -0.010828 -1.623472  2.575600e-01   \n",
      "kurt       -0.434631    4.330534    0.475568  2.917256 -4.096849e-01   \n",
      "\n",
      "        Diameter  KadarAir     Keliling    Bulatan    Ransum  \n",
      "mean   77.771158  0.648372   281.479722   0.761737  2.150915  \n",
      "med    77.645277  0.626117   280.045500   0.761288  2.193599  \n",
      "std     8.056867  0.094367    37.335402   0.061702  0.249767  \n",
      "var    64.913111  0.008905  1393.932221   0.003807  0.062383  \n",
      "range  40.747172  0.468972   291.822000   0.730158  1.024013  \n",
      "min    56.666658  0.409927   197.015000   0.174590  1.440796  \n",
      "max    97.413830  0.878899   488.837000   0.904748  2.464809  \n",
      "25%    71.745308  0.572632   255.883000   0.731991  1.983939  \n",
      "50%    77.645277  0.626117   280.045500   0.761288  2.193599  \n",
      "75%    83.648598  0.726633   306.062500   0.796361  2.381612  \n",
      "iqr    11.903290  0.154001    50.179500   0.064370  0.397673  \n",
      "skew    0.002725  0.493661     0.733627  -3.599237 -0.658188  \n",
      "kurt   -0.466455 -0.740326     2.272685  29.975096 -0.428656  \n"
     ]
    }
   ],
   "source": [
    "display(Markdown(\"__Beberapa data statistik:__\"))\n",
    "df = data[data.columns[1:11]]\n",
    "stats = df.describe().loc[['mean']]\n",
    "stats.loc['med'] = df.describe().loc['50%'].tolist()\n",
    "#stats.loc['mode'] = df.mode()[:1].max().tolist()\n",
    "stats.loc['std'] = df.std().tolist()\n",
    "stats.loc['var'] = df.var().tolist()\n",
    "stats.loc['range'] = (df.max() - df.min()).tolist()\n",
    "stats = stats.append(df.describe().loc[['min','max','25%','50%','75%']])\n",
    "stats.loc['iqr'] = (stats.loc['75%'] - stats.loc['25%']).tolist()\n",
    "stats.loc['skew'] = df.skew().tolist()\n",
    "stats.loc['kurt'] = df.kurtosis().tolist()\n",
    "print(stats)\n"
   ]
  },
  {
   "cell_type": "markdown",
   "metadata": {},
   "source": [
    "__Legenda:__ <br>\n",
    "mean\t: mean <br>\n",
    "med\t    : median<br>\n",
    "std\t    : standar deviasi<br>\n",
    "var\t    : variansi<br>\n",
    "range\t: range<br>\n",
    "min\t: nilai minimum<br>\n",
    "max\t: nilai maksimum<br>\n",
    "25%\t: kuartil 1<br>\n",
    "50%\t: kuartil 2<br>\n",
    "75%\t: kuartil 3<br>\n",
    "iqr\t: IQR<br>\n",
    "skew\t: skewness<br>\n",
    "kurt\t: kurtosis<br>"
   ]
  },
  {
   "cell_type": "code",
   "execution_count": 209,
   "metadata": {},
   "outputs": [
    {
     "data": {
      "text/markdown": [
       "__Data modus:__ "
      ],
      "text/plain": [
       "<IPython.core.display.Markdown object>"
      ]
     },
     "metadata": {},
     "output_type": "display_data"
    },
    {
     "data": {
      "text/html": [
       "<div>\n",
       "<style scoped>\n",
       "    .dataframe tbody tr th:only-of-type {\n",
       "        vertical-align: middle;\n",
       "    }\n",
       "\n",
       "    .dataframe tbody tr th {\n",
       "        vertical-align: top;\n",
       "    }\n",
       "\n",
       "    .dataframe thead th {\n",
       "        text-align: right;\n",
       "    }\n",
       "</style>\n",
       "<table border=\"1\" class=\"dataframe\">\n",
       "  <thead>\n",
       "    <tr style=\"text-align: right;\">\n",
       "      <th></th>\n",
       "      <th>Daerah</th>\n",
       "      <th>SumbuUtama</th>\n",
       "      <th>SumbuKecil</th>\n",
       "      <th>Keunikan</th>\n",
       "      <th>AreaBulatan</th>\n",
       "      <th>Diameter</th>\n",
       "      <th>KadarAir</th>\n",
       "      <th>Keliling</th>\n",
       "      <th>Bulatan</th>\n",
       "      <th>Ransum</th>\n",
       "    </tr>\n",
       "  </thead>\n",
       "  <tbody>\n",
       "    <tr>\n",
       "      <th>0</th>\n",
       "      <td>3992.0</td>\n",
       "      <td>74.133114</td>\n",
       "      <td>39.906517</td>\n",
       "      <td>0.719916</td>\n",
       "      <td>3802.0</td>\n",
       "      <td>71.293564</td>\n",
       "      <td>0.735849</td>\n",
       "      <td>197.015</td>\n",
       "      <td>0.174590</td>\n",
       "      <td>1.440796</td>\n",
       "    </tr>\n",
       "    <tr>\n",
       "      <th>1</th>\n",
       "      <td>4881.0</td>\n",
       "      <td>74.364021</td>\n",
       "      <td>41.436419</td>\n",
       "      <td>0.725553</td>\n",
       "      <td>4913.0</td>\n",
       "      <td>78.833256</td>\n",
       "      <td>0.824405</td>\n",
       "      <td>200.587</td>\n",
       "      <td>0.261297</td>\n",
       "      <td>1.453137</td>\n",
       "    </tr>\n",
       "    <tr>\n",
       "      <th>2</th>\n",
       "      <td>5642.0</td>\n",
       "      <td>74.691881</td>\n",
       "      <td>42.871879</td>\n",
       "      <td>0.731211</td>\n",
       "      <td>NaN</td>\n",
       "      <td>84.756224</td>\n",
       "      <td>NaN</td>\n",
       "      <td>202.456</td>\n",
       "      <td>0.299298</td>\n",
       "      <td>1.465950</td>\n",
       "    </tr>\n",
       "    <tr>\n",
       "      <th>3</th>\n",
       "      <td>6083.0</td>\n",
       "      <td>76.293164</td>\n",
       "      <td>43.284979</td>\n",
       "      <td>0.738639</td>\n",
       "      <td>NaN</td>\n",
       "      <td>88.006342</td>\n",
       "      <td>NaN</td>\n",
       "      <td>207.325</td>\n",
       "      <td>0.589146</td>\n",
       "      <td>1.483456</td>\n",
       "    </tr>\n",
       "    <tr>\n",
       "      <th>4</th>\n",
       "      <td>NaN</td>\n",
       "      <td>76.789043</td>\n",
       "      <td>44.119355</td>\n",
       "      <td>0.749282</td>\n",
       "      <td>NaN</td>\n",
       "      <td>NaN</td>\n",
       "      <td>NaN</td>\n",
       "      <td>207.697</td>\n",
       "      <td>0.603807</td>\n",
       "      <td>1.510000</td>\n",
       "    </tr>\n",
       "    <tr>\n",
       "      <th>...</th>\n",
       "      <td>...</td>\n",
       "      <td>...</td>\n",
       "      <td>...</td>\n",
       "      <td>...</td>\n",
       "      <td>...</td>\n",
       "      <td>...</td>\n",
       "      <td>...</td>\n",
       "      <td>...</td>\n",
       "      <td>...</td>\n",
       "      <td>...</td>\n",
       "    </tr>\n",
       "    <tr>\n",
       "      <th>495</th>\n",
       "      <td>NaN</td>\n",
       "      <td>152.068440</td>\n",
       "      <td>63.322854</td>\n",
       "      <td>0.913724</td>\n",
       "      <td>NaN</td>\n",
       "      <td>NaN</td>\n",
       "      <td>NaN</td>\n",
       "      <td>375.651</td>\n",
       "      <td>0.872417</td>\n",
       "      <td>2.461017</td>\n",
       "    </tr>\n",
       "    <tr>\n",
       "      <th>496</th>\n",
       "      <td>NaN</td>\n",
       "      <td>152.113491</td>\n",
       "      <td>63.762307</td>\n",
       "      <td>0.913760</td>\n",
       "      <td>NaN</td>\n",
       "      <td>NaN</td>\n",
       "      <td>NaN</td>\n",
       "      <td>390.125</td>\n",
       "      <td>0.874243</td>\n",
       "      <td>2.461510</td>\n",
       "    </tr>\n",
       "    <tr>\n",
       "      <th>497</th>\n",
       "      <td>NaN</td>\n",
       "      <td>153.583387</td>\n",
       "      <td>64.012769</td>\n",
       "      <td>0.913891</td>\n",
       "      <td>NaN</td>\n",
       "      <td>NaN</td>\n",
       "      <td>NaN</td>\n",
       "      <td>434.235</td>\n",
       "      <td>0.874743</td>\n",
       "      <td>2.463297</td>\n",
       "    </tr>\n",
       "    <tr>\n",
       "      <th>498</th>\n",
       "      <td>NaN</td>\n",
       "      <td>227.105462</td>\n",
       "      <td>65.738475</td>\n",
       "      <td>0.913909</td>\n",
       "      <td>NaN</td>\n",
       "      <td>NaN</td>\n",
       "      <td>NaN</td>\n",
       "      <td>448.305</td>\n",
       "      <td>0.891706</td>\n",
       "      <td>2.463546</td>\n",
       "    </tr>\n",
       "    <tr>\n",
       "      <th>499</th>\n",
       "      <td>NaN</td>\n",
       "      <td>227.928583</td>\n",
       "      <td>68.977700</td>\n",
       "      <td>0.914001</td>\n",
       "      <td>NaN</td>\n",
       "      <td>NaN</td>\n",
       "      <td>NaN</td>\n",
       "      <td>488.837</td>\n",
       "      <td>0.904748</td>\n",
       "      <td>2.464809</td>\n",
       "    </tr>\n",
       "  </tbody>\n",
       "</table>\n",
       "<p>500 rows × 10 columns</p>\n",
       "</div>"
      ],
      "text/plain": [
       "     Daerah  SumbuUtama  SumbuKecil  Keunikan  AreaBulatan   Diameter  \\\n",
       "0    3992.0   74.133114   39.906517  0.719916       3802.0  71.293564   \n",
       "1    4881.0   74.364021   41.436419  0.725553       4913.0  78.833256   \n",
       "2    5642.0   74.691881   42.871879  0.731211          NaN  84.756224   \n",
       "3    6083.0   76.293164   43.284979  0.738639          NaN  88.006342   \n",
       "4       NaN   76.789043   44.119355  0.749282          NaN        NaN   \n",
       "..      ...         ...         ...       ...          ...        ...   \n",
       "495     NaN  152.068440   63.322854  0.913724          NaN        NaN   \n",
       "496     NaN  152.113491   63.762307  0.913760          NaN        NaN   \n",
       "497     NaN  153.583387   64.012769  0.913891          NaN        NaN   \n",
       "498     NaN  227.105462   65.738475  0.913909          NaN        NaN   \n",
       "499     NaN  227.928583   68.977700  0.914001          NaN        NaN   \n",
       "\n",
       "     KadarAir  Keliling   Bulatan    Ransum  \n",
       "0    0.735849   197.015  0.174590  1.440796  \n",
       "1    0.824405   200.587  0.261297  1.453137  \n",
       "2         NaN   202.456  0.299298  1.465950  \n",
       "3         NaN   207.325  0.589146  1.483456  \n",
       "4         NaN   207.697  0.603807  1.510000  \n",
       "..        ...       ...       ...       ...  \n",
       "495       NaN   375.651  0.872417  2.461017  \n",
       "496       NaN   390.125  0.874243  2.461510  \n",
       "497       NaN   434.235  0.874743  2.463297  \n",
       "498       NaN   448.305  0.891706  2.463546  \n",
       "499       NaN   488.837  0.904748  2.464809  \n",
       "\n",
       "[500 rows x 10 columns]"
      ]
     },
     "execution_count": 209,
     "metadata": {},
     "output_type": "execute_result"
    }
   ],
   "source": [
    "display(Markdown(\"__Data modus:__ \"))\n",
    "df.mode()"
   ]
  },
  {
   "cell_type": "markdown",
   "metadata": {},
   "source": [
    "### 4. Tes Hipotesis 1 Sampel"
   ]
  },
  {
   "cell_type": "code",
   "execution_count": 212,
   "metadata": {
    "scrolled": true
   },
   "outputs": [
    {
     "data": {
      "text/markdown": [
       "Nilai alpha yang digunakan bernilai tetap yaitu 0.05."
      ],
      "text/plain": [
       "<IPython.core.display.Markdown object>"
      ]
     },
     "metadata": {},
     "output_type": "display_data"
    },
    {
     "data": {
      "text/markdown": [
       "Maka, daerah kritis terletak pada z > 1.6448536269514722."
      ],
      "text/plain": [
       "<IPython.core.display.Markdown object>"
      ]
     },
     "metadata": {},
     "output_type": "display_data"
    }
   ],
   "source": [
    "display(Markdown(\"Nilai alpha yang digunakan bernilai tetap yaitu 0.05.\"))\n",
    "alpha = 0.05\n",
    "cpoint = st.norm.ppf(1-alpha) #titik kritis\n",
    "display(Markdown(\"Maka, daerah kritis terletak pada z > \" + str (cpoint) + \".\"))\n",
    "yaya = st.norm.cdf(1.65)"
   ]
  },
  {
   "cell_type": "code",
   "execution_count": 215,
   "metadata": {},
   "outputs": [],
   "source": [
    "def countZ(kol,mu):\n",
    "    #menampilkan nilai x̄̅, σ, n, dan juga hasil perhitungan z \n",
    "    mean = data[kol].mean()\n",
    "    print(\"x̄̅ = \" + str(mean))\n",
    "    std = data[kol].std()\n",
    "    print(\"σ = \" + str(std))\n",
    "    count = data[kol].count()\n",
    "    print(\"n = \" + str(count))\n",
    "    z = (mean-mu)/(std/(count**0.5)) \n",
    "    print(\"Maka, z = \" + str(z) + \".\")\n",
    "    print(\"Sedangkan, daerah kritis terletak pada z > \" + str(cpoint) + \".\")\n",
    "    return z\n",
    "\n",
    "def cekKritis(z,str):\n",
    "    if str==\">\":\n",
    "        if (z>cpoint):\n",
    "            display(Markdown(\"Karena z berada di daerah kritis, maka __$H_{0}$ ditolak.__\"))"
   ]
  },
  {
   "cell_type": "markdown",
   "metadata": {},
   "source": [
    "#### Pengujian Terhadap $μ_{Daerah} > 4700$"
   ]
  },
  {
   "cell_type": "code",
   "execution_count": 84,
   "metadata": {},
   "outputs": [
    {
     "data": {
      "text/plain": [
       "<AxesSubplot:>"
      ]
     },
     "execution_count": 84,
     "metadata": {},
     "output_type": "execute_result"
    },
    {
     "data": {
      "image/png": "[encoded data removed]",
      "text/plain": [
       "<Figure size 432x288 with 1 Axes>"
      ]
     },
     "metadata": {
      "needs_background": "light"
     },
     "output_type": "display_data"
    }
   ],
   "source": [
    "data.boxplot([\"Daerah\"])"
   ]
  },
  {
   "cell_type": "markdown",
   "metadata": {},
   "source": [
    "$H_{0}: μ_{Daerah} = 4700$ <br> \n",
    "$H_{1}: μ_{Daerah} > 4700$ <br> \n",
    "$α = 0.05$"
   ]
  },
  {
   "cell_type": "markdown",
   "metadata": {},
   "source": [
    "Diketahui rumus mencari nilai z sebagai berikut: <br>\n",
    "$\\;\\;\\;\\;\\;\\;z= \\frac{\\bar{x}-\\mu}{\\frac{\\sigma}{\\sqrt n}}$"
   ]
  },
  {
   "cell_type": "code",
   "execution_count": 216,
   "metadata": {},
   "outputs": [
    {
     "name": "stdout",
     "output_type": "stream",
     "text": [
      "x̄̅ = 4801.246\n",
      "σ = 986.3954914816017\n",
      "n = 500\n",
      "Maka, z = 2.2951538242525173.\n",
      "Sedangkan, daerah kritis terletak pada z > 1.6448536269514722.\n"
     ]
    },
    {
     "data": {
      "text/markdown": [
       "Karena z berada di daerah kritis, maka __$H_{0}$ ditolak.__"
      ],
      "text/plain": [
       "<IPython.core.display.Markdown object>"
      ]
     },
     "metadata": {},
     "output_type": "display_data"
    }
   ],
   "source": [
    "zdaerah = countZ(\"Daerah\",4700)\n",
    "cekKritis(zdaerah,\">\")"
   ]
  },
  {
   "cell_type": "code",
   "execution_count": null,
   "metadata": {},
   "outputs": [],
   "source": []
  },
  {
   "cell_type": "markdown",
   "metadata": {},
   "source": [
    "### 6. Tes Korelasi"
   ]
  },
  {
   "cell_type": "markdown",
   "metadata": {},
   "source": [
    "Apabila nilai korelasi mendekati 0, kedua kolom tidak berkorelasi. <br>\n",
    "Apabila nilai korelasi mendekati 1, kedua kolom berbanding lurus. <br>\n",
    "Apabila nilai korelasi mendekati -1, kedua kolom berbanding terbalik. <br>"
   ]
  },
  {
   "cell_type": "code",
   "execution_count": 159,
   "metadata": {},
   "outputs": [],
   "source": [
    "#DEKLARASI FUNGSI/PROSEDUR YANG DIBUTUHKAN\n",
    "\n",
    "def scatter(kol1):\n",
    "    display(Markdown(\"Scatterplot \" + kol1 + \" dengan Kelas\"))\n",
    "    sns.scatterplot(data[kol1],data['Kelas'])\n",
    "def min3(a,b,c):\n",
    "    #mengembalikan 0 apabila a minimal, 1 apabila b minimal, 2 apabila c minimal\n",
    "    if a<b:\n",
    "        if a<c:\n",
    "            return 0\n",
    "        else:\n",
    "            return 2\n",
    "    else:\n",
    "        if b<c:\n",
    "            return 1\n",
    "        else:\n",
    "            return 2\n",
    "        \n",
    "def korelasi(kol1):\n",
    "    #menampilkan nilai korelasi antara kol1 dengan Kelas serta jenis kolerasinya\n",
    "    kor = data[kol1].corr(data['Kelas'])\n",
    "    display(Markdown(\"Nilai korelasi antara \" + kol1 + \" dengan Kelas adalah = \" + str(kor)))\n",
    "    diff0 = abs(kor)\n",
    "    diff1 = abs(kor-1)\n",
    "    diffmin1 = abs(kor+1)\n",
    "    hsl = min3(diff0,diff1,diffmin1)\n",
    "    if hsl==0:\n",
    "        display(Markdown(\"Maka, keduanya tidak berkolerasi.\"))\n",
    "    elif hsl==1:\n",
    "        display(Markdown(\"Maka, keduanya memiliki korelasi yang berbanding lurus.\"))\n",
    "                \n",
    "    else: #hsl==2\n",
    "        display(Markdown(\"Maka, keduanya memiliki korelasi yang berbanding terbalik.\"))"
   ]
  },
  {
   "cell_type": "markdown",
   "metadata": {},
   "source": [
    "#### Korelasi Daerah dengan Kelas "
   ]
  },
  {
   "cell_type": "code",
   "execution_count": 26,
   "metadata": {},
   "outputs": [],
   "source": [
    "import seaborn as sns\n",
    "import warnings\n",
    "warnings.simplefilter(action=\"ignore\", category=FutureWarning)"
   ]
  },
  {
   "cell_type": "code",
   "execution_count": 163,
   "metadata": {},
   "outputs": [
    {
     "data": {
      "text/markdown": [
       "Scatterplot Daerah dengan Kelas"
      ],
      "text/plain": [
       "<IPython.core.display.Markdown object>"
      ]
     },
     "metadata": {},
     "output_type": "display_data"
    },
    {
     "data": {
      "image/png": "[encoded data removed]",
      "text/plain": [
       "<Figure size 432x288 with 1 Axes>"
      ]
     },
     "metadata": {
      "needs_background": "light"
     },
     "output_type": "display_data"
    }
   ],
   "source": [
    "scatter(\"Daerah\")"
   ]
  },
  {
   "cell_type": "code",
   "execution_count": 161,
   "metadata": {},
   "outputs": [
    {
     "data": {
      "text/markdown": [
       "Nilai korelasi antara Daerah dengan Kelas adalah = -0.6027466517416661"
      ],
      "text/plain": [
       "<IPython.core.display.Markdown object>"
      ]
     },
     "metadata": {},
     "output_type": "display_data"
    },
    {
     "data": {
      "text/markdown": [
       "Maka, keduanya memiliki korelasi yang berbanding terbalik."
      ],
      "text/plain": [
       "<IPython.core.display.Markdown object>"
      ]
     },
     "metadata": {},
     "output_type": "display_data"
    }
   ],
   "source": [
    "korelasi(\"Daerah\")"
   ]
  },
  {
   "cell_type": "markdown",
   "metadata": {},
   "source": [
    "#### Korelasi SumbuUtama dengan Kelas "
   ]
  },
  {
   "cell_type": "code",
   "execution_count": 164,
   "metadata": {},
   "outputs": [
    {
     "data": {
      "text/markdown": [
       "Scatterplot SumbuUtama dengan Kelas"
      ],
      "text/plain": [
       "<IPython.core.display.Markdown object>"
      ]
     },
     "metadata": {},
     "output_type": "display_data"
    },
    {
     "data": {
      "image/png": "[encoded data removed]",
      "text/plain": [
       "<Figure size 432x288 with 1 Axes>"
      ]
     },
     "metadata": {
      "needs_background": "light"
     },
     "output_type": "display_data"
    }
   ],
   "source": [
    "scatter(\"SumbuUtama\")"
   ]
  },
  {
   "cell_type": "code",
   "execution_count": 165,
   "metadata": {},
   "outputs": [
    {
     "data": {
      "text/markdown": [
       "Nilai korelasi antara SumbuUtama dengan Kelas adalah = -0.7130906104204594"
      ],
      "text/plain": [
       "<IPython.core.display.Markdown object>"
      ]
     },
     "metadata": {},
     "output_type": "display_data"
    },
    {
     "data": {
      "text/markdown": [
       "Maka, keduanya memiliki korelasi yang berbanding terbalik."
      ],
      "text/plain": [
       "<IPython.core.display.Markdown object>"
      ]
     },
     "metadata": {},
     "output_type": "display_data"
    }
   ],
   "source": [
    "korelasi(\"SumbuUtama\")"
   ]
  },
  {
   "cell_type": "markdown",
   "metadata": {},
   "source": [
    "#### Korelasi SumbuKecil dengan Kelas"
   ]
  },
  {
   "cell_type": "code",
   "execution_count": 166,
   "metadata": {},
   "outputs": [
    {
     "data": {
      "text/markdown": [
       "Scatterplot SumbuKecil dengan Kelas"
      ],
      "text/plain": [
       "<IPython.core.display.Markdown object>"
      ]
     },
     "metadata": {},
     "output_type": "display_data"
    },
    {
     "data": {
      "image/png": "[encoded data removed]",
      "text/plain": [
       "<Figure size 432x288 with 1 Axes>"
      ]
     },
     "metadata": {
      "needs_background": "light"
     },
     "output_type": "display_data"
    }
   ],
   "source": [
    "scatter(\"SumbuKecil\")"
   ]
  },
  {
   "cell_type": "code",
   "execution_count": 167,
   "metadata": {},
   "outputs": [
    {
     "data": {
      "text/markdown": [
       "Nilai korelasi antara SumbuKecil dengan Kelas adalah = -0.1529751733553502"
      ],
      "text/plain": [
       "<IPython.core.display.Markdown object>"
      ]
     },
     "metadata": {},
     "output_type": "display_data"
    },
    {
     "data": {
      "text/markdown": [
       "Maka, keduanya tidak berkolerasi."
      ],
      "text/plain": [
       "<IPython.core.display.Markdown object>"
      ]
     },
     "metadata": {},
     "output_type": "display_data"
    }
   ],
   "source": [
    "korelasi(\"SumbuKecil\")"
   ]
  },
  {
   "cell_type": "markdown",
   "metadata": {},
   "source": [
    "#### Korelasi Keunikan dengan Kelas "
   ]
  },
  {
   "cell_type": "code",
   "execution_count": 168,
   "metadata": {},
   "outputs": [
    {
     "data": {
      "text/markdown": [
       "Scatterplot Keunikan dengan Kelas"
      ],
      "text/plain": [
       "<IPython.core.display.Markdown object>"
      ]
     },
     "metadata": {},
     "output_type": "display_data"
    },
    {
     "data": {
      "image/png": "[encoded data removed]",
      "text/plain": [
       "<Figure size 432x288 with 1 Axes>"
      ]
     },
     "metadata": {
      "needs_background": "light"
     },
     "output_type": "display_data"
    }
   ],
   "source": [
    "scatter(\"Keunikan\")"
   ]
  },
  {
   "cell_type": "code",
   "execution_count": 170,
   "metadata": {
    "scrolled": true
   },
   "outputs": [
    {
     "data": {
      "text/markdown": [
       "Nilai korelasi antara Keunikan dengan Kelas adalah = -0.7304563686511925"
      ],
      "text/plain": [
       "<IPython.core.display.Markdown object>"
      ]
     },
     "metadata": {},
     "output_type": "display_data"
    },
    {
     "data": {
      "text/markdown": [
       "Maka, keduanya memiliki korelasi yang berbanding terbalik."
      ],
      "text/plain": [
       "<IPython.core.display.Markdown object>"
      ]
     },
     "metadata": {},
     "output_type": "display_data"
    }
   ],
   "source": [
    "korelasi(\"Keunikan\")"
   ]
  },
  {
   "cell_type": "markdown",
   "metadata": {},
   "source": [
    "#### Korelasi AreaBulatan dengan Kelas"
   ]
  },
  {
   "cell_type": "code",
   "execution_count": 171,
   "metadata": {},
   "outputs": [
    {
     "data": {
      "text/markdown": [
       "Scatterplot AreaBulatan dengan Kelas"
      ],
      "text/plain": [
       "<IPython.core.display.Markdown object>"
      ]
     },
     "metadata": {},
     "output_type": "display_data"
    },
    {
     "data": {
      "image/png": "[encoded data removed]",
      "text/plain": [
       "<Figure size 432x288 with 1 Axes>"
      ]
     },
     "metadata": {
      "needs_background": "light"
     },
     "output_type": "display_data"
    }
   ],
   "source": [
    "scatter(\"AreaBulatan\")"
   ]
  },
  {
   "cell_type": "code",
   "execution_count": 173,
   "metadata": {},
   "outputs": [
    {
     "data": {
      "text/markdown": [
       "Nilai korelasi antara AreaBulatan dengan Kelas adalah = -0.6073125434153749"
      ],
      "text/plain": [
       "<IPython.core.display.Markdown object>"
      ]
     },
     "metadata": {},
     "output_type": "display_data"
    },
    {
     "data": {
      "text/markdown": [
       "Maka, keduanya memiliki korelasi yang berbanding terbalik."
      ],
      "text/plain": [
       "<IPython.core.display.Markdown object>"
      ]
     },
     "metadata": {},
     "output_type": "display_data"
    }
   ],
   "source": [
    "korelasi(\"AreaBulatan\")"
   ]
  },
  {
   "cell_type": "markdown",
   "metadata": {},
   "source": [
    "#### Korelasi Diameter dengan Kelas"
   ]
  },
  {
   "cell_type": "code",
   "execution_count": 174,
   "metadata": {},
   "outputs": [
    {
     "data": {
      "text/markdown": [
       "Scatterplot Diameter dengan Kelas"
      ],
      "text/plain": [
       "<IPython.core.display.Markdown object>"
      ]
     },
     "metadata": {},
     "output_type": "display_data"
    },
    {
     "data": {
      "image/png": "[encoded data removed]",
      "text/plain": [
       "<Figure size 432x288 with 1 Axes>"
      ]
     },
     "metadata": {
      "needs_background": "light"
     },
     "output_type": "display_data"
    }
   ],
   "source": [
    "scatter(\"Diameter\")"
   ]
  },
  {
   "cell_type": "code",
   "execution_count": 175,
   "metadata": {},
   "outputs": [
    {
     "data": {
      "text/markdown": [
       "Nilai korelasi antara Diameter dengan Kelas adalah = -0.6025356896618809"
      ],
      "text/plain": [
       "<IPython.core.display.Markdown object>"
      ]
     },
     "metadata": {},
     "output_type": "display_data"
    },
    {
     "data": {
      "text/markdown": [
       "Maka, keduanya memiliki korelasi yang berbanding terbalik."
      ],
      "text/plain": [
       "<IPython.core.display.Markdown object>"
      ]
     },
     "metadata": {},
     "output_type": "display_data"
    }
   ],
   "source": [
    "korelasi(\"Diameter\")"
   ]
  },
  {
   "cell_type": "markdown",
   "metadata": {},
   "source": [
    "#### Korelasi KadarAir dengan Kelas"
   ]
  },
  {
   "cell_type": "code",
   "execution_count": 176,
   "metadata": {},
   "outputs": [
    {
     "data": {
      "text/markdown": [
       "Scatterplot KadarAir dengan Kelas"
      ],
      "text/plain": [
       "<IPython.core.display.Markdown object>"
      ]
     },
     "metadata": {},
     "output_type": "display_data"
    },
    {
     "data": {
      "image/png": "[encoded data removed]",
      "text/plain": [
       "<Figure size 432x288 with 1 Axes>"
      ]
     },
     "metadata": {
      "needs_background": "light"
     },
     "output_type": "display_data"
    }
   ],
   "source": [
    "scatter(\"KadarAir\")"
   ]
  },
  {
   "cell_type": "code",
   "execution_count": 177,
   "metadata": {},
   "outputs": [
    {
     "data": {
      "text/markdown": [
       "Nilai korelasi antara KadarAir dengan Kelas adalah = 0.13434422605727636"
      ],
      "text/plain": [
       "<IPython.core.display.Markdown object>"
      ]
     },
     "metadata": {},
     "output_type": "display_data"
    },
    {
     "data": {
      "text/markdown": [
       "Maka, keduanya tidak berkolerasi."
      ],
      "text/plain": [
       "<IPython.core.display.Markdown object>"
      ]
     },
     "metadata": {},
     "output_type": "display_data"
    }
   ],
   "source": [
    "korelasi(\"KadarAir\")"
   ]
  },
  {
   "cell_type": "markdown",
   "metadata": {},
   "source": [
    "#### Korelasi Keliling dengan Kelas"
   ]
  },
  {
   "cell_type": "code",
   "execution_count": 178,
   "metadata": {},
   "outputs": [
    {
     "data": {
      "text/markdown": [
       "Scatterplot Keliling dengan Kelas"
      ],
      "text/plain": [
       "<IPython.core.display.Markdown object>"
      ]
     },
     "metadata": {},
     "output_type": "display_data"
    },
    {
     "data": {
      "image/png": "[encoded data removed]",
      "text/plain": [
       "<Figure size 432x288 with 1 Axes>"
      ]
     },
     "metadata": {
      "needs_background": "light"
     },
     "output_type": "display_data"
    }
   ],
   "source": [
    "scatter(\"Keliling\")"
   ]
  },
  {
   "cell_type": "code",
   "execution_count": 179,
   "metadata": {},
   "outputs": [
    {
     "data": {
      "text/markdown": [
       "Nilai korelasi antara Keliling dengan Kelas adalah = -0.6348607454756853"
      ],
      "text/plain": [
       "<IPython.core.display.Markdown object>"
      ]
     },
     "metadata": {},
     "output_type": "display_data"
    },
    {
     "data": {
      "text/markdown": [
       "Maka, keduanya memiliki korelasi yang berbanding terbalik."
      ],
      "text/plain": [
       "<IPython.core.display.Markdown object>"
      ]
     },
     "metadata": {},
     "output_type": "display_data"
    }
   ],
   "source": [
    "korelasi(\"Keliling\")"
   ]
  },
  {
   "cell_type": "markdown",
   "metadata": {},
   "source": [
    "#### Korelasi Bulatan dengan Kelas"
   ]
  },
  {
   "cell_type": "code",
   "execution_count": 180,
   "metadata": {},
   "outputs": [
    {
     "data": {
      "text/markdown": [
       "Scatterplot Bulatan dengan Kelas"
      ],
      "text/plain": [
       "<IPython.core.display.Markdown object>"
      ]
     },
     "metadata": {},
     "output_type": "display_data"
    },
    {
     "data": {
      "image/png": "[encoded data removed]",
      "text/plain": [
       "<Figure size 432x288 with 1 Axes>"
      ]
     },
     "metadata": {
      "needs_background": "light"
     },
     "output_type": "display_data"
    }
   ],
   "source": [
    "scatter(\"Bulatan\")"
   ]
  },
  {
   "cell_type": "code",
   "execution_count": 181,
   "metadata": {},
   "outputs": [
    {
     "data": {
      "text/markdown": [
       "Nilai korelasi antara Bulatan dengan Kelas adalah = 0.5450045317240069"
      ],
      "text/plain": [
       "<IPython.core.display.Markdown object>"
      ]
     },
     "metadata": {},
     "output_type": "display_data"
    },
    {
     "data": {
      "text/markdown": [
       "Maka, keduanya memiliki korelasi yang berbanding lurus."
      ],
      "text/plain": [
       "<IPython.core.display.Markdown object>"
      ]
     },
     "metadata": {},
     "output_type": "display_data"
    }
   ],
   "source": [
    "korelasi(\"Bulatan\")"
   ]
  },
  {
   "cell_type": "markdown",
   "metadata": {},
   "source": [
    "#### Korelasi Ransum dengan Kelas"
   ]
  },
  {
   "cell_type": "code",
   "execution_count": 182,
   "metadata": {},
   "outputs": [
    {
     "data": {
      "text/markdown": [
       "Scatterplot Ransum dengan Kelas"
      ],
      "text/plain": [
       "<IPython.core.display.Markdown object>"
      ]
     },
     "metadata": {},
     "output_type": "display_data"
    },
    {
     "data": {
      "image/png": "[encoded data removed]",
      "text/plain": [
       "<Figure size 432x288 with 1 Axes>"
      ]
     },
     "metadata": {
      "needs_background": "light"
     },
     "output_type": "display_data"
    }
   ],
   "source": [
    "scatter(\"Ransum\")"
   ]
  },
  {
   "cell_type": "code",
   "execution_count": 183,
   "metadata": {},
   "outputs": [
    {
     "data": {
      "text/markdown": [
       "Nilai korelasi antara Ransum dengan Kelas adalah = -0.8399038681287486"
      ],
      "text/plain": [
       "<IPython.core.display.Markdown object>"
      ]
     },
     "metadata": {},
     "output_type": "display_data"
    },
    {
     "data": {
      "text/markdown": [
       "Maka, keduanya memiliki korelasi yang berbanding terbalik."
      ],
      "text/plain": [
       "<IPython.core.display.Markdown object>"
      ]
     },
     "metadata": {},
     "output_type": "display_data"
    }
   ],
   "source": [
    "korelasi(\"Ransum\")"
   ]
  }
 ],
 "metadata": {
  "kernelspec": {
   "display_name": "Python 3",
   "language": "python",
   "name": "python3"
  },
  "language_info": {
   "codemirror_mode": {
    "name": "ipython",
    "version": 3
   },
   "file_extension": ".py",
   "mimetype": "text/x-python",
   "name": "python",
   "nbconvert_exporter": "python",
   "pygments_lexer": "ipython3",
   "version": "3.8.5"
  }
 },
 "nbformat": 4,
 "nbformat_minor": 2
}
