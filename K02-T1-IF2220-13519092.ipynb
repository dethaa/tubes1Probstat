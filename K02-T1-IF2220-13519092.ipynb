{
 "cells": [
  {
   "cell_type": "markdown",
   "metadata": {},
   "source": [
    "## Tugas Besar IF2220 Probabilitas dan Statistika"
   ]
  },
  {
   "cell_type": "markdown",
   "metadata": {},
   "source": [
    "Disusun oleh:\n",
    "1. Sharon Bernadetha Marbun (13519092)\n",
    "2. Nabelanita Utami (13519104)"
   ]
  },
  {
   "cell_type": "markdown",
   "metadata": {},
   "source": [
    "## Daftar Isi\n",
    "I. Judul<br>\n",
    "II. Daftar isi<br>\n",
    "III. Hasil<br>\n",
    "&nbsp;&nbsp;&nbsp;&nbsp;&nbsp;&nbsp;1. [Deskripsi Statistika](#1.-Data-Statistika)<br>\n",
    "&nbsp;&nbsp;&nbsp;&nbsp;&nbsp;&nbsp;2. [Visualisasi Kolom Distribusi](#2.-Visualisasi-Kolom-Distribusi)<br>\n",
    "&nbsp;&nbsp;&nbsp;&nbsp;&nbsp;&nbsp;3. [Normality Test](#3.-Normality-Test)<br>\n",
    "&nbsp;&nbsp;&nbsp;&nbsp;&nbsp;&nbsp;4. [Tes Hipotesis 1 Sampel](#-4.-Tes-Hipotesis-1-Sampel)<br>\n",
    "&nbsp;&nbsp;&nbsp;&nbsp;&nbsp;&nbsp;5. [Tes Hipotesis 2 Sampel](#-5.-Tes-Hipotesis-2-Sampel)<br>\n",
    "&nbsp;&nbsp;&nbsp;&nbsp;&nbsp;&nbsp;6 [Tes korelasi](#6.-Tes-Korelasi)<br>\n",
    "IV. Referensi<br>"
   ]
  },
  {
   "cell_type": "markdown",
   "metadata": {},
   "source": [
    "### 1. Data Statistika"
   ]
  },
  {
   "cell_type": "code",
   "execution_count": 344,
   "metadata": {},
   "outputs": [],
   "source": [
    "import pandas as pd\n",
    "import scipy\n",
    "import scipy.stats as st\n",
    "from scipy import stats\n",
    "import matplotlib.pyplot as plt\n",
    "import random\n",
    "import statistics\n",
    "from IPython.display import display, Markdown\n",
    "data = pd.read_csv('Gandum.csv')"
   ]
  },
  {
   "cell_type": "code",
   "execution_count": 319,
   "metadata": {
    "scrolled": false
   },
   "outputs": [
    {
     "data": {
      "text/markdown": [
       "__Beberapa data statistik:__"
      ],
      "text/plain": [
       "<IPython.core.display.Markdown object>"
      ]
     },
     "metadata": {},
     "output_type": "display_data"
    },
    {
     "name": "stdout",
     "output_type": "stream",
     "text": [
      "              Daerah  SumbuUtama  SumbuKecil  Keunikan   AreaBulatan  \\\n",
      "mean     4801.246000  116.045171   53.715246  0.878764  4.937048e+03   \n",
      "med      4735.000000  115.405140   53.731199  0.890045  4.857000e+03   \n",
      "std       986.395491   18.282626    4.071075  0.036586  1.011696e+03   \n",
      "var    972976.065615  334.254412   16.573650  0.001339  1.023529e+06   \n",
      "range    4931.000000  153.795469   29.071182  0.194085  5.141000e+03   \n",
      "min      2522.000000   74.133114   39.906517  0.719916  2.579000e+03   \n",
      "max      7453.000000  227.928583   68.977700  0.914001  7.720000e+03   \n",
      "25%      4042.750000  104.116098   51.193576  0.863676  4.170250e+03   \n",
      "50%      4735.000000  115.405140   53.731199  0.890045  4.857000e+03   \n",
      "75%      5495.500000  129.046792   56.325158  0.907578  5.654250e+03   \n",
      "iqr      1452.750000   24.930694    5.131582  0.043902  1.484000e+03   \n",
      "skew        0.238144    0.761529   -0.010828 -1.623472  2.575600e-01   \n",
      "kurt       -0.434631    4.330534    0.475568  2.917256 -4.096849e-01   \n",
      "\n",
      "        Diameter  KadarAir     Keliling    Bulatan    Ransum  \n",
      "mean   77.771158  0.648372   281.479722   0.761737  2.150915  \n",
      "med    77.645277  0.626117   280.045500   0.761288  2.193599  \n",
      "std     8.056867  0.094367    37.335402   0.061702  0.249767  \n",
      "var    64.913111  0.008905  1393.932221   0.003807  0.062383  \n",
      "range  40.747172  0.468972   291.822000   0.730158  1.024013  \n",
      "min    56.666658  0.409927   197.015000   0.174590  1.440796  \n",
      "max    97.413830  0.878899   488.837000   0.904748  2.464809  \n",
      "25%    71.745308  0.572632   255.883000   0.731991  1.983939  \n",
      "50%    77.645277  0.626117   280.045500   0.761288  2.193599  \n",
      "75%    83.648598  0.726633   306.062500   0.796361  2.381612  \n",
      "iqr    11.903290  0.154001    50.179500   0.064370  0.397673  \n",
      "skew    0.002725  0.493661     0.733627  -3.599237 -0.658188  \n",
      "kurt   -0.466455 -0.740326     2.272685  29.975096 -0.428656  \n"
     ]
    }
   ],
   "source": [
    "display(Markdown(\"__Beberapa data statistik:__\"))\n",
    "df = data[data.columns[1:11]]\n",
    "stats = df.describe().loc[['mean']]\n",
    "stats.loc['med'] = df.describe().loc['50%'].tolist()\n",
    "#stats.loc['mode'] = df.mode()[:1].max().tolist()\n",
    "stats.loc['std'] = df.std().tolist()\n",
    "stats.loc['var'] = df.var().tolist()\n",
    "stats.loc['range'] = (df.max() - df.min()).tolist()\n",
    "stats = stats.append(df.describe().loc[['min','max','25%','50%','75%']])\n",
    "stats.loc['iqr'] = (stats.loc['75%'] - stats.loc['25%']).tolist()\n",
    "stats.loc['skew'] = df.skew().tolist()\n",
    "stats.loc['kurt'] = df.kurtosis().tolist()\n",
    "print(stats)\n"
   ]
  },
  {
   "cell_type": "markdown",
   "metadata": {},
   "source": [
    "__Legenda:__ <br>\n",
    "mean\t: mean <br>\n",
    "med\t    : median<br>\n",
    "std\t    : standar deviasi<br>\n",
    "var\t    : variansi<br>\n",
    "range\t: range<br>\n",
    "min\t: nilai minimum<br>\n",
    "max\t: nilai maksimum<br>\n",
    "25%\t: kuartil 1<br>\n",
    "50%\t: kuartil 2<br>\n",
    "75%\t: kuartil 3<br>\n",
    "iqr\t: IQR<br>\n",
    "skew\t: skewness<br>\n",
    "kurt\t: kurtosis<br>"
   ]
  },
  {
   "cell_type": "code",
   "execution_count": 320,
   "metadata": {},
   "outputs": [
    {
     "data": {
      "text/markdown": [
       "__Data modus:__ "
      ],
      "text/plain": [
       "<IPython.core.display.Markdown object>"
      ]
     },
     "metadata": {},
     "output_type": "display_data"
    },
    {
     "data": {
      "text/html": [
       "<div>\n",
       "<style scoped>\n",
       "    .dataframe tbody tr th:only-of-type {\n",
       "        vertical-align: middle;\n",
       "    }\n",
       "\n",
       "    .dataframe tbody tr th {\n",
       "        vertical-align: top;\n",
       "    }\n",
       "\n",
       "    .dataframe thead th {\n",
       "        text-align: right;\n",
       "    }\n",
       "</style>\n",
       "<table border=\"1\" class=\"dataframe\">\n",
       "  <thead>\n",
       "    <tr style=\"text-align: right;\">\n",
       "      <th></th>\n",
       "      <th>Daerah</th>\n",
       "      <th>SumbuUtama</th>\n",
       "      <th>SumbuKecil</th>\n",
       "      <th>Keunikan</th>\n",
       "      <th>AreaBulatan</th>\n",
       "      <th>Diameter</th>\n",
       "      <th>KadarAir</th>\n",
       "      <th>Keliling</th>\n",
       "      <th>Bulatan</th>\n",
       "      <th>Ransum</th>\n",
       "    </tr>\n",
       "  </thead>\n",
       "  <tbody>\n",
       "    <tr>\n",
       "      <th>0</th>\n",
       "      <td>3992.0</td>\n",
       "      <td>74.133114</td>\n",
       "      <td>39.906517</td>\n",
       "      <td>0.719916</td>\n",
       "      <td>3802.0</td>\n",
       "      <td>71.293564</td>\n",
       "      <td>0.735849</td>\n",
       "      <td>197.015</td>\n",
       "      <td>0.174590</td>\n",
       "      <td>1.440796</td>\n",
       "    </tr>\n",
       "    <tr>\n",
       "      <th>1</th>\n",
       "      <td>4881.0</td>\n",
       "      <td>74.364021</td>\n",
       "      <td>41.436419</td>\n",
       "      <td>0.725553</td>\n",
       "      <td>4913.0</td>\n",
       "      <td>78.833256</td>\n",
       "      <td>0.824405</td>\n",
       "      <td>200.587</td>\n",
       "      <td>0.261297</td>\n",
       "      <td>1.453137</td>\n",
       "    </tr>\n",
       "    <tr>\n",
       "      <th>2</th>\n",
       "      <td>5642.0</td>\n",
       "      <td>74.691881</td>\n",
       "      <td>42.871879</td>\n",
       "      <td>0.731211</td>\n",
       "      <td>NaN</td>\n",
       "      <td>84.756224</td>\n",
       "      <td>NaN</td>\n",
       "      <td>202.456</td>\n",
       "      <td>0.299298</td>\n",
       "      <td>1.465950</td>\n",
       "    </tr>\n",
       "    <tr>\n",
       "      <th>3</th>\n",
       "      <td>6083.0</td>\n",
       "      <td>76.293164</td>\n",
       "      <td>43.284979</td>\n",
       "      <td>0.738639</td>\n",
       "      <td>NaN</td>\n",
       "      <td>88.006342</td>\n",
       "      <td>NaN</td>\n",
       "      <td>207.325</td>\n",
       "      <td>0.589146</td>\n",
       "      <td>1.483456</td>\n",
       "    </tr>\n",
       "    <tr>\n",
       "      <th>4</th>\n",
       "      <td>NaN</td>\n",
       "      <td>76.789043</td>\n",
       "      <td>44.119355</td>\n",
       "      <td>0.749282</td>\n",
       "      <td>NaN</td>\n",
       "      <td>NaN</td>\n",
       "      <td>NaN</td>\n",
       "      <td>207.697</td>\n",
       "      <td>0.603807</td>\n",
       "      <td>1.510000</td>\n",
       "    </tr>\n",
       "    <tr>\n",
       "      <th>...</th>\n",
       "      <td>...</td>\n",
       "      <td>...</td>\n",
       "      <td>...</td>\n",
       "      <td>...</td>\n",
       "      <td>...</td>\n",
       "      <td>...</td>\n",
       "      <td>...</td>\n",
       "      <td>...</td>\n",
       "      <td>...</td>\n",
       "      <td>...</td>\n",
       "    </tr>\n",
       "    <tr>\n",
       "      <th>495</th>\n",
       "      <td>NaN</td>\n",
       "      <td>152.068440</td>\n",
       "      <td>63.322854</td>\n",
       "      <td>0.913724</td>\n",
       "      <td>NaN</td>\n",
       "      <td>NaN</td>\n",
       "      <td>NaN</td>\n",
       "      <td>375.651</td>\n",
       "      <td>0.872417</td>\n",
       "      <td>2.461017</td>\n",
       "    </tr>\n",
       "    <tr>\n",
       "      <th>496</th>\n",
       "      <td>NaN</td>\n",
       "      <td>152.113491</td>\n",
       "      <td>63.762307</td>\n",
       "      <td>0.913760</td>\n",
       "      <td>NaN</td>\n",
       "      <td>NaN</td>\n",
       "      <td>NaN</td>\n",
       "      <td>390.125</td>\n",
       "      <td>0.874243</td>\n",
       "      <td>2.461510</td>\n",
       "    </tr>\n",
       "    <tr>\n",
       "      <th>497</th>\n",
       "      <td>NaN</td>\n",
       "      <td>153.583387</td>\n",
       "      <td>64.012769</td>\n",
       "      <td>0.913891</td>\n",
       "      <td>NaN</td>\n",
       "      <td>NaN</td>\n",
       "      <td>NaN</td>\n",
       "      <td>434.235</td>\n",
       "      <td>0.874743</td>\n",
       "      <td>2.463297</td>\n",
       "    </tr>\n",
       "    <tr>\n",
       "      <th>498</th>\n",
       "      <td>NaN</td>\n",
       "      <td>227.105462</td>\n",
       "      <td>65.738475</td>\n",
       "      <td>0.913909</td>\n",
       "      <td>NaN</td>\n",
       "      <td>NaN</td>\n",
       "      <td>NaN</td>\n",
       "      <td>448.305</td>\n",
       "      <td>0.891706</td>\n",
       "      <td>2.463546</td>\n",
       "    </tr>\n",
       "    <tr>\n",
       "      <th>499</th>\n",
       "      <td>NaN</td>\n",
       "      <td>227.928583</td>\n",
       "      <td>68.977700</td>\n",
       "      <td>0.914001</td>\n",
       "      <td>NaN</td>\n",
       "      <td>NaN</td>\n",
       "      <td>NaN</td>\n",
       "      <td>488.837</td>\n",
       "      <td>0.904748</td>\n",
       "      <td>2.464809</td>\n",
       "    </tr>\n",
       "  </tbody>\n",
       "</table>\n",
       "<p>500 rows × 10 columns</p>\n",
       "</div>"
      ],
      "text/plain": [
       "     Daerah  SumbuUtama  SumbuKecil  Keunikan  AreaBulatan   Diameter  \\\n",
       "0    3992.0   74.133114   39.906517  0.719916       3802.0  71.293564   \n",
       "1    4881.0   74.364021   41.436419  0.725553       4913.0  78.833256   \n",
       "2    5642.0   74.691881   42.871879  0.731211          NaN  84.756224   \n",
       "3    6083.0   76.293164   43.284979  0.738639          NaN  88.006342   \n",
       "4       NaN   76.789043   44.119355  0.749282          NaN        NaN   \n",
       "..      ...         ...         ...       ...          ...        ...   \n",
       "495     NaN  152.068440   63.322854  0.913724          NaN        NaN   \n",
       "496     NaN  152.113491   63.762307  0.913760          NaN        NaN   \n",
       "497     NaN  153.583387   64.012769  0.913891          NaN        NaN   \n",
       "498     NaN  227.105462   65.738475  0.913909          NaN        NaN   \n",
       "499     NaN  227.928583   68.977700  0.914001          NaN        NaN   \n",
       "\n",
       "     KadarAir  Keliling   Bulatan    Ransum  \n",
       "0    0.735849   197.015  0.174590  1.440796  \n",
       "1    0.824405   200.587  0.261297  1.453137  \n",
       "2         NaN   202.456  0.299298  1.465950  \n",
       "3         NaN   207.325  0.589146  1.483456  \n",
       "4         NaN   207.697  0.603807  1.510000  \n",
       "..        ...       ...       ...       ...  \n",
       "495       NaN   375.651  0.872417  2.461017  \n",
       "496       NaN   390.125  0.874243  2.461510  \n",
       "497       NaN   434.235  0.874743  2.463297  \n",
       "498       NaN   448.305  0.891706  2.463546  \n",
       "499       NaN   488.837  0.904748  2.464809  \n",
       "\n",
       "[500 rows x 10 columns]"
      ]
     },
     "execution_count": 320,
     "metadata": {},
     "output_type": "execute_result"
    }
   ],
   "source": [
    "display(Markdown(\"__Data modus:__ \"))\n",
    "df.mode()"
   ]
  },
  {
   "cell_type": "markdown",
   "metadata": {},
   "source": [
    "### 2. Visualisasi Kolom Distribusi"
   ]
  },
  {
   "cell_type": "markdown",
   "metadata": {},
   "source": [
    "#### Kolom Daerah"
   ]
  },
  {
   "cell_type": "code",
   "execution_count": 321,
   "metadata": {},
   "outputs": [
    {
     "data": {
      "text/plain": [
       "Text(0, 0.5, 'Frekuensi')"
      ]
     },
     "execution_count": 321,
     "metadata": {},
     "output_type": "execute_result"
    },
    {
     "data": {
      "image/png": "[encoded data removed]",
      "text/plain": [
       "<Figure size 432x288 with 1 Axes>"
      ]
     },
     "metadata": {
      "needs_background": "light"
     },
     "output_type": "display_data"
    }
   ],
   "source": [
    "data['Daerah'].hist(bins=50)\n",
    "plt.xlabel(\"Data Daerah Gandum\")\n",
    "plt.ylabel(\"Frekuensi\")"
   ]
  },
  {
   "cell_type": "markdown",
   "metadata": {},
   "source": [
    "Interpretasi: Distribusi data condong ke nilai-nilai yang lebih kecil karena skewness positif"
   ]
  },
  {
   "cell_type": "code",
   "execution_count": 322,
   "metadata": {},
   "outputs": [
    {
     "data": {
      "text/plain": [
       "Text(0, 0.5, 'Frekuensi')"
      ]
     },
     "execution_count": 322,
     "metadata": {},
     "output_type": "execute_result"
    },
    {
     "data": {
      "image/png": "[encoded data removed]",
      "text/plain": [
       "<Figure size 432x288 with 1 Axes>"
      ]
     },
     "metadata": {
      "needs_background": "light"
     },
     "output_type": "display_data"
    }
   ],
   "source": [
    "data.boxplot(column=['Daerah'], return_type='axes');\n",
    "plt.ylabel(\"Frekuensi\")"
   ]
  },
  {
   "cell_type": "markdown",
   "metadata": {},
   "source": [
    "Interpretasi: Boxplot menunjukan mean dari data yang nilainya lebih besar dari median serta tidak adanya pecilan"
   ]
  },
  {
   "cell_type": "markdown",
   "metadata": {},
   "source": [
    "#### Kolom SumbuUtama"
   ]
  },
  {
   "cell_type": "code",
   "execution_count": 323,
   "metadata": {},
   "outputs": [
    {
     "data": {
      "text/plain": [
       "Text(0, 0.5, 'Frekuensi')"
      ]
     },
     "execution_count": 323,
     "metadata": {},
     "output_type": "execute_result"
    },
    {
     "data": {
      "image/png": "[encoded data removed]",
      "text/plain": [
       "<Figure size 432x288 with 1 Axes>"
      ]
     },
     "metadata": {
      "needs_background": "light"
     },
     "output_type": "display_data"
    }
   ],
   "source": [
    "data['SumbuUtama'].hist(bins=50)\n",
    "plt.xlabel(\"Data Sumbu Utama Gandum\")\n",
    "plt.ylabel(\"Frekuensi\")"
   ]
  },
  {
   "cell_type": "markdown",
   "metadata": {},
   "source": [
    "Interpretasi: Distribusi data condong ke nilai-nilai yang lebih kecil karena skewness positif"
   ]
  },
  {
   "cell_type": "code",
   "execution_count": 324,
   "metadata": {},
   "outputs": [
    {
     "data": {
      "text/plain": [
       "Text(0, 0.5, 'Frekuensi')"
      ]
     },
     "execution_count": 324,
     "metadata": {},
     "output_type": "execute_result"
    },
    {
     "data": {
      "image/png": "[encoded data removed]",
      "text/plain": [
       "<Figure size 432x288 with 1 Axes>"
      ]
     },
     "metadata": {
      "needs_background": "light"
     },
     "output_type": "display_data"
    }
   ],
   "source": [
    "data.boxplot(column=['SumbuUtama'], return_type='axes')\n",
    "plt.ylabel(\"Frekuensi\")"
   ]
  },
  {
   "cell_type": "markdown",
   "metadata": {},
   "source": [
    "Interpretasi: Boxplot menunjukkan mean dari data memiliki nilai yang lebih besar dari median dan tidak terdapat pecilan"
   ]
  },
  {
   "cell_type": "markdown",
   "metadata": {},
   "source": [
    "#### Kolom SumbuKecil"
   ]
  },
  {
   "cell_type": "code",
   "execution_count": 325,
   "metadata": {},
   "outputs": [
    {
     "data": {
      "text/plain": [
       "Text(0, 0.5, 'Frekuensi')"
      ]
     },
     "execution_count": 325,
     "metadata": {},
     "output_type": "execute_result"
    },
    {
     "data": {
      "image/png": "[encoded data removed]",
      "text/plain": [
       "<Figure size 432x288 with 1 Axes>"
      ]
     },
     "metadata": {
      "needs_background": "light"
     },
     "output_type": "display_data"
    }
   ],
   "source": [
    "data['SumbuKecil'].hist(bins=50)\n",
    "plt.xlabel(\"Data Sumbu Kecil Gandum\")\n",
    "plt.ylabel(\"Frekuensi\")"
   ]
  },
  {
   "cell_type": "markdown",
   "metadata": {},
   "source": [
    "Interpretasi: Skewness data simetris sehingga nilai mean dan median sama"
   ]
  },
  {
   "cell_type": "code",
   "execution_count": 326,
   "metadata": {},
   "outputs": [
    {
     "data": {
      "text/plain": [
       "Text(0, 0.5, 'Frekuensi')"
      ]
     },
     "execution_count": 326,
     "metadata": {},
     "output_type": "execute_result"
    },
    {
     "data": {
      "image/png": "[encoded data removed]",
      "text/plain": [
       "<Figure size 432x288 with 1 Axes>"
      ]
     },
     "metadata": {
      "needs_background": "light"
     },
     "output_type": "display_data"
    }
   ],
   "source": [
    "data.boxplot(column=['SumbuKecil'], return_type='axes')\n",
    "plt.ylabel(\"Frekuensi\")"
   ]
  },
  {
   "cell_type": "markdown",
   "metadata": {},
   "source": [
    "Interpretasi: Mean dari data memiliki nilai yang sama dengan median dan terdapat pecilan"
   ]
  },
  {
   "cell_type": "markdown",
   "metadata": {},
   "source": [
    "#### Kolom Keunikan"
   ]
  },
  {
   "cell_type": "code",
   "execution_count": 327,
   "metadata": {},
   "outputs": [
    {
     "data": {
      "text/plain": [
       "Text(0, 0.5, 'Frekuensi')"
      ]
     },
     "execution_count": 327,
     "metadata": {},
     "output_type": "execute_result"
    },
    {
     "data": {
      "image/png": "[encoded data removed]",
      "text/plain": [
       "<Figure size 432x288 with 1 Axes>"
      ]
     },
     "metadata": {
      "needs_background": "light"
     },
     "output_type": "display_data"
    }
   ],
   "source": [
    "data['Keunikan'].hist(bins=50)\n",
    "plt.xlabel(\"Data Keunikan Gandum\")\n",
    "plt.ylabel(\"Frekuensi\")"
   ]
  },
  {
   "cell_type": "markdown",
   "metadata": {},
   "source": [
    "Interpretasi: Skewness data negatif sehingga distribusi data condong ke nilai yang besar"
   ]
  },
  {
   "cell_type": "code",
   "execution_count": 328,
   "metadata": {},
   "outputs": [
    {
     "data": {
      "text/plain": [
       "Text(0, 0.5, 'Frekuensi')"
      ]
     },
     "execution_count": 328,
     "metadata": {},
     "output_type": "execute_result"
    },
    {
     "data": {
      "image/png": "[encoded data removed]",
      "text/plain": [
       "<Figure size 432x288 with 1 Axes>"
      ]
     },
     "metadata": {
      "needs_background": "light"
     },
     "output_type": "display_data"
    }
   ],
   "source": [
    "data.boxplot(column=['Keunikan'], return_type='axes')\n",
    "plt.ylabel(\"Frekuensi\")"
   ]
  },
  {
   "cell_type": "markdown",
   "metadata": {},
   "source": [
    "Interpretasi: Mean dari data memiliki nilai yang lebih kecil dari median dan terdapat pecilan"
   ]
  },
  {
   "cell_type": "markdown",
   "metadata": {},
   "source": [
    "#### Kolom AreaBulatan"
   ]
  },
  {
   "cell_type": "code",
   "execution_count": 329,
   "metadata": {},
   "outputs": [
    {
     "data": {
      "text/plain": [
       "Text(0, 0.5, 'Frekuensi')"
      ]
     },
     "execution_count": 329,
     "metadata": {},
     "output_type": "execute_result"
    },
    {
     "data": {
      "image/png": "[encoded data removed]",
      "text/plain": [
       "<Figure size 432x288 with 1 Axes>"
      ]
     },
     "metadata": {
      "needs_background": "light"
     },
     "output_type": "display_data"
    }
   ],
   "source": [
    "data['AreaBulatan'].hist(bins=50)\n",
    "plt.xlabel(\"Data Keunikan Gandum\")\n",
    "plt.ylabel(\"Frekuensi\")"
   ]
  },
  {
   "cell_type": "markdown",
   "metadata": {},
   "source": [
    "Interpretasi: Distribusi data condong ke nilai-nilai yang lebih kecil karena skewness positif"
   ]
  },
  {
   "cell_type": "code",
   "execution_count": 330,
   "metadata": {},
   "outputs": [
    {
     "data": {
      "text/plain": [
       "Text(0, 0.5, 'Frekeunsi')"
      ]
     },
     "execution_count": 330,
     "metadata": {},
     "output_type": "execute_result"
    },
    {
     "data": {
      "image/png": "[encoded data removed]",
      "text/plain": [
       "<Figure size 432x288 with 1 Axes>"
      ]
     },
     "metadata": {
      "needs_background": "light"
     },
     "output_type": "display_data"
    }
   ],
   "source": [
    "data.boxplot(column=['AreaBulatan'], return_type='axes')\n",
    "plt.ylabel(\"Frekeunsi\")"
   ]
  },
  {
   "cell_type": "markdown",
   "metadata": {},
   "source": [
    "Interpretasi: Boxplot menunjukan mean dari data memiliki nilai yang lebih besar dari median dan tidak terdapat pecilan"
   ]
  },
  {
   "cell_type": "markdown",
   "metadata": {},
   "source": [
    "#### Kolom Diameter"
   ]
  },
  {
   "cell_type": "code",
   "execution_count": 331,
   "metadata": {},
   "outputs": [
    {
     "data": {
      "text/plain": [
       "Text(0, 0.5, 'Frekuensi')"
      ]
     },
     "execution_count": 331,
     "metadata": {},
     "output_type": "execute_result"
    },
    {
     "data": {
      "image/png": "[encoded data removed]",
      "text/plain": [
       "<Figure size 432x288 with 1 Axes>"
      ]
     },
     "metadata": {
      "needs_background": "light"
     },
     "output_type": "display_data"
    }
   ],
   "source": [
    "data['Diameter'].hist(bins=50)\n",
    "plt.xlabel(\"Data Keunikan Gandum\")\n",
    "plt.ylabel(\"Frekuensi\")"
   ]
  },
  {
   "cell_type": "markdown",
   "metadata": {},
   "source": [
    "Interpretasi: Skewness data simetris sehingga distribusi data condong pada nilai tengah"
   ]
  },
  {
   "cell_type": "code",
   "execution_count": 332,
   "metadata": {},
   "outputs": [
    {
     "data": {
      "text/plain": [
       "Text(0, 0.5, 'Frekuensi')"
      ]
     },
     "execution_count": 332,
     "metadata": {},
     "output_type": "execute_result"
    },
    {
     "data": {
      "image/png": "[encoded data removed]",
      "text/plain": [
       "<Figure size 432x288 with 1 Axes>"
      ]
     },
     "metadata": {
      "needs_background": "light"
     },
     "output_type": "display_data"
    }
   ],
   "source": [
    "data.boxplot(column=['Diameter'], return_type='axes')\n",
    "plt.ylabel(\"Frekuensi\")"
   ]
  },
  {
   "cell_type": "markdown",
   "metadata": {},
   "source": [
    "Interpretasi: Boxplot menunjukan mean dari data memiliki nilai yang sama dengan median dan tidak terdapat pecilan"
   ]
  },
  {
   "cell_type": "markdown",
   "metadata": {},
   "source": [
    "#### Kolom KadarAir"
   ]
  },
  {
   "cell_type": "code",
   "execution_count": 333,
   "metadata": {},
   "outputs": [
    {
     "data": {
      "text/plain": [
       "Text(0, 0.5, 'Frekuensi')"
      ]
     },
     "execution_count": 333,
     "metadata": {},
     "output_type": "execute_result"
    },
    {
     "data": {
      "image/png": "[encoded data removed]",
      "text/plain": [
       "<Figure size 432x288 with 1 Axes>"
      ]
     },
     "metadata": {
      "needs_background": "light"
     },
     "output_type": "display_data"
    }
   ],
   "source": [
    "data['KadarAir'].hist(bins=50)\n",
    "plt.xlabel(\"Data Keunikan Gandum\")\n",
    "plt.ylabel(\"Frekuensi\")"
   ]
  },
  {
   "cell_type": "markdown",
   "metadata": {},
   "source": [
    "Interpretasi: Distribusi data condong ke nilai-nilai yang lebih kecil karena skewness positif"
   ]
  },
  {
   "cell_type": "code",
   "execution_count": 334,
   "metadata": {},
   "outputs": [
    {
     "data": {
      "text/plain": [
       "Text(0, 0.5, 'Frekuensi')"
      ]
     },
     "execution_count": 334,
     "metadata": {},
     "output_type": "execute_result"
    },
    {
     "data": {
      "image/png": "[encoded data removed]",
      "text/plain": [
       "<Figure size 432x288 with 1 Axes>"
      ]
     },
     "metadata": {
      "needs_background": "light"
     },
     "output_type": "display_data"
    }
   ],
   "source": [
    "data.boxplot(column=['KadarAir'], return_type='axes')\n",
    "plt.ylabel(\"Frekuensi\")"
   ]
  },
  {
   "cell_type": "markdown",
   "metadata": {},
   "source": [
    "Interpretasi: Boxplot menunjukan mean dari data memiliki nilai yang lebih besar dari median dan tidak terdapat pecilan"
   ]
  },
  {
   "cell_type": "markdown",
   "metadata": {},
   "source": [
    "#### Kolom Keliling "
   ]
  },
  {
   "cell_type": "code",
   "execution_count": 335,
   "metadata": {},
   "outputs": [
    {
     "data": {
      "text/plain": [
       "Text(0, 0.5, 'Frekuensi')"
      ]
     },
     "execution_count": 335,
     "metadata": {},
     "output_type": "execute_result"
    },
    {
     "data": {
      "image/png": "[encoded data removed]",
      "text/plain": [
       "<Figure size 432x288 with 1 Axes>"
      ]
     },
     "metadata": {
      "needs_background": "light"
     },
     "output_type": "display_data"
    }
   ],
   "source": [
    "data['Keliling'].hist(bins=50)\n",
    "plt.xlabel(\"Data Keunikan Gandum\")\n",
    "plt.ylabel(\"Frekuensi\")"
   ]
  },
  {
   "cell_type": "markdown",
   "metadata": {},
   "source": [
    "Interpretasi: Distribusi data condong ke nilai-nilai yang lebih kecil karena skewness positif"
   ]
  },
  {
   "cell_type": "code",
   "execution_count": 336,
   "metadata": {},
   "outputs": [
    {
     "data": {
      "text/plain": [
       "Text(0, 0.5, 'Frekuensi')"
      ]
     },
     "execution_count": 336,
     "metadata": {},
     "output_type": "execute_result"
    },
    {
     "data": {
      "image/png": "[encoded data removed]",
      "text/plain": [
       "<Figure size 432x288 with 1 Axes>"
      ]
     },
     "metadata": {
      "needs_background": "light"
     },
     "output_type": "display_data"
    }
   ],
   "source": [
    "data.boxplot(column=['Keliling'], return_type='axes')\n",
    "plt.ylabel(\"Frekuensi\")"
   ]
  },
  {
   "cell_type": "markdown",
   "metadata": {},
   "source": [
    "Interpretasi: Boxplot menunjukan mean dari data memiliki nilai yang lebih besar dari median dan tidak terdapat pecilan"
   ]
  },
  {
   "cell_type": "markdown",
   "metadata": {},
   "source": [
    "#### Kolom Bulatan"
   ]
  },
  {
   "cell_type": "code",
   "execution_count": 337,
   "metadata": {},
   "outputs": [
    {
     "data": {
      "text/plain": [
       "Text(0, 0.5, 'Frekuensi')"
      ]
     },
     "execution_count": 337,
     "metadata": {},
     "output_type": "execute_result"
    },
    {
     "data": {
      "image/png": "[encoded data removed]",
      "text/plain": [
       "<Figure size 432x288 with 1 Axes>"
      ]
     },
     "metadata": {
      "needs_background": "light"
     },
     "output_type": "display_data"
    }
   ],
   "source": [
    "data['Bulatan'].hist(bins=50)\n",
    "plt.xlabel(\"Data Keunikan Gandum\")\n",
    "plt.ylabel(\"Frekuensi\")"
   ]
  },
  {
   "cell_type": "markdown",
   "metadata": {},
   "source": [
    "Interpretasi: Skewness data negatif sehingga distribusi data condong ke nilai yang besar"
   ]
  },
  {
   "cell_type": "code",
   "execution_count": 338,
   "metadata": {},
   "outputs": [
    {
     "data": {
      "text/plain": [
       "Text(0, 0.5, 'Frekuensi')"
      ]
     },
     "execution_count": 338,
     "metadata": {},
     "output_type": "execute_result"
    },
    {
     "data": {
      "image/png": "[encoded data removed]",
      "text/plain": [
       "<Figure size 432x288 with 1 Axes>"
      ]
     },
     "metadata": {
      "needs_background": "light"
     },
     "output_type": "display_data"
    }
   ],
   "source": [
    "data.boxplot(column=['Bulatan'], return_type='axes')\n",
    "plt.ylabel(\"Frekuensi\")"
   ]
  },
  {
   "cell_type": "markdown",
   "metadata": {},
   "source": [
    "Interpretasi: Mean dari data memiliki nilai yang lebih kecil dari median dan terdapat pecilan"
   ]
  },
  {
   "cell_type": "markdown",
   "metadata": {},
   "source": [
    "#### Kolom Ransum"
   ]
  },
  {
   "cell_type": "code",
   "execution_count": 339,
   "metadata": {},
   "outputs": [
    {
     "data": {
      "text/plain": [
       "Text(0, 0.5, 'Frekuensi')"
      ]
     },
     "execution_count": 339,
     "metadata": {},
     "output_type": "execute_result"
    },
    {
     "data": {
      "image/png": "[encoded data removed]",
      "text/plain": [
       "<Figure size 432x288 with 1 Axes>"
      ]
     },
     "metadata": {
      "needs_background": "light"
     },
     "output_type": "display_data"
    }
   ],
   "source": [
    "data['Ransum'].hist(bins=50)\n",
    "plt.xlabel(\"Data Keunikan Gandum\")\n",
    "plt.ylabel(\"Frekuensi\")\n",
    "#plt.title(\"Hai\")"
   ]
  },
  {
   "cell_type": "markdown",
   "metadata": {},
   "source": [
    "Interpretasi: Skewness data negatif sehingga distribusi data condong ke nilai yang besar"
   ]
  },
  {
   "cell_type": "code",
   "execution_count": 340,
   "metadata": {},
   "outputs": [
    {
     "data": {
      "text/plain": [
       "Text(0, 0.5, 'Frekeunsi')"
      ]
     },
     "execution_count": 340,
     "metadata": {},
     "output_type": "execute_result"
    },
    {
     "data": {
      "image/png": "[encoded data removed]",
      "text/plain": [
       "<Figure size 432x288 with 1 Axes>"
      ]
     },
     "metadata": {
      "needs_background": "light"
     },
     "output_type": "display_data"
    }
   ],
   "source": [
    "data.boxplot(column=['Ransum'], return_type='axes')\n",
    "plt.ylabel(\"Frekeunsi\")"
   ]
  },
  {
   "cell_type": "markdown",
   "metadata": {},
   "source": [
    "Interpretasi: Mean dari data memiliki nilai yang lebih kecil dari median dan tidak terdapat pecilan"
   ]
  },
  {
   "cell_type": "markdown",
   "metadata": {},
   "source": [
    "### 3. Normality Test"
   ]
  },
  {
   "cell_type": "markdown",
   "metadata": {},
   "source": [
    "#### Kolom Daerah"
   ]
  },
  {
   "cell_type": "code",
   "execution_count": 345,
   "metadata": {},
   "outputs": [
    {
     "name": "stdout",
     "output_type": "stream",
     "text": [
      "Hasil Shapiro-Wilk Normality Test\n",
      "\n",
      "W = 0.9907860159873962\n",
      "p = 0.003270698245614767\n"
     ]
    }
   ],
   "source": [
    "w, p = stats.shapiro(data['Daerah'])\n",
    "print(\"Hasil Shapiro-Wilk Normality Test\")\n",
    "print(\"\")\n",
    "print(\"W = {}\" .format(w))\n",
    "print(\"p = {}\" .format(p))"
   ]
  },
  {
   "cell_type": "markdown",
   "metadata": {},
   "source": [
    "Analisis: Data tidak berdistribusi normal dan hal ini dapat dilihat dari histogram plot yang menunjukkan skewness positif yang menunjukkan median lebih kecil dari mean, artinya tidak berdistribusi normal."
   ]
  },
  {
   "cell_type": "markdown",
   "metadata": {},
   "source": [
    "#### Kolom SumbuUtama"
   ]
  },
  {
   "cell_type": "code",
   "execution_count": 346,
   "metadata": {},
   "outputs": [
    {
     "name": "stdout",
     "output_type": "stream",
     "text": [
      "Hasil Shapiro-Wilk Normality Test\n",
      "\n",
      "W = 0.9513812065124512\n",
      "p = 9.236201213569384e-12\n"
     ]
    }
   ],
   "source": [
    "w, p = stats.shapiro(data['SumbuUtama'])\n",
    "print(\"Hasil Shapiro-Wilk Normality Test\")\n",
    "print(\"\")\n",
    "print(\"W = {}\" .format(w))\n",
    "print(\"p = {}\" .format(p))"
   ]
  },
  {
   "cell_type": "markdown",
   "metadata": {},
   "source": [
    "Analisis: Data tidak berdistribusi normal dan hal ini dapat dilihat dari histogram plot yang menunjukkan skewness positif yang menunjukkan median lebih kecil dari mean, artinya tidak berdistribusi normal."
   ]
  },
  {
   "cell_type": "markdown",
   "metadata": {},
   "source": [
    "#### Kolom SumbuKecil"
   ]
  },
  {
   "cell_type": "code",
   "execution_count": 347,
   "metadata": {},
   "outputs": [
    {
     "name": "stdout",
     "output_type": "stream",
     "text": [
      "Hasil Shapiro-Wilk Normality Test\n",
      "\n",
      "W = 0.996778666973114\n",
      "p = 0.4234558641910553\n"
     ]
    }
   ],
   "source": [
    "w, p = stats.shapiro(data['SumbuKecil'])\n",
    "print(\"Hasil Shapiro-Wilk Normality Test\")\n",
    "print(\"\")\n",
    "print(\"W = {}\" .format(w))\n",
    "print(\"p = {}\" .format(p))"
   ]
  },
  {
   "cell_type": "markdown",
   "metadata": {},
   "source": [
    "Analisis: Data berdistribusi normal dan hal ini dapat dilihat dari histogram plot yang memiliki skewness simetris."
   ]
  },
  {
   "cell_type": "markdown",
   "metadata": {},
   "source": [
    "#### Kolom Keunikan"
   ]
  },
  {
   "cell_type": "code",
   "execution_count": 348,
   "metadata": {},
   "outputs": [
    {
     "name": "stdout",
     "output_type": "stream",
     "text": [
      "Hasil Shapiro-Wilk Normality Test\n",
      "\n",
      "W = 0.8309029340744019\n",
      "p = 1.3151663082081454e-22\n"
     ]
    }
   ],
   "source": [
    "w, p = stats.shapiro(data['Keunikan'])\n",
    "print(\"Hasil Shapiro-Wilk Normality Test\")\n",
    "print(\"\")\n",
    "print(\"W = {}\" .format(w))\n",
    "print(\"p = {}\" .format(p))"
   ]
  },
  {
   "cell_type": "markdown",
   "metadata": {},
   "source": [
    "Analisis: Data tidak berdistribusi normal dan hal ini dapat dilihat dari histogram yang memiliki skewness negatif sehingga median lebih besar daripada mean."
   ]
  },
  {
   "cell_type": "markdown",
   "metadata": {},
   "source": [
    "#### Kolom AreaBulatan"
   ]
  },
  {
   "cell_type": "code",
   "execution_count": 349,
   "metadata": {},
   "outputs": [
    {
     "name": "stdout",
     "output_type": "stream",
     "text": [
      "Hasil Shapiro-Wilk Normality Test\n",
      "\n",
      "W = 0.990435779094696\n",
      "p = 0.0024847122840583324\n"
     ]
    }
   ],
   "source": [
    "w, p = stats.shapiro(data['AreaBulatan'])\n",
    "print(\"Hasil Shapiro-Wilk Normality Test\")\n",
    "print(\"\")\n",
    "print(\"W = {}\" .format(w))\n",
    "print(\"p = {}\" .format(p))"
   ]
  },
  {
   "cell_type": "markdown",
   "metadata": {},
   "source": [
    "Analisis: Data tidak berdistribusi normal dan hal ini dapat dilihat dari histogram plot yang menunjukkan skewness positif yang menunjukkan median lebih kecil dari mean, artinya tidak berdistribusi normal."
   ]
  },
  {
   "cell_type": "markdown",
   "metadata": {},
   "source": [
    "#### Kolom Diameter"
   ]
  },
  {
   "cell_type": "code",
   "execution_count": 350,
   "metadata": {},
   "outputs": [
    {
     "name": "stdout",
     "output_type": "stream",
     "text": [
      "Hasil Shapiro-Wilk Normality Test\n",
      "\n",
      "W = 0.9951366186141968\n",
      "p = 0.11834503710269928\n"
     ]
    }
   ],
   "source": [
    "w, p = stats.shapiro(data['Diameter'])\n",
    "print(\"Hasil Shapiro-Wilk Normality Test\")\n",
    "print(\"\")\n",
    "print(\"W = {}\" .format(w))\n",
    "print(\"p = {}\" .format(p))"
   ]
  },
  {
   "cell_type": "markdown",
   "metadata": {},
   "source": [
    "Analisis: Data berdistribusi normal dan hal ini dapat dilihat dari histogram plot yang memiliki skewness simetris."
   ]
  },
  {
   "cell_type": "markdown",
   "metadata": {},
   "source": [
    "#### Kolom KadarAir"
   ]
  },
  {
   "cell_type": "code",
   "execution_count": 351,
   "metadata": {},
   "outputs": [
    {
     "name": "stdout",
     "output_type": "stream",
     "text": [
      "Hasil Shapiro-Wilk Normality Test\n",
      "\n",
      "W = 0.9466671347618103\n",
      "p = 1.959499836695633e-12\n"
     ]
    }
   ],
   "source": [
    "w, p = stats.shapiro(data['KadarAir'])\n",
    "print(\"Hasil Shapiro-Wilk Normality Test\")\n",
    "print(\"\")\n",
    "print(\"W = {}\" .format(w))\n",
    "print(\"p = {}\" .format(p))"
   ]
  },
  {
   "cell_type": "markdown",
   "metadata": {},
   "source": [
    "Analisis: Data tidak berdistribusi normal dan hal ini dapat dilihat dari histogram plot yang menunjukkan skewness positif yang menunjukkan median lebih kecil dari mean, artinya tidak berdistribusi normal."
   ]
  },
  {
   "cell_type": "markdown",
   "metadata": {},
   "source": [
    "#### Kolom Keliling "
   ]
  },
  {
   "cell_type": "code",
   "execution_count": 352,
   "metadata": {},
   "outputs": [
    {
     "name": "stdout",
     "output_type": "stream",
     "text": [
      "Hasil Shapiro-Wilk Normality Test\n",
      "\n",
      "W = 0.9692449569702148\n",
      "p = 9.728394090302572e-09\n"
     ]
    }
   ],
   "source": [
    "w, p = stats.shapiro(data['Keliling'])\n",
    "print(\"Hasil Shapiro-Wilk Normality Test\")\n",
    "print(\"\")\n",
    "print(\"W = {}\" .format(w))\n",
    "print(\"p = {}\" .format(p))"
   ]
  },
  {
   "cell_type": "markdown",
   "metadata": {},
   "source": [
    "Analisis: Data tidak berdistribusi normal dan hal ini dapat dilihat dari histogram plot yang menunjukkan skewness positif yang menunjukkan median lebih kecil dari mean, artinya tidak berdistribusi normal."
   ]
  },
  {
   "cell_type": "markdown",
   "metadata": {},
   "source": [
    "#### Kolom Bulatan"
   ]
  },
  {
   "cell_type": "code",
   "execution_count": 353,
   "metadata": {},
   "outputs": [
    {
     "name": "stdout",
     "output_type": "stream",
     "text": [
      "Hasil Shapiro-Wilk Normality Test\n",
      "\n",
      "W = 0.7697757482528687\n",
      "p = 6.899158691421287e-26\n"
     ]
    }
   ],
   "source": [
    "w, p = stats.shapiro(data['Bulatan'])\n",
    "print(\"Hasil Shapiro-Wilk Normality Test\")\n",
    "print(\"\")\n",
    "print(\"W = {}\" .format(w))\n",
    "print(\"p = {}\" .format(p))"
   ]
  },
  {
   "cell_type": "markdown",
   "metadata": {},
   "source": [
    "Analisis: Data berdistribusi normal dan hal ini dapat dilihat dari histogram yang memiliki skewness negatif sehingga median lebih besar daripada mean."
   ]
  },
  {
   "cell_type": "markdown",
   "metadata": {},
   "source": [
    "#### Kolom Ransum"
   ]
  },
  {
   "cell_type": "code",
   "execution_count": 354,
   "metadata": {},
   "outputs": [
    {
     "name": "stdout",
     "output_type": "stream",
     "text": [
      "Hasil Shapiro-Wilk Normality Test\n",
      "\n",
      "W = 0.9265043139457703\n",
      "p = 6.245541108888591e-15\n"
     ]
    }
   ],
   "source": [
    "w, p = stats.shapiro(data['Ransum'])\n",
    "print(\"Hasil Shapiro-Wilk Normality Test\")\n",
    "print(\"\")\n",
    "print(\"W = {}\" .format(w))\n",
    "print(\"p = {}\" .format(p))"
   ]
  },
  {
   "cell_type": "markdown",
   "metadata": {},
   "source": [
    "Analisis: Data berdistribusi normal dan hal ini dapat dilihat dari histogram yang memiliki skewness negatif sehingga median lebih besar daripada mean."
   ]
  },
  {
   "cell_type": "markdown",
   "metadata": {},
   "source": [
    "### 4. Tes Hipotesis 1 Sampel"
   ]
  },
  {
   "cell_type": "code",
   "execution_count": 150,
   "metadata": {},
   "outputs": [],
   "source": [
    "#DEKLARASI FUNGSI/PROSEDUR YANG DIBUTUHKAN\n",
    "def criticalRegion(alpha,opr):\n",
    "    #menghasilkan daerah kritis\n",
    "    alpha = 0.05\n",
    "    if opr==\">\":\n",
    "        cpoint = st.norm.ppf(1-alpha)\n",
    "        display(Markdown(\"Derah kritis terletak pada z > \" + str(cpoint) + \".\"))\n",
    "        return 1 #mengembalikan kode 1\n",
    "    elif opr==\"<\":\n",
    "        cpoint = st.norm.ppf(alpha)\n",
    "        display(Markdown(\"Derah kritis terletak pada z < \" + str(cpoint) + \".\"))\n",
    "        return 2 #mengembalikan kode 2\n",
    "    elif opr==\"!=\":\n",
    "        cpoint = st.norm.ppf(1-alpha/2)\n",
    "        display(Markdown(\"Derah kritis terletak pada z < -\" + str(cpoint) + \" dan z > \" + str(cpoint) + \".\"))\n",
    "        return 3 #mengembalikan kode 3\n",
    "    \n",
    "def countZ(kol,mu):\n",
    "    #menampilkan nilai x̄̅, σ, n, dan juga hasil perhitungan z \n",
    "    sample = data[kol]\n",
    "    mean = sample.mean()\n",
    "    print(\"x̄̅ = \" + str(mean))\n",
    "    std = sample.std()\n",
    "    print(\"σ = \" + str(std))\n",
    "    count = sample.count()\n",
    "    print(\"n = \" + str(count))\n",
    "    z = (mean-mu)/(std/(count**0.5)) \n",
    "    print(\"Maka, z = \" + str(z) + \".\")\n",
    "    return z\n",
    "\n",
    "def countPV(z,opr):\n",
    "    #menghitung nilai p-value sesuai dengan nilai z dan operatornya\n",
    "    if opr==\">\":\n",
    "        pvalue = 1-st.norm.cdf(z)\n",
    "        print(\"p-value = P(z > \" + str(z) + \") = \" + str(pvalue))\n",
    "    elif opr==\"!=\":\n",
    "            if z>0:\n",
    "                pvalue = 2*(1-st.norm.cdf(z))\n",
    "                print(\"p-value = 2P(z > \" + str(z) + \") = \" + str(pvalue))\n",
    "            else: #z<=0\n",
    "                pvalue = 2*st.norm.cdf(z)\n",
    "                print(\"p-value = 2P(z < \" + str(z) + \") = \" + str(pvalue))\n",
    "        \n",
    "    elif opr==\"<\":\n",
    "        pvalue = st.norm.cdf(z)\n",
    "        print(\"p-value = P(z < \" + str(z) + \") = \" + str(pvalue))\n",
    "    return pvalue\n",
    "\n",
    "def cekZ(z,criticalRegion):\n",
    "    #mengecek apakah z berada di daerah kritis dan menghasilkan keputusan\n",
    "    masuk = False\n",
    "    if criticalRegion == 1:\n",
    "        if z > cpoint:\n",
    "            masuk = True\n",
    "    elif criticalRegion == 2:\n",
    "        if z < cpoint:\n",
    "            masuk = True\n",
    "    elif criticalRegion == 3:\n",
    "        if z < -cpoint or z > cpoint:\n",
    "            masuk = True\n",
    "    if (masuk):       \n",
    "        display(Markdown(\"Karena z berada di daerah kritis, maka __$H_{0}$ ditolak.__\"))\n",
    "    else:\n",
    "        display(Markdown(\"Karena z tidak berada pada daerah kritis, maka __$H_{0}$ diterima.__\"))\n",
    "                   \n",
    "            \n",
    "def cekP(p,alpha):\n",
    "    #mengecek apakah p-value lebih kecil dari α dan menghasilkan keputusan\n",
    "    if p<alpha:\n",
    "        display(Markdown(\"Karena p-value < α, maka __$H_{0}$ ditolak.__\"))\n",
    "    else:\n",
    "        display(Markdown(\"Karena p-value >= α, maka __$H_{0}$ diterima.__\"))"
   ]
  },
  {
   "cell_type": "markdown",
   "metadata": {},
   "source": [
    "#### 4.a. Pengujian Terhadap $μ_{Daerah} > 4700$"
   ]
  },
  {
   "cell_type": "code",
   "execution_count": 151,
   "metadata": {},
   "outputs": [
    {
     "data": {
      "text/plain": [
       "<AxesSubplot:>"
      ]
     },
     "execution_count": 151,
     "metadata": {},
     "output_type": "execute_result"
    },
    {
     "data": {
      "image/png": "[encoded data removed]",
      "text/plain": [
       "<Figure size 432x288 with 1 Axes>"
      ]
     },
     "metadata": {
      "needs_background": "light"
     },
     "output_type": "display_data"
    }
   ],
   "source": [
    "data.boxplot([\"Daerah\"])"
   ]
  },
  {
   "cell_type": "markdown",
   "metadata": {},
   "source": [
    "__Langkah Pengujian__ <br>\n",
    "1. Hipotesis nol $H_{0}: μ_{Daerah} = 4700$ <br> \n",
    "2. Hipotesis alternatif $H_{1}: μ_{Daerah} > 4700$ <br> \n",
    "3. Tingkat signifikan $α = 0.05$\n",
    "4. Uji Statistik dan Daerah Kritis<br>\n",
    "Uji statistik menggunakan rumus pencarian nilai z sebagai berikut. <br>\n",
    "$\\;\\;\\;\\;\\;\\;z= \\Large\\frac{\\bar{x}-\\mu}{\\frac{\\sigma}{\\sqrt n}}$ <br>"
   ]
  },
  {
   "cell_type": "code",
   "execution_count": 152,
   "metadata": {},
   "outputs": [
    {
     "data": {
      "text/markdown": [
       "Derah kritis terletak pada z > 1.6448536269514722."
      ],
      "text/plain": [
       "<IPython.core.display.Markdown object>"
      ]
     },
     "metadata": {},
     "output_type": "display_data"
    }
   ],
   "source": [
    "alpha = 0.05\n",
    "cRegion = criticalRegion(alpha,\">\")"
   ]
  },
  {
   "cell_type": "code",
   "execution_count": 153,
   "metadata": {},
   "outputs": [
    {
     "data": {
      "text/markdown": [
       "5. Menghitung Nilai Uji Statistik z dan p-value"
      ],
      "text/plain": [
       "<IPython.core.display.Markdown object>"
      ]
     },
     "metadata": {},
     "output_type": "display_data"
    },
    {
     "name": "stdout",
     "output_type": "stream",
     "text": [
      "x̄̅ = 4801.246\n",
      "σ = 986.3954914816017\n",
      "n = 500\n",
      "Maka, z = 2.2951538242525173.\n",
      "p-value = P(z > 2.2951538242525173) = 0.010862155196799894\n"
     ]
    }
   ],
   "source": [
    "display(Markdown(\"5. Menghitung Nilai Uji Statistik z dan p-value\"))\n",
    "zdaerah = countZ(\"Daerah\",4700)\n",
    "pvalue = countPV(zdaerah,\">\")"
   ]
  },
  {
   "cell_type": "code",
   "execution_count": 154,
   "metadata": {},
   "outputs": [
    {
     "data": {
      "text/markdown": [
       "6. Keputusan"
      ],
      "text/plain": [
       "<IPython.core.display.Markdown object>"
      ]
     },
     "metadata": {},
     "output_type": "display_data"
    },
    {
     "data": {
      "text/markdown": [
       "Karena z berada di daerah kritis, maka __$H_{0}$ ditolak.__"
      ],
      "text/plain": [
       "<IPython.core.display.Markdown object>"
      ]
     },
     "metadata": {},
     "output_type": "display_data"
    },
    {
     "data": {
      "text/markdown": [
       "Karena p-value < α, maka __$H_{0}$ ditolak.__"
      ],
      "text/plain": [
       "<IPython.core.display.Markdown object>"
      ]
     },
     "metadata": {},
     "output_type": "display_data"
    }
   ],
   "source": [
    "display(Markdown(\"6. Keputusan\"))\n",
    "cekZ(zdaerah,cRegion)\n",
    "cekP(pvalue,alpha)"
   ]
  },
  {
   "cell_type": "markdown",
   "metadata": {},
   "source": [
    "Kesimpulan: $μ_{Daerah} > 4700$"
   ]
  },
  {
   "cell_type": "markdown",
   "metadata": {},
   "source": [
    " #### 4.b. Pengujian Terhadap $μ_{SumbuUtama} ≠ 116$"
   ]
  },
  {
   "cell_type": "code",
   "execution_count": 155,
   "metadata": {},
   "outputs": [
    {
     "data": {
      "text/plain": [
       "<AxesSubplot:>"
      ]
     },
     "execution_count": 155,
     "metadata": {},
     "output_type": "execute_result"
    },
    {
     "data": {
      "image/png": "[encoded data removed]",
      "text/plain": [
       "<Figure size 432x288 with 1 Axes>"
      ]
     },
     "metadata": {
      "needs_background": "light"
     },
     "output_type": "display_data"
    }
   ],
   "source": [
    "data.boxplot([\"SumbuUtama\"])"
   ]
  },
  {
   "cell_type": "markdown",
   "metadata": {},
   "source": [
    "__Langkah Pengujian__ <br>\n",
    "1. Hipotesis nol $H_{0}: μ_{SumbuUtama} = 116$ <br> \n",
    "2. Hipotesis alternatif $H_{1}: μ_{SumbuUtama} ≠ 116$ <br> \n",
    "3. Tingkat signifikan $α = 0.05$\n",
    "4. Uji Statistik dan Daerah Kritis<br>\n",
    "Uji statistik menggunakan rumus pencarian nilai z sebagai berikut. <br>\n",
    "$\\;\\;\\;\\;\\;\\;z= \\Large\\frac{\\bar{x}-\\mu}{\\frac{\\sigma}{\\sqrt n}}$ <br>"
   ]
  },
  {
   "cell_type": "code",
   "execution_count": 156,
   "metadata": {},
   "outputs": [
    {
     "data": {
      "text/markdown": [
       "Derah kritis terletak pada z < -1.959963984540054 dan z > 1.959963984540054."
      ],
      "text/plain": [
       "<IPython.core.display.Markdown object>"
      ]
     },
     "metadata": {},
     "output_type": "display_data"
    }
   ],
   "source": [
    "alpha = 0.05\n",
    "cRegion = criticalRegion(alpha,\"!=\")"
   ]
  },
  {
   "cell_type": "code",
   "execution_count": 157,
   "metadata": {},
   "outputs": [
    {
     "data": {
      "text/markdown": [
       "5. Menghitung Nilai Uji Statistik z dan p-value"
      ],
      "text/plain": [
       "<IPython.core.display.Markdown object>"
      ]
     },
     "metadata": {},
     "output_type": "display_data"
    },
    {
     "name": "stdout",
     "output_type": "stream",
     "text": [
      "x̄̅ = 116.04517136778\n",
      "σ = 18.28262595755935\n",
      "n = 500\n",
      "Maka, z = 0.05524712326730106.\n",
      "p-value = 2P(z > 0.05524712326730106) = 0.9559415872977521\n"
     ]
    }
   ],
   "source": [
    "display(Markdown(\"5. Menghitung Nilai Uji Statistik z dan p-value\"))\n",
    "zSumbuUtama = countZ(\"SumbuUtama\",116)\n",
    "pvalue = countPV(zSumbuUtama,\"!=\")"
   ]
  },
  {
   "cell_type": "code",
   "execution_count": 158,
   "metadata": {},
   "outputs": [
    {
     "data": {
      "text/markdown": [
       "6. Keputusan"
      ],
      "text/plain": [
       "<IPython.core.display.Markdown object>"
      ]
     },
     "metadata": {},
     "output_type": "display_data"
    },
    {
     "data": {
      "text/markdown": [
       "Karena z tidak berada pada daerah kritis, maka __$H_{0}$ diterima.__"
      ],
      "text/plain": [
       "<IPython.core.display.Markdown object>"
      ]
     },
     "metadata": {},
     "output_type": "display_data"
    },
    {
     "data": {
      "text/markdown": [
       "Karena p-value >= α, maka __$H_{0}$ diterima.__"
      ],
      "text/plain": [
       "<IPython.core.display.Markdown object>"
      ]
     },
     "metadata": {},
     "output_type": "display_data"
    }
   ],
   "source": [
    "display(Markdown(\"6. Keputusan\"))\n",
    "cekZ(zSumbuUtama,cRegion)\n",
    "cekP(pvalue,alpha)"
   ]
  },
  {
   "cell_type": "markdown",
   "metadata": {},
   "source": [
    "Kesimpulan: $μ_{SumbuUtama} = 116$"
   ]
  },
  {
   "cell_type": "markdown",
   "metadata": {},
   "source": [
    " #### 4.c. Pengujian Terhadap $μ_{SumbuKecil} ≠ 50$ untuk 20 baris pertama"
   ]
  },
  {
   "cell_type": "code",
   "execution_count": 159,
   "metadata": {},
   "outputs": [
    {
     "data": {
      "text/plain": [
       "<AxesSubplot:>"
      ]
     },
     "execution_count": 159,
     "metadata": {},
     "output_type": "execute_result"
    },
    {
     "data": {
      "image/png": "[encoded data removed]",
      "text/plain": [
       "<Figure size 432x288 with 1 Axes>"
      ]
     },
     "metadata": {
      "needs_background": "light"
     },
     "output_type": "display_data"
    }
   ],
   "source": [
    "data.boxplot([\"SumbuKecil\"][:20])"
   ]
  },
  {
   "cell_type": "markdown",
   "metadata": {},
   "source": [
    "__Langkah Pengujian__ <br>\n",
    "1. Hipotesis nol $H_{0}: μ_{SumbuKecil[:20]} = 50$ <br> \n",
    "2. Hipotesis alternatif $H_{1}: μ_{SumbuKecil[:20]} ≠ 50$ <br> \n",
    "3. Tingkat signifikan $α = 0.05$\n",
    "4. Uji Statistik dan Daerah Kritis<br>\n",
    "Uji statistik menggunakan rumus pencarian nilai z sebagai berikut. <br>\n",
    "$\\;\\;\\;\\;\\;\\;z= \\Large\\frac{\\bar{x}-\\mu}{\\frac{\\sigma}{\\sqrt n}}$ <br>"
   ]
  },
  {
   "cell_type": "code",
   "execution_count": 160,
   "metadata": {},
   "outputs": [
    {
     "data": {
      "text/markdown": [
       "Derah kritis terletak pada z < -1.959963984540054 dan z > 1.959963984540054."
      ],
      "text/plain": [
       "<IPython.core.display.Markdown object>"
      ]
     },
     "metadata": {},
     "output_type": "display_data"
    }
   ],
   "source": [
    "alpha = 0.05\n",
    "cRegion = criticalRegion(alpha,\"!=\")"
   ]
  },
  {
   "cell_type": "code",
   "execution_count": 161,
   "metadata": {},
   "outputs": [
    {
     "data": {
      "text/markdown": [
       "5. Menghitung Nilai Uji Statistik z dan p-value"
      ],
      "text/plain": [
       "<IPython.core.display.Markdown object>"
      ]
     },
     "metadata": {},
     "output_type": "display_data"
    },
    {
     "name": "stdout",
     "output_type": "stream",
     "text": [
      "x̄̅ = 54.8872762605\n",
      "σ = 3.3738798982760296\n",
      "n = 20\n",
      "Maka, z = 6.478168916968894.\n",
      "p-value = 2P(z > 6.478168916968894) = 9.284240043427872e-11\n"
     ]
    }
   ],
   "source": [
    "display(Markdown(\"5. Menghitung Nilai Uji Statistik z dan p-value\"))\n",
    "#Untuk kasus ini, sampel yang digunakan adalah 20 baris pertama dari kolom SumbulKecil\n",
    "mu = 50\n",
    "mean = data[\"SumbuKecil\"][:20].mean()\n",
    "print(\"x̄̅ = \" + str(mean))\n",
    "std = data[\"SumbuKecil\"][:20].std()\n",
    "print(\"σ = \" + str(std))\n",
    "count = data[\"SumbuKecil\"][:20].count()\n",
    "print(\"n = \" + str(count))\n",
    "zSumbuKecil = (mean-mu)/(std/(count**0.5)) \n",
    "print(\"Maka, z = \" + str(zSumbuKecil) + \".\")\n",
    "pvalue = countPV(zSumbuKecil,\"!=\")"
   ]
  },
  {
   "cell_type": "code",
   "execution_count": 162,
   "metadata": {},
   "outputs": [
    {
     "data": {
      "text/markdown": [
       "6. Keputusan"
      ],
      "text/plain": [
       "<IPython.core.display.Markdown object>"
      ]
     },
     "metadata": {},
     "output_type": "display_data"
    },
    {
     "data": {
      "text/markdown": [
       "Karena z berada di daerah kritis, maka __$H_{0}$ ditolak.__"
      ],
      "text/plain": [
       "<IPython.core.display.Markdown object>"
      ]
     },
     "metadata": {},
     "output_type": "display_data"
    },
    {
     "data": {
      "text/markdown": [
       "Karena p-value < α, maka __$H_{0}$ ditolak.__"
      ],
      "text/plain": [
       "<IPython.core.display.Markdown object>"
      ]
     },
     "metadata": {},
     "output_type": "display_data"
    }
   ],
   "source": [
    "display(Markdown(\"6. Keputusan\"))\n",
    "cekZ(zSumbuKecil,cRegion)\n",
    "cekP(pvalue,alpha)"
   ]
  },
  {
   "cell_type": "markdown",
   "metadata": {},
   "source": [
    "Kesimpulan: $μ_{SumbuKecil[:20]} ≠ 50$ "
   ]
  },
  {
   "cell_type": "code",
   "execution_count": 163,
   "metadata": {},
   "outputs": [],
   "source": [
    "#DEKLARASI FUNGSI YANG DIBUTUHKAN \n",
    "\n",
    "def countZ2(kol,x,p0,opr):\n",
    "    #menghitung nilai z berdasarkan data statistik dan proporsi nilai\n",
    "    sample = data[kol]\n",
    "    if opr == \"<\":\n",
    "        filter = sample[sample<x]\n",
    "        count = filter.count()\n",
    "        print(\"Banyaknya data \" + str(kol) + \" > \" + str(x) + \" adalah \" + str(count) + \".\")\n",
    "    elif opr == \">\":\n",
    "        filter = sample[sample>x]\n",
    "        count = filter.count()\n",
    "        print(\"Banyaknya data \" + str(kol) + \" > \" + str(x) + \" adalah \" + str(count) + \".\")\n",
    "    print(\"Banyaknya sampel data adalah \" + str(sample.count()) + \".\")\n",
    "    p = count/sample.count()\n",
    "    print(\"Maka, p̂ = \" + str(p) + \".\")\n",
    "    print(\"po = \" + str(p0))\n",
    "    n = sample.count()\n",
    "    print(\"n = \" + str(n))\n",
    "    z = (p-p0)/(p0*(1-p0)/n)**0.5\n",
    "    print(\"Maka, z = \" + str(z) + \".\")\n",
    "    return z\n",
    "    "
   ]
  },
  {
   "cell_type": "markdown",
   "metadata": {},
   "source": [
    " #### 4.d. Pengujian Terhadap $P(Diameter > 85) ≠ 15\\%$"
   ]
  },
  {
   "cell_type": "code",
   "execution_count": 164,
   "metadata": {},
   "outputs": [
    {
     "data": {
      "text/plain": [
       "<AxesSubplot:>"
      ]
     },
     "execution_count": 164,
     "metadata": {},
     "output_type": "execute_result"
    },
    {
     "data": {
      "image/png": "[encoded data removed]",
      "text/plain": [
       "<Figure size 432x288 with 1 Axes>"
      ]
     },
     "metadata": {
      "needs_background": "light"
     },
     "output_type": "display_data"
    }
   ],
   "source": [
    "data.boxplot([\"Diameter\"])"
   ]
  },
  {
   "cell_type": "markdown",
   "metadata": {},
   "source": [
    "__Langkah Pengujian__ <br>\n",
    "1. Hipotesis nol $H_{0}: P(Diameter > 85) = 15\\%$ <br> \n",
    "2. Hipotesis alternatif $H_{1}: P(Diameter > 85) ≠ 15\\%$ <br> \n",
    "3. Tingkat signifikan $α = 0.05$\n",
    "4. Uji Statistik dan Daerah Kritis<br>\n",
    "Uji statistik menggunakan rumus pencarian nilai z sebagai berikut. <br>\n",
    "$\\;\\;\\;\\;\\;\\;z = \\Large\\frac{\\hat{p} - p_{\\normalsize0}}{\\sqrt{\\frac{p_{\\normalsize0}(1 - p_{\\normalsize0})}{n}}}$ <br>"
   ]
  },
  {
   "cell_type": "code",
   "execution_count": 165,
   "metadata": {},
   "outputs": [
    {
     "data": {
      "text/markdown": [
       "Derah kritis terletak pada z < -1.959963984540054 dan z > 1.959963984540054."
      ],
      "text/plain": [
       "<IPython.core.display.Markdown object>"
      ]
     },
     "metadata": {},
     "output_type": "display_data"
    }
   ],
   "source": [
    "alpha = 0.05\n",
    "cpoint = st.norm.ppf(1-alpha) #titik kritis\n",
    "cRegion = criticalRegion(alpha,\"!=\")"
   ]
  },
  {
   "cell_type": "code",
   "execution_count": 166,
   "metadata": {},
   "outputs": [
    {
     "data": {
      "text/markdown": [
       "5. Menghitung Nilai Uji Statistik z dan p-value"
      ],
      "text/plain": [
       "<IPython.core.display.Markdown object>"
      ]
     },
     "metadata": {},
     "output_type": "display_data"
    },
    {
     "name": "stdout",
     "output_type": "stream",
     "text": [
      "Banyaknya data Diameter > 85 adalah 97.\n",
      "Banyaknya sampel data adalah 500.\n",
      "Maka, p̂ = 0.194.\n",
      "po = 0.15\n",
      "n = 500\n",
      "Maka, z = 2.755386880774658.\n",
      "p-value = 2P(z > 2.755386880774658) = 0.005862277168409591\n"
     ]
    }
   ],
   "source": [
    "display(Markdown(\"5. Menghitung Nilai Uji Statistik z dan p-value\"))\n",
    "zDiameter = countZ2(\"Diameter\",85,0.15,\">\")\n",
    "pvalue = countPV(zDiameter,\"!=\")"
   ]
  },
  {
   "cell_type": "code",
   "execution_count": 167,
   "metadata": {},
   "outputs": [
    {
     "data": {
      "text/markdown": [
       "6. Keputusan"
      ],
      "text/plain": [
       "<IPython.core.display.Markdown object>"
      ]
     },
     "metadata": {},
     "output_type": "display_data"
    },
    {
     "data": {
      "text/markdown": [
       "Karena z berada di daerah kritis, maka __$H_{0}$ ditolak.__"
      ],
      "text/plain": [
       "<IPython.core.display.Markdown object>"
      ]
     },
     "metadata": {},
     "output_type": "display_data"
    },
    {
     "data": {
      "text/markdown": [
       "Karena p-value < α, maka __$H_{0}$ ditolak.__"
      ],
      "text/plain": [
       "<IPython.core.display.Markdown object>"
      ]
     },
     "metadata": {},
     "output_type": "display_data"
    }
   ],
   "source": [
    "display(Markdown(\"6. Keputusan\"))\n",
    "cekZ(zDiameter,cRegion)\n",
    "cekP(pvalue,alpha)"
   ]
  },
  {
   "cell_type": "markdown",
   "metadata": {},
   "source": [
    "Kesimpulan: $P(Diameter > 85) ≠ 15\\%$"
   ]
  },
  {
   "cell_type": "markdown",
   "metadata": {},
   "source": [
    " #### 4.e. Pengujian Terhadap $P(Keliling < 100) < 5\\%$"
   ]
  },
  {
   "cell_type": "code",
   "execution_count": 168,
   "metadata": {},
   "outputs": [
    {
     "data": {
      "text/plain": [
       "<AxesSubplot:>"
      ]
     },
     "execution_count": 168,
     "metadata": {},
     "output_type": "execute_result"
    },
    {
     "data": {
      "image/png": "[encoded data removed]",
      "text/plain": [
       "<Figure size 432x288 with 1 Axes>"
      ]
     },
     "metadata": {
      "needs_background": "light"
     },
     "output_type": "display_data"
    }
   ],
   "source": [
    "data.boxplot([\"Keliling\"])"
   ]
  },
  {
   "cell_type": "markdown",
   "metadata": {},
   "source": [
    "__Langkah Pengujian__ <br>\n",
    "1. Hipotesis nol $H_{0}: P(Keliling < 100) = 5\\%$ <br> \n",
    "2. Hipotesis alternatif $H_{1}: P(Keliling < 100) < 5\\%$ <br> \n",
    "3. Tingkat signifikan $α = 0.05$\n",
    "4. Uji Statistik dan Daerah Kritis<br>\n",
    "Uji statistik menggunakan rumus pencarian nilai z sebagai berikut. <br>\n",
    "$\\;\\;\\;\\;\\;\\;z = \\Large\\frac{\\hat{p} - p_{\\normalsize0}}{\\sqrt{\\frac{p_{\\normalsize0}(1 - p_{\\normalsize0})}{n}}}$ <br>"
   ]
  },
  {
   "cell_type": "code",
   "execution_count": 169,
   "metadata": {},
   "outputs": [
    {
     "data": {
      "text/markdown": [
       "Derah kritis terletak pada z < -1.6448536269514729."
      ],
      "text/plain": [
       "<IPython.core.display.Markdown object>"
      ]
     },
     "metadata": {},
     "output_type": "display_data"
    }
   ],
   "source": [
    "alpha = 0.05\n",
    "cRegion = criticalRegion(alpha,\"<\")"
   ]
  },
  {
   "cell_type": "code",
   "execution_count": 170,
   "metadata": {},
   "outputs": [
    {
     "data": {
      "text/markdown": [
       "5. Menghitung Nilai Uji Statistik z dan p-value"
      ],
      "text/plain": [
       "<IPython.core.display.Markdown object>"
      ]
     },
     "metadata": {},
     "output_type": "display_data"
    },
    {
     "name": "stdout",
     "output_type": "stream",
     "text": [
      "Banyaknya data Keliling > 100 adalah 0.\n",
      "Banyaknya sampel data adalah 500.\n",
      "Maka, p̂ = 0.0.\n",
      "po = 0.05\n",
      "n = 500\n",
      "Maka, z = -5.129891760425771.\n",
      "p-value = P(z < -5.129891760425771) = 1.4495441414387716e-07\n"
     ]
    }
   ],
   "source": [
    "display(Markdown(\"5. Menghitung Nilai Uji Statistik z dan p-value\"))\n",
    "zKeliling = countZ2(\"Keliling\",100,0.05,\"<\")\n",
    "pvalue = countPV(zKeliling,\"<\")"
   ]
  },
  {
   "cell_type": "code",
   "execution_count": 171,
   "metadata": {},
   "outputs": [
    {
     "data": {
      "text/markdown": [
       "6. Keputusan"
      ],
      "text/plain": [
       "<IPython.core.display.Markdown object>"
      ]
     },
     "metadata": {},
     "output_type": "display_data"
    },
    {
     "data": {
      "text/markdown": [
       "Karena z berada di daerah kritis, maka __$H_{0}$ ditolak.__"
      ],
      "text/plain": [
       "<IPython.core.display.Markdown object>"
      ]
     },
     "metadata": {},
     "output_type": "display_data"
    },
    {
     "data": {
      "text/markdown": [
       "Karena p-value < α, maka __$H_{0}$ ditolak.__"
      ],
      "text/plain": [
       "<IPython.core.display.Markdown object>"
      ]
     },
     "metadata": {},
     "output_type": "display_data"
    }
   ],
   "source": [
    "display(Markdown(\"6. Keputusan\"))\n",
    "cekZ(zKeliling,cRegion)\n",
    "cekP(pvalue,alpha)"
   ]
  },
  {
   "cell_type": "markdown",
   "metadata": {},
   "source": [
    "Kesimpulan: $P(Keliling < 100) < 5\\%$"
   ]
  },
  {
   "cell_type": "markdown",
   "metadata": {},
   "source": [
    "### 5. Tes Hipotesis 2 Sampel"
   ]
  },
  {
   "cell_type": "code",
   "execution_count": 268,
   "metadata": {},
   "outputs": [],
   "source": [
    "#DEKLARASI FUNGSI/PROSEDUR YANG DIBUTUHKAN\n",
    "def degreeFreedom(n1,n2):\n",
    "    #menghitung derajat kebebasan\n",
    "    return n1+n2-2\n",
    "\n",
    "def countT(kol,d0):\n",
    "    n1 = awal[kol].count()\n",
    "    n2 = akhir[kol].count()\n",
    "    xbar1 = awal[kol].mean()\n",
    "    xbar2 = akhir[kol].mean()\n",
    "    s1 = awal[kol].std()\n",
    "    s2 = akhir[kol].std()\n",
    "    print(\"x̄̅1 = \" + str(xbar1))\n",
    "    print(\"x̄̅2 = \" + str(xbar2))\n",
    "    print(\"σ1 = \" + str(s1))\n",
    "    print(\"σ2 = \" + str(s2))\n",
    "    print(\"n1 = \" + str(n1))\n",
    "    print(\"n2 = \" + str(n2))\n",
    "    return ((xbar1-xbar2)-d0)/(s1**2/n1 + s2**2/n2)**(0.5)\n",
    "\n",
    "\n",
    "def criticalRegionT(alpha,opr):\n",
    "    #menghasilkan daerah kritis\n",
    "    alpha = 0.05\n",
    "    if opr==\">\":\n",
    "        cpoint = st.norm.ppf(1-alpha)\n",
    "        display(Markdown(\"Derah kritis terletak pada t > \" + str(cpoint) + \".\"))\n",
    "        return 1 #mengembalikan kode 1\n",
    "    elif opr==\"<\":\n",
    "        cpoint = st.norm.ppf(alpha)\n",
    "        display(Markdown(\"Derah kritis terletak pada t < \" + str(cpoint) + \".\"))\n",
    "        return 2 #mengembalikan kode 2\n",
    "    elif opr==\"!=\":\n",
    "        cpoint = st.norm.ppf(1-alpha/2)\n",
    "        display(Markdown(\"Derah kritis terletak pada t < -\" + str(cpoint) + \" dan t > \" + str(cpoint) + \".\"))\n",
    "        return 3 #mengembalikan kode 3\n",
    "    \n",
    "def cekT(t,criticalRegion):\n",
    "    #mengecek apakah z berada di daerah kritis dan menghasilkan keputusan\n",
    "    masuk = False\n",
    "    if criticalRegion == 1:\n",
    "        if t > cpoint:\n",
    "            masuk = True\n",
    "    elif criticalRegion == 2:\n",
    "        if t < cpoint:\n",
    "            masuk = True\n",
    "    elif criticalRegion == 3:\n",
    "        if t < -cpoint or t > cpoint:\n",
    "            masuk = True\n",
    "    if (masuk):       \n",
    "        display(Markdown(\"Karena t berada di daerah kritis, maka __$H_{0}$ ditolak.__\"))\n",
    "    else:\n",
    "        display(Markdown(\"Karena t tidak berada pada daerah kritis, maka __$H_{0}$ diterima.__\"))\n"
   ]
  },
  {
   "cell_type": "markdown",
   "metadata": {},
   "source": [
    "#### 5.a. Data kolom AreaBulatan dibagi 2 sama rata: bagian awal dan bagian akhir kolom. Benarkah rata-rata kedua bagian tersebut sama?"
   ]
  },
  {
   "cell_type": "code",
   "execution_count": 274,
   "metadata": {},
   "outputs": [],
   "source": [
    "#VARIABEL\n",
    "row = len(data.index)\n",
    "mid = int(row/2)\n",
    "awal = data.iloc[0:mid]\n",
    "akhir = data.iloc[mid:row+1]"
   ]
  },
  {
   "cell_type": "markdown",
   "metadata": {},
   "source": [
    "__Langkah Pengujian__ <br>\n",
    "1. Hipotesis nol $H_{0}: \\mu_{AreaBulatan1} = \\mu_{AreaBulatan2}$ <br> \n",
    "2. Hipotesis alternatif $H_{1}: \\mu_{AreaBulatan1} \\neq \\mu_{AreaBulatan2}$ <br> \n",
    "3. Tingkat signifikan $α = 0.05$\n",
    "4. Uji Statistik dan Daerah Kritis<br>\n",
    "Digunakan uji two-tailed\n",
    "Uji statistik menggunakan rumus pencarian sebagai berikut. <br>\n",
    "$t = \\Large\\frac{(\\bar{X_1} - \\bar{X_2})-(\\mu_1 - \\mu_2)}{\\sqrt{\\Large\\frac{\\sigma_1^2}{\\Large n_{\\ 1}} + \\Large\\frac{\\sigma_2^2}{\\Large n_{\\large 2}}}}$ <br>\n",
    "5. Penentuan p-Value <br>\n",
    "6. Keputusan <br>"
   ]
  },
  {
   "cell_type": "code",
   "execution_count": 272,
   "metadata": {},
   "outputs": [
    {
     "name": "stdout",
     "output_type": "stream",
     "text": [
      "x̄̅1 = 5549.804\n",
      "x̄̅2 = 4324.292\n",
      "σ1 = 867.0254356176825\n",
      "σ2 = 738.5664658199254\n",
      "n1 = 250\n",
      "n2 = 250\n",
      "t = 17.013036648485464\n"
     ]
    },
    {
     "data": {
      "text/markdown": [
       "Derah kritis terletak pada t < -1.959963984540054 dan t > 1.959963984540054."
      ],
      "text/plain": [
       "<IPython.core.display.Markdown object>"
      ]
     },
     "metadata": {},
     "output_type": "display_data"
    },
    {
     "data": {
      "text/markdown": [
       "Karena t berada di daerah kritis, maka __$H_{0}$ ditolak.__"
      ],
      "text/plain": [
       "<IPython.core.display.Markdown object>"
      ]
     },
     "metadata": {},
     "output_type": "display_data"
    }
   ],
   "source": [
    "t = countT(\"AreaBulatan\",0)\n",
    "print(\"t =\", t)\n",
    "cRegion = criticalRegionT(alpha,\"!=\")\n",
    "cekT(t,cRegion)"
   ]
  },
  {
   "cell_type": "markdown",
   "metadata": {},
   "source": [
    "Kesimpulan: $\\mu_{AreaBulatan1} \\neq \\mu_{AreaBulatan2}$ <br> "
   ]
  },
  {
   "cell_type": "markdown",
   "metadata": {},
   "source": [
    "#### 5.b. Data kolom Kadar Air dibagi 2 sama rata: bagian awal dan bagian akhir kolom. Benarkah rata-rata bagian awal lebih besar dari pada bagian akhir sebesar 0.2?"
   ]
  },
  {
   "cell_type": "code",
   "execution_count": 304,
   "metadata": {},
   "outputs": [],
   "source": [
    "#VARIABEL\n",
    "row = len(data.index)\n",
    "mid = int(row/2)\n",
    "awal = data.iloc[0:mid]\n",
    "akhir = data.iloc[mid:row+1]"
   ]
  },
  {
   "cell_type": "markdown",
   "metadata": {},
   "source": [
    "__Langkah Pengujian__ <br>\n",
    "1. Hipotesis nol $H_{0}: KadarAir_{awal} - KadarAir_{akhir} = 0.2$ <br> \n",
    "2. Hipotesis alternatif $H_{1}: KadarAir_{awal} - KadarAir_{akhir} \\neq 0.2$ <br> \n",
    "3. Tingkat signifikan $α = 0.05$\n",
    "4. Uji Statistik dan Daerah Kritis<br>\n",
    "Digunakan uji two-tailed\n",
    "Uji statistik menggunakan rumus pencarian sebagai berikut. <br>\n",
    "$t = \\Large\\frac{(\\bar{X_1} - \\bar{X_2})-(\\mu_1 - \\mu_2)}{\\sqrt{\\Large\\frac{\\sigma_1^2}{\\Large n_{\\ 1}} + \\Large\\frac{\\sigma_2^2}{\\Large n_{\\large 2}}}}$ <br>\n",
    "5. Penentuan p-value <br>"
   ]
  },
  {
   "cell_type": "code",
   "execution_count": 310,
   "metadata": {},
   "outputs": [
    {
     "name": "stdout",
     "output_type": "stream",
     "text": [
      "x̄̅1 = 5286.7\n",
      "x̄̅2 = 4682.6\n",
      "σ1 = 669.2140795070934\n",
      "σ2 = 877.5171553278811\n",
      "n1 = 20\n",
      "n2 = 20\n",
      "t = 2.447242989725829\n"
     ]
    },
    {
     "data": {
      "text/markdown": [
       "Derah kritis terletak pada t < -1.959963984540054 dan t > 1.959963984540054."
      ],
      "text/plain": [
       "<IPython.core.display.Markdown object>"
      ]
     },
     "metadata": {},
     "output_type": "display_data"
    }
   ],
   "source": [
    "t = countT(\"AreaBulatan\",0.2)\n",
    "print(\"t =\", t)\n",
    "cRegion = criticalRegionT(alpha,\"!=\")"
   ]
  },
  {
   "cell_type": "code",
   "execution_count": 311,
   "metadata": {},
   "outputs": [
    {
     "data": {
      "text/markdown": [
       "6. Keputusan"
      ],
      "text/plain": [
       "<IPython.core.display.Markdown object>"
      ]
     },
     "metadata": {},
     "output_type": "display_data"
    },
    {
     "data": {
      "text/markdown": [
       "Karena t berada di daerah kritis, maka __$H_{0}$ ditolak.__"
      ],
      "text/plain": [
       "<IPython.core.display.Markdown object>"
      ]
     },
     "metadata": {},
     "output_type": "display_data"
    }
   ],
   "source": [
    "display(Markdown(\"6. Keputusan\"))\n",
    "cekT(t,cRegion)"
   ]
  },
  {
   "cell_type": "markdown",
   "metadata": {},
   "source": [
    "Kesimpulan: $KadarAir_{awal} - KadarAir_{akhir} \\neq 0.2$"
   ]
  },
  {
   "cell_type": "markdown",
   "metadata": {},
   "source": [
    "#### 5.c. Rata-rata 20 baris pertama kolom Bulatan sama dengan 20 baris terakhirnya?"
   ]
  },
  {
   "cell_type": "code",
   "execution_count": 309,
   "metadata": {},
   "outputs": [],
   "source": [
    "n = len(data.index)\n",
    "end = n - 20\n",
    "awal = data.iloc[0:20]\n",
    "akhir = data.iloc[end:n+1]"
   ]
  },
  {
   "cell_type": "markdown",
   "metadata": {},
   "source": [
    "__Langkah Pengujian__ <br>\n",
    "1. Hipotesis nol $H_{0}: \\mu_{Bulatan1} = \\mu_{Bulatan2}$ <br> \n",
    "2. Hipotesis alternatif $H_{1}: \\mu_{Bulatan1} \\neq \\mu_{Bulatan2}$ <br> \n",
    "3. Tingkat signifikan $α = 0.05$\n",
    "4. Uji Statistik dan Daerah Kritis<br>\n",
    "Digunakan uji two-tailed\n",
    "Uji statistik menggunakan rumus pencarian sebagai berikut. <br>\n",
    "$t = \\Large\\frac{(\\bar{X_1} - \\bar{X_2})-(\\mu_1 - \\mu_2)}{\\sqrt{\\Large\\frac{\\sigma_1^2}{\\Large n_{\\ 1}} + \\Large\\frac{\\sigma_2^2}{\\Large n_{\\large 2}}}}$ <br>\n",
    "5. Penentuan p-Value <br>"
   ]
  },
  {
   "cell_type": "code",
   "execution_count": 313,
   "metadata": {
    "scrolled": true
   },
   "outputs": [
    {
     "name": "stdout",
     "output_type": "stream",
     "text": [
      "x̄̅1 = 0.73753535525\n",
      "x̄̅2 = 0.767322437\n",
      "σ1 = 0.03038477583561707\n",
      "σ2 = 0.025115057347653777\n",
      "n1 = 20\n",
      "n2 = 20\n",
      "t = -3.3792268633123896\n"
     ]
    },
    {
     "data": {
      "text/markdown": [
       "Derah kritis terletak pada t < -1.959963984540054 dan t > 1.959963984540054."
      ],
      "text/plain": [
       "<IPython.core.display.Markdown object>"
      ]
     },
     "metadata": {},
     "output_type": "display_data"
    }
   ],
   "source": [
    "t = countT(\"Bulatan\",0)\n",
    "print(\"t =\", t)\n",
    "cRegion = criticalRegionT(alpha,\"!=\")"
   ]
  },
  {
   "cell_type": "code",
   "execution_count": 314,
   "metadata": {},
   "outputs": [
    {
     "data": {
      "text/markdown": [
       "6. Keputusan"
      ],
      "text/plain": [
       "<IPython.core.display.Markdown object>"
      ]
     },
     "metadata": {},
     "output_type": "display_data"
    },
    {
     "data": {
      "text/markdown": [
       "Karena t berada di daerah kritis, maka __$H_{0}$ ditolak.__"
      ],
      "text/plain": [
       "<IPython.core.display.Markdown object>"
      ]
     },
     "metadata": {},
     "output_type": "display_data"
    }
   ],
   "source": [
    "display(Markdown(\"6. Keputusan\"))\n",
    "cekT(t,cRegion)"
   ]
  },
  {
   "cell_type": "markdown",
   "metadata": {},
   "source": [
    "#### 5.d. Proporsi nilai bagian awal Ransum yang lebih dari $2$, adalah lebih besar daripada, proporsi nilai yang sama di bagian akhir Ransum?"
   ]
  },
  {
   "cell_type": "code",
   "execution_count": 315,
   "metadata": {},
   "outputs": [],
   "source": [
    "# VARIABLE\n",
    "n = len(data.index)\n",
    "mid = int(n/2)\n",
    "awal = data['Ransum'].iloc[1:mid]\n",
    "akhir = data['Ransum'].iloc[(mid+1):n]\n",
    "awal_filter = [] \n",
    "akhir_filter = []\n",
    "for i in range(len(awal.index)): \n",
    "    if (awal.iloc[i] > 2): \n",
    "        awal_filter.append(awal.iloc[i])\n",
    "\n",
    "for i in range(len(akhir.index)):\n",
    "    if (akhir.iloc[i] > 2): \n",
    "        akhir_filter.append(akhir.iloc[i])"
   ]
  },
  {
   "cell_type": "markdown",
   "metadata": {},
   "source": [
    "__Langkah Pengujian__ <br>\n",
    "1. Hipotesis nol $H_{0}: P(Ransum_{awal} > 2) = P(Ransum_{akhir} > 2)$ <br> \n",
    "2. Hipotesis alternatif $H_{1}: P(Ransum_{awal} > 2) > P(Ransum_{akhir} > 2)$ <br> \n",
    "3. Tingkat signifikan $α = 0.05$\n",
    "4. Uji Statistik dan Daerah Kritis<br>\n",
    "Digunakan uji two-tailed menggunakan rumus sebagai berikut. <br>\n",
    "$t = \\Large\\frac{(\\hat{p}_1 - \\hat{p}_2) - (p_1 - p_2)}{\\sqrt{\\hat{p}_c(1-\\hat{p}_c)(\\frac{1}{n_1} + \\frac{1}{n_2})}}$ <br>\n",
    "\n",
    "$\\hat{p}_c = \\Large\\frac{x_1 + x_2}{n_1 + n_2}$ <br> \n",
    "5. Penentuan p-Value <br>"
   ]
  },
  {
   "cell_type": "code",
   "execution_count": 298,
   "metadata": {},
   "outputs": [
    {
     "name": "stdout",
     "output_type": "stream",
     "text": [
      "Zt = 70.44641942841027\n"
     ]
    },
    {
     "data": {
      "text/markdown": [
       "Derah kritis terletak pada t > 1.6448536269514722."
      ],
      "text/plain": [
       "<IPython.core.display.Markdown object>"
      ]
     },
     "metadata": {},
     "output_type": "display_data"
    }
   ],
   "source": [
    "p1 = len(awal_filter) / 250\n",
    "p2 = len(akhir_filter) / 250\n",
    "pc = p1 + p2 / 500\n",
    "zt = (p1-p2)/(pc*(1-pc)/125)**(0.5)\n",
    "\n",
    "print(\"Zt =\", zt)\n",
    "cRegion = criticalRegionT(alpha,\">\")"
   ]
  },
  {
   "cell_type": "markdown",
   "metadata": {},
   "source": [
    "6. Keputusan <br>\n",
    "Karena nilai $z_t$ tidak berada pada c < -1.65, maka $H_{0}$ __gagal untuk ditolak.__"
   ]
  },
  {
   "cell_type": "markdown",
   "metadata": {},
   "source": [
    "#### 5.e.  Bagian awal kolom Diameter memiliki variansi yang sama dengan bagian akhirnya?"
   ]
  },
  {
   "cell_type": "code",
   "execution_count": 299,
   "metadata": {},
   "outputs": [],
   "source": [
    "# VARIABLE\n",
    "n = len(data.index)\n",
    "mid = n/2\n",
    "awal = data['Diameter'].iloc[1:int(mid)] # data bagian awal\n",
    "akhir = data['Diameter'].iloc[int(mid+1):n] # data bagian akhir"
   ]
  },
  {
   "cell_type": "markdown",
   "metadata": {},
   "source": [
    "__Langkah Pengujian__ <br>\n",
    "1. Hipotesis nol $H_{0}: \\sigma^2_{Diameter1} = \\sigma^2_{Diameter2}$ <br> \n",
    "2. Hipotesis alternatif $H_{1}: \\sigma^2_{Diameter1} \\neq \\sigma^2_{Diameter2}$ <br> \n",
    "3. Tingkat signifikan $α = 0.05$\n",
    "4. Uji Statistik dan Daerah Kritis<br>\n",
    "Digunakan uji two-tailed\n",
    "Uji statistik menggunakan rumus pencarian sebagai berikut. <br>\n",
    "$F_c = \\Large\\frac{\\sigma_2^2}{\\sigma_1^2}$\n",
    "5. Penentuan p-Value <br>"
   ]
  },
  {
   "cell_type": "code",
   "execution_count": 303,
   "metadata": {},
   "outputs": [
    {
     "name": "stdout",
     "output_type": "stream",
     "text": [
      "Fc = 0.9089761525466793\n"
     ]
    },
    {
     "data": {
      "text/markdown": [
       "Daerah kritis terletak pada c < 0.7795916576054988 atau  c > 1.2827228078241388"
      ],
      "text/plain": [
       "<IPython.core.display.Markdown object>"
      ]
     },
     "metadata": {},
     "output_type": "display_data"
    }
   ],
   "source": [
    "s1 = awal.std()\n",
    "s2 = akhir.std()\n",
    "F = s2**2/s1**2\n",
    "fc = scipy.stats.f.ppf(q=0.975, dfn=249, dfd=249)\n",
    "\n",
    "clower = 1/fc\n",
    "cupper = fc\n",
    "\n",
    "print(\"Fc =\", F)\n",
    "display(Markdown(\"Daerah kritis terletak pada c < \" + str(clower) + \" atau \" + \" c > \" + str(cupper)))"
   ]
  },
  {
   "cell_type": "markdown",
   "metadata": {},
   "source": [
    "6. Keputusan <br>\n",
    "Karena $Fc$ tidak berada pada daerah kritis, maka __$H_{0}$ diterima.__"
   ]
  },
  {
   "cell_type": "markdown",
   "metadata": {},
   "source": [
    "### 6. Tes Korelasi"
   ]
  },
  {
   "cell_type": "markdown",
   "metadata": {},
   "source": [
    "Apabila nilai korelasi mendekati 0, kedua kolom tidak berkorelasi. <br>\n",
    "Apabila nilai korelasi mendekati 1, kedua kolom berbanding lurus. <br>\n",
    "Apabila nilai korelasi mendekati -1, kedua kolom berbanding terbalik. <br>"
   ]
  },
  {
   "cell_type": "code",
   "execution_count": 27,
   "metadata": {},
   "outputs": [],
   "source": [
    "import seaborn as sns\n",
    "import warnings\n",
    "warnings.simplefilter(action=\"ignore\", category=FutureWarning)"
   ]
  },
  {
   "cell_type": "code",
   "execution_count": 63,
   "metadata": {},
   "outputs": [],
   "source": [
    "#DEKLARASI FUNGSI/PROSEDUR YANG DIBUTUHKAN\n",
    "\n",
    "def scatter(kol1):\n",
    "    #menampilkan diagram scatterplot dan menunjukkan garis regresi linear antara kolom non-target dengan kolom target\n",
    "    display(Markdown(\"Scatterplot \" + kol1 + \" dengan Kelas\"))\n",
    "    sns.regplot(data[kol1],data['Kelas'])\n",
    "    \n",
    "def min3(a,b,c):\n",
    "    #mengembalikan 0 apabila a minimal, 1 apabila b minimal, 2 apabila c minimal\n",
    "    if a<b:\n",
    "        if a<c:\n",
    "            return 0\n",
    "        else:\n",
    "            return 2\n",
    "    else:\n",
    "        if b<c:\n",
    "            return 1\n",
    "        else:\n",
    "            return 2\n",
    "        \n",
    "def korelasi(kol1):\n",
    "    #menampilkan nilai korelasi antara kol1 dengan Kelas serta jenis kolerasinya\n",
    "    kor = data[kol1].corr(data['Kelas'])\n",
    "    display(Markdown(\"Nilai korelasi antara \" + kol1 + \" dengan Kelas adalah = \" + str(kor)))\n",
    "    diff0 = abs(kor)\n",
    "    diff1 = abs(kor-1)\n",
    "    diffmin1 = abs(kor+1)\n",
    "    hsl = min3(diff0,diff1,diffmin1)\n",
    "    if hsl==0:\n",
    "        display(Markdown(\"Maka, keduanya tidak berkolerasi.\"))\n",
    "    elif hsl==1:\n",
    "        display(Markdown(\"Maka, keduanya memiliki korelasi yang berbanding lurus.\"))\n",
    "                \n",
    "    else: #hsl==2\n",
    "        display(Markdown(\"Maka, keduanya memiliki korelasi yang berbanding terbalik.\"))"
   ]
  },
  {
   "cell_type": "markdown",
   "metadata": {},
   "source": [
    "#### Korelasi Daerah dengan Kelas "
   ]
  },
  {
   "cell_type": "code",
   "execution_count": 28,
   "metadata": {},
   "outputs": [
    {
     "data": {
      "text/markdown": [
       "Scatterplot Daerah dengan Kelas"
      ],
      "text/plain": [
       "<IPython.core.display.Markdown object>"
      ]
     },
     "metadata": {},
     "output_type": "display_data"
    },
    {
     "data": {
      "image/png": "[encoded data removed]",
      "text/plain": [
       "<Figure size 432x288 with 1 Axes>"
      ]
     },
     "metadata": {
      "needs_background": "light"
     },
     "output_type": "display_data"
    }
   ],
   "source": [
    "scatter(\"Daerah\")"
   ]
  },
  {
   "cell_type": "code",
   "execution_count": 29,
   "metadata": {},
   "outputs": [
    {
     "data": {
      "text/markdown": [
       "Nilai korelasi antara Daerah dengan Kelas adalah = -0.6027466517416661"
      ],
      "text/plain": [
       "<IPython.core.display.Markdown object>"
      ]
     },
     "metadata": {},
     "output_type": "display_data"
    },
    {
     "data": {
      "text/markdown": [
       "Maka, keduanya memiliki korelasi yang berbanding terbalik."
      ],
      "text/plain": [
       "<IPython.core.display.Markdown object>"
      ]
     },
     "metadata": {},
     "output_type": "display_data"
    }
   ],
   "source": [
    "korelasi(\"Daerah\")"
   ]
  },
  {
   "cell_type": "markdown",
   "metadata": {},
   "source": [
    "#### Korelasi SumbuUtama dengan Kelas "
   ]
  },
  {
   "cell_type": "code",
   "execution_count": 64,
   "metadata": {},
   "outputs": [
    {
     "data": {
      "text/markdown": [
       "Scatterplot SumbuUtama dengan Kelas"
      ],
      "text/plain": [
       "<IPython.core.display.Markdown object>"
      ]
     },
     "metadata": {},
     "output_type": "display_data"
    },
    {
     "data": {
      "image/png": "[encoded data removed]",
      "text/plain": [
       "<Figure size 432x288 with 1 Axes>"
      ]
     },
     "metadata": {
      "needs_background": "light"
     },
     "output_type": "display_data"
    }
   ],
   "source": [
    "scatter(\"SumbuUtama\")"
   ]
  },
  {
   "cell_type": "code",
   "execution_count": 65,
   "metadata": {},
   "outputs": [
    {
     "data": {
      "text/markdown": [
       "Nilai korelasi antara SumbuUtama dengan Kelas adalah = -0.7130906104204594"
      ],
      "text/plain": [
       "<IPython.core.display.Markdown object>"
      ]
     },
     "metadata": {},
     "output_type": "display_data"
    },
    {
     "data": {
      "text/markdown": [
       "Maka, keduanya memiliki korelasi yang berbanding terbalik."
      ],
      "text/plain": [
       "<IPython.core.display.Markdown object>"
      ]
     },
     "metadata": {},
     "output_type": "display_data"
    }
   ],
   "source": [
    "korelasi(\"SumbuUtama\")"
   ]
  },
  {
   "cell_type": "markdown",
   "metadata": {},
   "source": [
    "#### Korelasi SumbuKecil dengan Kelas"
   ]
  },
  {
   "cell_type": "code",
   "execution_count": 66,
   "metadata": {},
   "outputs": [
    {
     "data": {
      "text/markdown": [
       "Scatterplot SumbuKecil dengan Kelas"
      ],
      "text/plain": [
       "<IPython.core.display.Markdown object>"
      ]
     },
     "metadata": {},
     "output_type": "display_data"
    },
    {
     "data": {
      "image/png": "[encoded data removed]",
      "text/plain": [
       "<Figure size 432x288 with 1 Axes>"
      ]
     },
     "metadata": {
      "needs_background": "light"
     },
     "output_type": "display_data"
    }
   ],
   "source": [
    "scatter(\"SumbuKecil\")"
   ]
  },
  {
   "cell_type": "code",
   "execution_count": 67,
   "metadata": {},
   "outputs": [
    {
     "data": {
      "text/markdown": [
       "Nilai korelasi antara SumbuKecil dengan Kelas adalah = -0.1529751733553502"
      ],
      "text/plain": [
       "<IPython.core.display.Markdown object>"
      ]
     },
     "metadata": {},
     "output_type": "display_data"
    },
    {
     "data": {
      "text/markdown": [
       "Maka, keduanya tidak berkolerasi."
      ],
      "text/plain": [
       "<IPython.core.display.Markdown object>"
      ]
     },
     "metadata": {},
     "output_type": "display_data"
    }
   ],
   "source": [
    "korelasi(\"SumbuKecil\")"
   ]
  },
  {
   "cell_type": "markdown",
   "metadata": {},
   "source": [
    "#### Korelasi Keunikan dengan Kelas "
   ]
  },
  {
   "cell_type": "code",
   "execution_count": 68,
   "metadata": {},
   "outputs": [
    {
     "data": {
      "text/markdown": [
       "Scatterplot Keunikan dengan Kelas"
      ],
      "text/plain": [
       "<IPython.core.display.Markdown object>"
      ]
     },
     "metadata": {},
     "output_type": "display_data"
    },
    {
     "data": {
      "image/png": "[encoded data removed]",
      "text/plain": [
       "<Figure size 432x288 with 1 Axes>"
      ]
     },
     "metadata": {
      "needs_background": "light"
     },
     "output_type": "display_data"
    }
   ],
   "source": [
    "scatter(\"Keunikan\")"
   ]
  },
  {
   "cell_type": "code",
   "execution_count": 69,
   "metadata": {
    "scrolled": true
   },
   "outputs": [
    {
     "data": {
      "text/markdown": [
       "Nilai korelasi antara Keunikan dengan Kelas adalah = -0.7304563686511925"
      ],
      "text/plain": [
       "<IPython.core.display.Markdown object>"
      ]
     },
     "metadata": {},
     "output_type": "display_data"
    },
    {
     "data": {
      "text/markdown": [
       "Maka, keduanya memiliki korelasi yang berbanding terbalik."
      ],
      "text/plain": [
       "<IPython.core.display.Markdown object>"
      ]
     },
     "metadata": {},
     "output_type": "display_data"
    }
   ],
   "source": [
    "korelasi(\"Keunikan\")"
   ]
  },
  {
   "cell_type": "markdown",
   "metadata": {},
   "source": [
    "#### Korelasi AreaBulatan dengan Kelas"
   ]
  },
  {
   "cell_type": "code",
   "execution_count": 70,
   "metadata": {},
   "outputs": [
    {
     "data": {
      "text/markdown": [
       "Scatterplot AreaBulatan dengan Kelas"
      ],
      "text/plain": [
       "<IPython.core.display.Markdown object>"
      ]
     },
     "metadata": {},
     "output_type": "display_data"
    },
    {
     "data": {
      "image/png": "[encoded data removed]",
      "text/plain": [
       "<Figure size 432x288 with 1 Axes>"
      ]
     },
     "metadata": {
      "needs_background": "light"
     },
     "output_type": "display_data"
    }
   ],
   "source": [
    "scatter(\"AreaBulatan\")"
   ]
  },
  {
   "cell_type": "code",
   "execution_count": 71,
   "metadata": {},
   "outputs": [
    {
     "data": {
      "text/markdown": [
       "Nilai korelasi antara AreaBulatan dengan Kelas adalah = -0.6073125434153749"
      ],
      "text/plain": [
       "<IPython.core.display.Markdown object>"
      ]
     },
     "metadata": {},
     "output_type": "display_data"
    },
    {
     "data": {
      "text/markdown": [
       "Maka, keduanya memiliki korelasi yang berbanding terbalik."
      ],
      "text/plain": [
       "<IPython.core.display.Markdown object>"
      ]
     },
     "metadata": {},
     "output_type": "display_data"
    }
   ],
   "source": [
    "korelasi(\"AreaBulatan\")"
   ]
  },
  {
   "cell_type": "markdown",
   "metadata": {},
   "source": [
    "#### Korelasi Diameter dengan Kelas"
   ]
  },
  {
   "cell_type": "code",
   "execution_count": 72,
   "metadata": {},
   "outputs": [
    {
     "data": {
      "text/markdown": [
       "Scatterplot Diameter dengan Kelas"
      ],
      "text/plain": [
       "<IPython.core.display.Markdown object>"
      ]
     },
     "metadata": {},
     "output_type": "display_data"
    },
    {
     "data": {
      "image/png": "[encoded data removed]",
      "text/plain": [
       "<Figure size 432x288 with 1 Axes>"
      ]
     },
     "metadata": {
      "needs_background": "light"
     },
     "output_type": "display_data"
    }
   ],
   "source": [
    "scatter(\"Diameter\")"
   ]
  },
  {
   "cell_type": "code",
   "execution_count": 73,
   "metadata": {},
   "outputs": [
    {
     "data": {
      "text/markdown": [
       "Nilai korelasi antara Diameter dengan Kelas adalah = -0.6025356896618809"
      ],
      "text/plain": [
       "<IPython.core.display.Markdown object>"
      ]
     },
     "metadata": {},
     "output_type": "display_data"
    },
    {
     "data": {
      "text/markdown": [
       "Maka, keduanya memiliki korelasi yang berbanding terbalik."
      ],
      "text/plain": [
       "<IPython.core.display.Markdown object>"
      ]
     },
     "metadata": {},
     "output_type": "display_data"
    }
   ],
   "source": [
    "korelasi(\"Diameter\")"
   ]
  },
  {
   "cell_type": "markdown",
   "metadata": {},
   "source": [
    "#### Korelasi KadarAir dengan Kelas"
   ]
  },
  {
   "cell_type": "code",
   "execution_count": 74,
   "metadata": {},
   "outputs": [
    {
     "data": {
      "text/markdown": [
       "Scatterplot KadarAir dengan Kelas"
      ],
      "text/plain": [
       "<IPython.core.display.Markdown object>"
      ]
     },
     "metadata": {},
     "output_type": "display_data"
    },
    {
     "data": {
      "image/png": "[encoded data removed]",
      "text/plain": [
       "<Figure size 432x288 with 1 Axes>"
      ]
     },
     "metadata": {
      "needs_background": "light"
     },
     "output_type": "display_data"
    }
   ],
   "source": [
    "scatter(\"KadarAir\")"
   ]
  },
  {
   "cell_type": "code",
   "execution_count": 75,
   "metadata": {},
   "outputs": [
    {
     "data": {
      "text/markdown": [
       "Nilai korelasi antara KadarAir dengan Kelas adalah = 0.13434422605727636"
      ],
      "text/plain": [
       "<IPython.core.display.Markdown object>"
      ]
     },
     "metadata": {},
     "output_type": "display_data"
    },
    {
     "data": {
      "text/markdown": [
       "Maka, keduanya tidak berkolerasi."
      ],
      "text/plain": [
       "<IPython.core.display.Markdown object>"
      ]
     },
     "metadata": {},
     "output_type": "display_data"
    }
   ],
   "source": [
    "korelasi(\"KadarAir\")"
   ]
  },
  {
   "cell_type": "markdown",
   "metadata": {},
   "source": [
    "#### Korelasi Keliling dengan Kelas"
   ]
  },
  {
   "cell_type": "code",
   "execution_count": 76,
   "metadata": {},
   "outputs": [
    {
     "data": {
      "text/markdown": [
       "Scatterplot Keliling dengan Kelas"
      ],
      "text/plain": [
       "<IPython.core.display.Markdown object>"
      ]
     },
     "metadata": {},
     "output_type": "display_data"
    },
    {
     "data": {
      "image/png": "[encoded data removed]",
      "text/plain": [
       "<Figure size 432x288 with 1 Axes>"
      ]
     },
     "metadata": {
      "needs_background": "light"
     },
     "output_type": "display_data"
    }
   ],
   "source": [
    "scatter(\"Keliling\")"
   ]
  },
  {
   "cell_type": "code",
   "execution_count": 77,
   "metadata": {},
   "outputs": [
    {
     "data": {
      "text/markdown": [
       "Nilai korelasi antara Keliling dengan Kelas adalah = -0.6348607454756853"
      ],
      "text/plain": [
       "<IPython.core.display.Markdown object>"
      ]
     },
     "metadata": {},
     "output_type": "display_data"
    },
    {
     "data": {
      "text/markdown": [
       "Maka, keduanya memiliki korelasi yang berbanding terbalik."
      ],
      "text/plain": [
       "<IPython.core.display.Markdown object>"
      ]
     },
     "metadata": {},
     "output_type": "display_data"
    }
   ],
   "source": [
    "korelasi(\"Keliling\")"
   ]
  },
  {
   "cell_type": "markdown",
   "metadata": {},
   "source": [
    "#### Korelasi Bulatan dengan Kelas"
   ]
  },
  {
   "cell_type": "code",
   "execution_count": 78,
   "metadata": {},
   "outputs": [
    {
     "data": {
      "text/markdown": [
       "Scatterplot Bulatan dengan Kelas"
      ],
      "text/plain": [
       "<IPython.core.display.Markdown object>"
      ]
     },
     "metadata": {},
     "output_type": "display_data"
    },
    {
     "data": {
      "image/png": "[encoded data removed]",
      "text/plain": [
       "<Figure size 432x288 with 1 Axes>"
      ]
     },
     "metadata": {
      "needs_background": "light"
     },
     "output_type": "display_data"
    }
   ],
   "source": [
    "scatter(\"Bulatan\")"
   ]
  },
  {
   "cell_type": "code",
   "execution_count": 79,
   "metadata": {},
   "outputs": [
    {
     "data": {
      "text/markdown": [
       "Nilai korelasi antara Bulatan dengan Kelas adalah = 0.5450045317240069"
      ],
      "text/plain": [
       "<IPython.core.display.Markdown object>"
      ]
     },
     "metadata": {},
     "output_type": "display_data"
    },
    {
     "data": {
      "text/markdown": [
       "Maka, keduanya memiliki korelasi yang berbanding lurus."
      ],
      "text/plain": [
       "<IPython.core.display.Markdown object>"
      ]
     },
     "metadata": {},
     "output_type": "display_data"
    }
   ],
   "source": [
    "korelasi(\"Bulatan\")"
   ]
  },
  {
   "cell_type": "markdown",
   "metadata": {},
   "source": [
    "#### Korelasi Ransum dengan Kelas"
   ]
  },
  {
   "cell_type": "code",
   "execution_count": 80,
   "metadata": {},
   "outputs": [
    {
     "data": {
      "text/markdown": [
       "Scatterplot Ransum dengan Kelas"
      ],
      "text/plain": [
       "<IPython.core.display.Markdown object>"
      ]
     },
     "metadata": {},
     "output_type": "display_data"
    },
    {
     "data": {
      "image/png": "[encoded data removed]",
      "text/plain": [
       "<Figure size 432x288 with 1 Axes>"
      ]
     },
     "metadata": {
      "needs_background": "light"
     },
     "output_type": "display_data"
    }
   ],
   "source": [
    "scatter(\"Ransum\")"
   ]
  },
  {
   "cell_type": "code",
   "execution_count": 81,
   "metadata": {},
   "outputs": [
    {
     "data": {
      "text/markdown": [
       "Nilai korelasi antara Ransum dengan Kelas adalah = -0.8399038681287486"
      ],
      "text/plain": [
       "<IPython.core.display.Markdown object>"
      ]
     },
     "metadata": {},
     "output_type": "display_data"
    },
    {
     "data": {
      "text/markdown": [
       "Maka, keduanya memiliki korelasi yang berbanding terbalik."
      ],
      "text/plain": [
       "<IPython.core.display.Markdown object>"
      ]
     },
     "metadata": {},
     "output_type": "display_data"
    }
   ],
   "source": [
    "korelasi(\"Ransum\")"
   ]
  }
 ],
 "metadata": {
  "kernelspec": {
   "display_name": "Python 3",
   "language": "python",
   "name": "python3"
  },
  "language_info": {
   "codemirror_mode": {
    "name": "ipython",
    "version": 3
   },
   "file_extension": ".py",
   "mimetype": "text/x-python",
   "name": "python",
   "nbconvert_exporter": "python",
   "pygments_lexer": "ipython3",
   "version": "3.8.5"
  }
 },
 "nbformat": 4,
 "nbformat_minor": 2
}
