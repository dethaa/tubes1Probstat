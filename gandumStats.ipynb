{
 "cells": [
  {
   "cell_type": "code",
   "execution_count": 6,
   "metadata": {},
   "outputs": [
    {
     "name": "stdout",
     "output_type": "stream",
     "text": [
      "Lima data pertama: \n",
      "   id  Daerah  SumbuUtama  SumbuKecil  Keunikan  AreaBulatan   Diameter  \\\n",
      "0   1    5781  128.288875   58.470846  0.890095         5954  85.793926   \n",
      "1   2    4176  109.348294   49.837688  0.890098         4277  72.918093   \n",
      "2   3    4555  114.427991   52.151207  0.890105         4706  76.155145   \n",
      "3   4    4141  108.701190   49.457349  0.890499         4236  72.611879   \n",
      "4   5    5273  122.747868   55.757848  0.890876         5431  81.937733   \n",
      "\n",
      "   KadarAir  Keliling   Bulatan    Ransum  Kelas  \n",
      "0  0.674090   316.756  0.724041  2.194066      1  \n",
      "1  0.596231   260.346  0.774227  2.194088      1  \n",
      "2  0.776641   279.606  0.732159  2.194158      1  \n",
      "3  0.633180   260.478  0.766961  2.197877      1  \n",
      "4  0.669842   302.730  0.723031  2.201446      1  \n"
     ]
    }
   ],
   "source": [
    "import pandas as pd\n",
    "import numpy as np\n",
    "\n",
    "df = pd.read_csv('Gandum2.csv')\n",
    "print('Lima data pertama: ')\n",
    "print(df[:5])\n"
   ]
  },
  {
   "cell_type": "code",
   "execution_count": 7,
   "metadata": {},
   "outputs": [
    {
     "name": "stdout",
     "output_type": "stream",
     "text": [
      "                  id         Daerah  SumbuUtama  SumbuKecil  Keunikan  \\\n",
      "mean      250.500000    4801.246000  116.045171   53.715246  0.878764   \n",
      "median    250.500000    4735.000000  115.405140   53.731199  0.890045   \n",
      "mode        1.000000    3992.000000   74.133114   39.906517  0.719916   \n",
      "std       144.481833     986.395491   18.282626    4.071075  0.036586   \n",
      "var     20875.000000  972976.065615  334.254412   16.573650  0.001339   \n",
      "range     499.000000    4931.000000  153.795469   29.071182  0.194085   \n",
      "min         1.000000    2522.000000   74.133114   39.906517  0.719916   \n",
      "max       500.000000    7453.000000  227.928583   68.977700  0.914001   \n",
      "25%       125.750000    4042.750000  104.116098   51.193576  0.863676   \n",
      "50%       250.500000    4735.000000  115.405140   53.731199  0.890045   \n",
      "75%       375.250000    5495.500000  129.046792   56.325158  0.907578   \n",
      "skew        0.000000       0.238144    0.761529   -0.010828 -1.623472   \n",
      "kurt       -1.200000      -0.434631    4.330534    0.475568  2.917256   \n",
      "iqr       249.500000    1452.750000   24.930694    5.131582  0.043902   \n",
      "\n",
      "         AreaBulatan   Diameter  KadarAir     Keliling    Bulatan    Ransum  \\\n",
      "mean    4.937048e+03  77.771158  0.648372   281.479722   0.761737  2.150915   \n",
      "median  4.857000e+03  77.645277  0.626117   280.045500   0.761288  2.193599   \n",
      "mode    3.802000e+03  71.293564  0.735849   197.015000   0.174590  1.440796   \n",
      "std     1.011696e+03   8.056867  0.094367    37.335402   0.061702  0.249767   \n",
      "var     1.023529e+06  64.913111  0.008905  1393.932221   0.003807  0.062383   \n",
      "range   5.141000e+03  40.747172  0.468972   291.822000   0.730158  1.024013   \n",
      "min     2.579000e+03  56.666658  0.409927   197.015000   0.174590  1.440796   \n",
      "max     7.720000e+03  97.413830  0.878899   488.837000   0.904748  2.464809   \n",
      "25%     4.170250e+03  71.745308  0.572632   255.883000   0.731991  1.983939   \n",
      "50%     4.857000e+03  77.645277  0.626117   280.045500   0.761288  2.193599   \n",
      "75%     5.654250e+03  83.648598  0.726633   306.062500   0.796361  2.381612   \n",
      "skew    2.575600e-01   0.002725  0.493661     0.733627  -3.599237 -0.658188   \n",
      "kurt   -4.096849e-01  -0.466455 -0.740326     2.272685  29.975096 -0.428656   \n",
      "iqr     1.484000e+03  11.903290  0.154001    50.179500   0.064370  0.397673   \n",
      "\n",
      "           Kelas  \n",
      "mean    1.502000  \n",
      "median  2.000000  \n",
      "mode    2.000000  \n",
      "std     0.500497  \n",
      "var     0.250497  \n",
      "range   1.000000  \n",
      "min     1.000000  \n",
      "max     2.000000  \n",
      "25%     1.000000  \n",
      "50%     2.000000  \n",
      "75%     2.000000  \n",
      "skew   -0.008024  \n",
      "kurt   -2.007984  \n",
      "iqr     1.000000  \n"
     ]
    }
   ],
   "source": [
    "#NOMOR 1\n",
    "stats = df.describe().loc[['mean']]\n",
    "stats.loc['median'] = df.describe().loc['50%'].tolist()\n",
    "stats.loc['mode'] = df.mode()[:1].max().tolist()\n",
    "stats.loc['std'] = df.std().tolist()\n",
    "stats.loc['var'] = df.var().tolist()\n",
    "stats.loc['range'] = (df.max() - df.min()).tolist()\n",
    "stats = stats.append(df.describe().loc[['min','max','25%','50%','75%']])\n",
    "stats.loc['skew'] = df.skew().tolist()\n",
    "stats.loc['kurt'] = df.kurtosis().tolist()\n",
    "stats.loc['iqr'] = (stats.loc['75%'] - stats.loc['25%']).tolist()\n",
    "print(stats)"
   ]
  },
  {
   "cell_type": "code",
   "execution_count": null,
   "metadata": {
    "scrolled": true
   },
   "outputs": [],
   "source": []
  },
  {
   "cell_type": "markdown",
   "metadata": {},
   "source": []
  },
  {
   "cell_type": "code",
   "execution_count": null,
   "metadata": {},
   "outputs": [],
   "source": []
  },
  {
   "cell_type": "code",
   "execution_count": null,
   "metadata": {},
   "outputs": [],
   "source": []
  },
  {
   "cell_type": "code",
   "execution_count": null,
   "metadata": {},
   "outputs": [],
   "source": []
  },
  {
   "cell_type": "code",
   "execution_count": null,
   "metadata": {},
   "outputs": [],
   "source": []
  },
  {
   "cell_type": "code",
   "execution_count": null,
   "metadata": {},
   "outputs": [],
   "source": []
  },
  {
   "cell_type": "code",
   "execution_count": null,
   "metadata": {},
   "outputs": [],
   "source": []
  }
 ],
 "metadata": {
  "kernelspec": {
   "display_name": "Python 3",
   "language": "python",
   "name": "python3"
  },
  "language_info": {
   "codemirror_mode": {
    "name": "ipython",
    "version": 3
   },
   "file_extension": ".py",
   "mimetype": "text/x-python",
   "name": "python",
   "nbconvert_exporter": "python",
   "pygments_lexer": "ipython3",
   "version": "3.8.5"
  }
 },
 "nbformat": 4,
 "nbformat_minor": 2
}
