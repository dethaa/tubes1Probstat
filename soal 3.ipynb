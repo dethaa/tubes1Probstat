{
 "cells": [
  {
   "cell_type": "markdown",
   "metadata": {},
   "source": [
    "### 3. Normality Test"
   ]
  },
  {
   "cell_type": "code",
   "execution_count": 1,
   "metadata": {},
   "outputs": [],
   "source": [
    "from scipy import stats\n",
    "import pandas as pd\n",
    "data = pd.read_csv('Gandum.csv')"
   ]
  },
  {
   "cell_type": "markdown",
   "metadata": {},
   "source": [
    "#### Kolom ID"
   ]
  },
  {
   "cell_type": "code",
   "execution_count": 10,
   "metadata": {},
   "outputs": [
    {
     "name": "stdout",
     "output_type": "stream",
     "text": [
      "Hasil Shapiro-Wilk Normality Test\n",
      "\n",
      "W = 0.9547221064567566\n",
      "p = 2.945410582100294e-11\n"
     ]
    }
   ],
   "source": [
    "w, p = stats.shapiro(data['id'])\n",
    "print(\"Hasil Shapiro-Wilk Normality Test\")\n",
    "print(\"\")\n",
    "print(\"W = {}\" .format(w))\n",
    "print(\"p = {}\" .format(p))"
   ]
  },
  {
   "cell_type": "markdown",
   "metadata": {},
   "source": [
    "Analisis: Bukan data numerik"
   ]
  },
  {
   "cell_type": "markdown",
   "metadata": {},
   "source": [
    "#### Kolom Daerah"
   ]
  },
  {
   "cell_type": "code",
   "execution_count": 11,
   "metadata": {},
   "outputs": [
    {
     "name": "stdout",
     "output_type": "stream",
     "text": [
      "Hasil Shapiro-Wilk Normality Test\n",
      "\n",
      "W = 0.9907860159873962\n",
      "p = 0.003270698245614767\n"
     ]
    }
   ],
   "source": [
    "w, p = stats.shapiro(data['Daerah'])\n",
    "print(\"Hasil Shapiro-Wilk Normality Test\")\n",
    "print(\"\")\n",
    "print(\"W = {}\" .format(w))\n",
    "print(\"p = {}\" .format(p))"
   ]
  },
  {
   "cell_type": "markdown",
   "metadata": {},
   "source": [
    "Analisis: Data tidak berdistribusi normal dan hal ini dapat dilihat dari histogram plot yang menunjukkan skewness positif yang menunjukkan median lebih kecil dari mean, artinya tidak berdistribusi normal."
   ]
  },
  {
   "cell_type": "markdown",
   "metadata": {},
   "source": [
    "#### Kolom Sumbu Utama"
   ]
  },
  {
   "cell_type": "code",
   "execution_count": 13,
   "metadata": {},
   "outputs": [
    {
     "name": "stdout",
     "output_type": "stream",
     "text": [
      "Hasil Shapiro-Wilk Normality Test\n",
      "\n",
      "W = 0.9513812065124512\n",
      "p = 9.236201213569384e-12\n"
     ]
    }
   ],
   "source": [
    "w, p = stats.shapiro(data['SumbuUtama'])\n",
    "print(\"Hasil Shapiro-Wilk Normality Test\")\n",
    "print(\"\")\n",
    "print(\"W = {}\" .format(w))\n",
    "print(\"p = {}\" .format(p))"
   ]
  },
  {
   "cell_type": "markdown",
   "metadata": {},
   "source": [
    "Analisis: Data tidak berdistribusi normal dan hal ini dapat dilihat dari histogram plot yang menunjukkan skewness positif yang menunjukkan median lebih kecil dari mean, artinya tidak berdistribusi normal."
   ]
  },
  {
   "cell_type": "markdown",
   "metadata": {},
   "source": [
    "#### Kolom Sumbu Kecil"
   ]
  },
  {
   "cell_type": "code",
   "execution_count": 15,
   "metadata": {},
   "outputs": [
    {
     "name": "stdout",
     "output_type": "stream",
     "text": [
      "Hasil Shapiro-Wilk Normality Test\n",
      "\n",
      "W = 0.996778666973114\n",
      "p = 0.4234558641910553\n"
     ]
    }
   ],
   "source": [
    "w, p = stats.shapiro(data['SumbuKecil'])\n",
    "print(\"Hasil Shapiro-Wilk Normality Test\")\n",
    "print(\"\")\n",
    "print(\"W = {}\" .format(w))\n",
    "print(\"p = {}\" .format(p))"
   ]
  },
  {
   "cell_type": "markdown",
   "metadata": {},
   "source": [
    "Analisis: Data berdistribusi normal dan hal ini dapat dilihat dari histogram plot yang memiliki skewness simetris."
   ]
  },
  {
   "cell_type": "markdown",
   "metadata": {},
   "source": [
    "#### Kolom Keunikan"
   ]
  },
  {
   "cell_type": "code",
   "execution_count": 16,
   "metadata": {},
   "outputs": [
    {
     "name": "stdout",
     "output_type": "stream",
     "text": [
      "Hasil Shapiro-Wilk Normality Test\n",
      "\n",
      "W = 0.8309029340744019\n",
      "p = 1.3151663082081454e-22\n"
     ]
    }
   ],
   "source": [
    "w, p = stats.shapiro(data['Keunikan'])\n",
    "print(\"Hasil Shapiro-Wilk Normality Test\")\n",
    "print(\"\")\n",
    "print(\"W = {}\" .format(w))\n",
    "print(\"p = {}\" .format(p))"
   ]
  },
  {
   "cell_type": "markdown",
   "metadata": {},
   "source": [
    "Analisis: Data tidak berdistribusi normal dan hal ini dapat dilihat dari histogram yang memiliki skewness negatif sehingga median lebih besar daripada mean."
   ]
  },
  {
   "cell_type": "markdown",
   "metadata": {},
   "source": [
    "#### Kolom Area Bulatan"
   ]
  },
  {
   "cell_type": "code",
   "execution_count": 18,
   "metadata": {},
   "outputs": [
    {
     "name": "stdout",
     "output_type": "stream",
     "text": [
      "Hasil Shapiro-Wilk Normality Test\n",
      "\n",
      "W = 0.990435779094696\n",
      "p = 0.0024847122840583324\n"
     ]
    }
   ],
   "source": [
    "w, p = stats.shapiro(data['AreaBulatan'])\n",
    "print(\"Hasil Shapiro-Wilk Normality Test\")\n",
    "print(\"\")\n",
    "print(\"W = {}\" .format(w))\n",
    "print(\"p = {}\" .format(p))"
   ]
  },
  {
   "cell_type": "markdown",
   "metadata": {},
   "source": [
    "Analisis: Data tidak berdistribusi normal dan hal ini dapat dilihat dari histogram plot yang menunjukkan skewness positif yang menunjukkan median lebih kecil dari mean, artinya tidak berdistribusi normal."
   ]
  },
  {
   "cell_type": "markdown",
   "metadata": {},
   "source": [
    "#### Kolom Diameter"
   ]
  },
  {
   "cell_type": "code",
   "execution_count": 19,
   "metadata": {},
   "outputs": [
    {
     "name": "stdout",
     "output_type": "stream",
     "text": [
      "Hasil Shapiro-Wilk Normality Test\n",
      "\n",
      "W = 0.9951366186141968\n",
      "p = 0.11834503710269928\n"
     ]
    }
   ],
   "source": [
    "w, p = stats.shapiro(data['Diameter'])\n",
    "print(\"Hasil Shapiro-Wilk Normality Test\")\n",
    "print(\"\")\n",
    "print(\"W = {}\" .format(w))\n",
    "print(\"p = {}\" .format(p))"
   ]
  },
  {
   "cell_type": "markdown",
   "metadata": {},
   "source": [
    "Analisis: Data berdistribusi normal dan hal ini dapat dilihat dari histogram plot yang memiliki skewness simetris."
   ]
  },
  {
   "cell_type": "markdown",
   "metadata": {},
   "source": [
    "#### Kolom Kadar Air"
   ]
  },
  {
   "cell_type": "code",
   "execution_count": 22,
   "metadata": {},
   "outputs": [
    {
     "name": "stdout",
     "output_type": "stream",
     "text": [
      "Hasil Shapiro-Wilk Normality Test\n",
      "\n",
      "W = 0.9466671347618103\n",
      "p = 1.959499836695633e-12\n"
     ]
    }
   ],
   "source": [
    "w, p = stats.shapiro(data['KadarAir'])\n",
    "print(\"Hasil Shapiro-Wilk Normality Test\")\n",
    "print(\"\")\n",
    "print(\"W = {}\" .format(w))\n",
    "print(\"p = {}\" .format(p))"
   ]
  },
  {
   "cell_type": "markdown",
   "metadata": {},
   "source": [
    "Analisis: Data tidak berdistribusi normal dan hal ini dapat dilihat dari histogram plot yang menunjukkan skewness positif yang menunjukkan median lebih kecil dari mean, artinya tidak berdistribusi normal."
   ]
  },
  {
   "cell_type": "markdown",
   "metadata": {},
   "source": [
    "#### Kolom Keliling "
   ]
  },
  {
   "cell_type": "code",
   "execution_count": 23,
   "metadata": {},
   "outputs": [
    {
     "name": "stdout",
     "output_type": "stream",
     "text": [
      "Hasil Shapiro-Wilk Normality Test\n",
      "\n",
      "W = 0.9692449569702148\n",
      "p = 9.728394090302572e-09\n"
     ]
    }
   ],
   "source": [
    "w, p = stats.shapiro(data['Keliling'])\n",
    "print(\"Hasil Shapiro-Wilk Normality Test\")\n",
    "print(\"\")\n",
    "print(\"W = {}\" .format(w))\n",
    "print(\"p = {}\" .format(p))"
   ]
  },
  {
   "cell_type": "markdown",
   "metadata": {},
   "source": [
    "Analisis: Data tidak berdistribusi normal dan hal ini dapat dilihat dari histogram plot yang menunjukkan skewness positif yang menunjukkan median lebih kecil dari mean, artinya tidak berdistribusi normal."
   ]
  },
  {
   "cell_type": "markdown",
   "metadata": {},
   "source": [
    "#### Kolom Bulatan"
   ]
  },
  {
   "cell_type": "code",
   "execution_count": 24,
   "metadata": {},
   "outputs": [
    {
     "name": "stdout",
     "output_type": "stream",
     "text": [
      "Hasil Shapiro-Wilk Normality Test\n",
      "\n",
      "W = 0.7697757482528687\n",
      "p = 6.899158691421287e-26\n"
     ]
    }
   ],
   "source": [
    "w, p = stats.shapiro(data['Bulatan'])\n",
    "print(\"Hasil Shapiro-Wilk Normality Test\")\n",
    "print(\"\")\n",
    "print(\"W = {}\" .format(w))\n",
    "print(\"p = {}\" .format(p))"
   ]
  },
  {
   "cell_type": "markdown",
   "metadata": {},
   "source": [
    "Analisis: Data berdistribusi normal dan hal ini dapat dilihat dari histogram yang memiliki skewness negatif sehingga median lebih besar daripada mean."
   ]
  },
  {
   "cell_type": "markdown",
   "metadata": {},
   "source": [
    "#### Kolom Ransum"
   ]
  },
  {
   "cell_type": "code",
   "execution_count": 25,
   "metadata": {},
   "outputs": [
    {
     "name": "stdout",
     "output_type": "stream",
     "text": [
      "Hasil Shapiro-Wilk Normality Test\n",
      "\n",
      "W = 0.9265043139457703\n",
      "p = 6.245541108888591e-15\n"
     ]
    }
   ],
   "source": [
    "w, p = stats.shapiro(data['Ransum'])\n",
    "print(\"Hasil Shapiro-Wilk Normality Test\")\n",
    "print(\"\")\n",
    "print(\"W = {}\" .format(w))\n",
    "print(\"p = {}\" .format(p))"
   ]
  },
  {
   "cell_type": "markdown",
   "metadata": {},
   "source": [
    "Analisis: Data berdistribusi normal dan hal ini dapat dilihat dari histogram yang memiliki skewness negatif sehingga median lebih besar daripada mean."
   ]
  },
  {
   "cell_type": "markdown",
   "metadata": {},
   "source": [
    "#### Kolom Kelas"
   ]
  },
  {
   "cell_type": "code",
   "execution_count": 26,
   "metadata": {},
   "outputs": [
    {
     "name": "stdout",
     "output_type": "stream",
     "text": [
      "Hasil Shapiro-Wilk Normality Test\n",
      "\n",
      "W = 0.6365421414375305\n",
      "p = 3.5514183439331154e-31\n"
     ]
    }
   ],
   "source": [
    "w, p = stats.shapiro(data['Kelas'])\n",
    "print(\"Hasil Shapiro-Wilk Normality Test\")\n",
    "print(\"\")\n",
    "print(\"W = {}\" .format(w))\n",
    "print(\"p = {}\" .format(p))"
   ]
  },
  {
   "cell_type": "markdown",
   "metadata": {},
   "source": [
    "Analisis: Bukan merupakan data numerik"
   ]
  }
 ],
 "metadata": {
  "kernelspec": {
   "display_name": "Python 3",
   "language": "python",
   "name": "python3"
  },
  "language_info": {
   "codemirror_mode": {
    "name": "ipython",
    "version": 3
   },
   "file_extension": ".py",
   "mimetype": "text/x-python",
   "name": "python",
   "nbconvert_exporter": "python",
   "pygments_lexer": "ipython3",
   "version": "3.8.5"
  }
 },
 "nbformat": 4,
 "nbformat_minor": 4
}
